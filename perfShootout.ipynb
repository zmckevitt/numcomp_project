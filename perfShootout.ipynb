{
 "cells": [
  {
   "cell_type": "markdown",
   "id": "8f4a3ab4-46eb-42f7-9886-9d92d703df17",
   "metadata": {},
   "source": [
    "# Welcome! #\n",
    "## Enzyme and Zygote Performance Shootout ##\n",
    "\n",
    "### Project Information ###\n",
    "\n",
    "If you're interested in seeing a project synopsis and the benchmarks for performance we'll measuring, please take a look at our project documentation. \n",
    "\n",
    "### What Now? ###\n",
    "\n",
    "Let's start by setting up Enzyme and Zygote in our environment to start testing some differentiation. Our primary benchmark is the physical timing of a differentiation operation. In order to measure this we will simply be using the `@time` Julia method. These times will then be compared to measure how fast differentiation is actually done, along with comparing other important benchmarks.\n",
    "\n",
    "#### Import the Packages ####"
   ]
  },
  {
   "cell_type": "code",
   "execution_count": null,
   "id": "6e90859f-b2bf-4445-841b-5bb7a1842f19",
   "metadata": {},
   "outputs": [],
   "source": [
    "using Pkg\n",
    "\n",
    "Pkg.add(\"Enzyme\")\n",
    "Pkg.add(\"Zygote\")\n",
    "Pkg.add(\"Plots\")"
   ]
  },
  {
   "cell_type": "code",
   "execution_count": null,
   "id": "ea6ab306-c25b-447f-93b5-b1fd78f86453",
   "metadata": {},
   "outputs": [],
   "source": [
    "using Zygote\n",
    "using Enzyme\n",
    "using Plots"
   ]
  },
  {
   "cell_type": "markdown",
   "id": "00e47575-cc71-4117-902e-a26381f3430f",
   "metadata": {},
   "source": [
    "#### What Next? ####\n",
    "\n",
    "Now that the packages have been added to the environment, we can start testing them out. First, a quick demonstration of the timing function we will be using. "
   ]
  },
  {
   "cell_type": "code",
   "execution_count": null,
   "id": "c69fc010-4ab8-4f4c-bded-1ee063914f2b",
   "metadata": {},
   "outputs": [],
   "source": [
    "function fib(n)\n",
    "    if n <= 1\n",
    "        return 1\n",
    "    else\n",
    "        return fib(n - 1) + fib(n - 2)\n",
    "    end\n",
    "end\n",
    "    \n",
    "@time fib(20)"
   ]
  },
  {
   "cell_type": "markdown",
   "id": "47db2c2e-b529-4fa7-a597-e5abfa5039a1",
   "metadata": {},
   "source": [
    "#### Functions ####\n",
    "\n",
    "For this shootout we will be handling differentiation for rootfinding problems. Specifically, we will be testing differentiation efficiency for aiding five different rootfinding algorithms, being Halley's, Golbabai-Javidi, Newton's, Noor's, and Zhanlav's Method.\n",
    "\n",
    "Those methods look like such:\n",
    "\n",
    "**Halley's Method**\n",
    "\n",
    "$x_{n + 1} = x_{n} - \\frac{2f(x_n)f^{\\prime}(x_n)}{2f^{\\prime}(x_n)^2 - f(x_n)f^{\\prime \\prime}(x_n)}$\n",
    "\n",
    "**Golbabai-Javidi Method**\n",
    "\n",
    "$x_{n + 1} = x_{n} - \\frac{f(x_n)}{f^{\\prime}(x_n)} - \\frac{f(x_n)f^{\\prime \\prime}(x_n)}{2(f^{\\prime \\prime \\prime}(x_n) - f(x_n)f^{\\prime}(x_n)f^{\\prime \\prime}(x_n))}$\n",
    "\n",
    "**Newton's Method**\n",
    "\n",
    "$x_{n + 1} = x_{n} - \\frac{f(x_n)}{f^{\\prime}(x_n)}$\n",
    "\n",
    "**Noor's Method**\n",
    "\n",
    "$y_n = x_n - \\frac{f(x_n)}{f^{\\prime}(x_n)}$\n",
    "\n",
    "$x_{n + 1} = x_{n} - \\frac{f(x_n)}{f^{\\prime}(x_n)} + (\\frac{f(x_n)}{f^{\\prime}(x_n)})\\frac{f^{\\prime}(y_n)}{f^{\\prime}(x_n)}$\n",
    "\n",
    "**Zhanlav's Method**\n",
    "\n",
    "$z_n = y_n - \\frac{f(y_n)}{f^{\\prime}(y_n)}$\n",
    "\n",
    "$q_n = z_n - \\frac{f(z_n)}{f^{\\prime}(y_n)}$\n",
    "\n",
    "$y_{n + 1} = z_n - \\frac{f(z_n) + f(q_n)}{f^{\\prime}(y_n)}$\n",
    "\n",
    "Before implementation of these various rootfinding algorithms, however, we can demonstrate some fairly basic differentiation using some basic functions below. This, similar to the time test, will present the methods we will be using and how they work.\n",
    "\n",
    "We will be performing both of these tests using Enzyme and Zygote on three different functions, which will be defined below.\n",
    "\n",
    "#### Test Functions ####\n",
    "\n",
    "$f(x) = 5x^{10}$\n",
    "\n",
    "$g(x) = sin(x)^2 + 3x^3(cos(x) - 10x)$\n",
    "\n",
    "$h(x) = e^{\\frac{5x}{2}(sin(x)^{e^x})}$\n",
    "\n",
    "#### Zygote Method ####\n",
    "\n",
    "Zygote is the auto differentiation tool specifically made for Julia and uses the `gradient` method for computing derivatives. Here's some implementations using our three functions.\n",
    "\n",
    "#### Function One ####"
   ]
  },
  {
   "cell_type": "code",
   "execution_count": null,
   "id": "70ad8b04-5073-471c-9f83-ef7200cdac96",
   "metadata": {},
   "outputs": [],
   "source": [
    "f(x) = 5x^10"
   ]
  },
  {
   "cell_type": "code",
   "execution_count": null,
   "id": "2f9399cf-6ac6-40be-86d4-20d566398b1d",
   "metadata": {},
   "outputs": [],
   "source": [
    "gf(x) = sin(x)^2 + 3x^3 * (cos(x) - 10x)"
   ]
  },
  {
   "cell_type": "code",
   "execution_count": null,
   "id": "50e1dfa3-9e96-4ee7-b7f3-6c95a6595fe2",
   "metadata": {},
   "outputs": [],
   "source": [
    "hf(x) = exp((5x / 2) * (sin(x)^(exp(x))))"
   ]
  },
  {
   "cell_type": "markdown",
   "id": "2826cbdd-47dc-4168-a322-890fe68b3583",
   "metadata": {},
   "source": [
    "Below are implementations of these root finding algorithms using Enzyme and Zygote:"
   ]
  },
  {
   "cell_type": "markdown",
   "id": "3d9ea0b4-7650-4a08-9663-efda95e79ffc",
   "metadata": {},
   "source": [
    "# Newton's with Enzyme #"
   ]
  },
  {
   "cell_type": "code",
   "execution_count": null,
   "id": "aba46eec-f308-459c-9cf1-cd0026503b25",
   "metadata": {},
   "outputs": [],
   "source": [
    "\n",
    "    # testing Newton's with Enzyme\n",
    "\n",
    "function newton(f, x0; tol=1e-8, verbose=false)\n",
    "    x = x0\n",
    "    for k in 1:100 # max number of iterations\n",
    "        fx = f(x)\n",
    "        fpx = first(Enzyme.autodiff(f, Active(x)))\n",
    "        if verbose\n",
    "            println(\"[$k] x=$x  f(x)=$fx  f'(x)=$fpx\")\n",
    "        end\n",
    "        if abs(fx) < tol\n",
    "            return x, fx, k\n",
    "        end\n",
    "        x = x - fx / fpx\n",
    "    end  \n",
    "end\n",
    "\n",
    "f(x) = cos(x) - x\n",
    "newton(f, 1; tol=1e-15, verbose=true)"
   ]
  },
  {
   "cell_type": "markdown",
   "id": "d6c968b5-2cc8-4e1b-90aa-33ec2a9e8e91",
   "metadata": {},
   "source": [
    "# Newton's with Zygote #"
   ]
  },
  {
   "cell_type": "code",
   "execution_count": null,
   "id": "f447adfb-8563-4677-9f44-0ed874693c30",
   "metadata": {},
   "outputs": [],
   "source": [
    "\n",
    "    # testing Newton's with Zygote\n",
    "\n",
    "function newton(f, x0; tol=1e-8, verbose=false)\n",
    "    x = x0\n",
    "    for k in 1:100 # max number of iterations\n",
    "        fx = f(x)\n",
    "        fpx = first(Zygote.gradient(f, x))\n",
    "        if verbose\n",
    "            println(\"[$k] x=$x  f(x)=$fx  f'(x)=$fpx\")\n",
    "        end\n",
    "        if abs(fx) < tol\n",
    "            return x, fx, k\n",
    "        end\n",
    "        x = x - fx / fpx\n",
    "    end  \n",
    "end\n",
    "\n",
    "f(x) = cos(x) - x\n",
    "newton(f, 1; tol=1e-15, verbose=true)"
   ]
  },
  {
   "cell_type": "markdown",
   "id": "0b22bf03-189c-4d98-a767-a26326081caf",
   "metadata": {},
   "source": [
    "# Halley's with Enzyme #"
   ]
  },
  {
   "cell_type": "code",
   "execution_count": null,
   "id": "5073decd-4054-4985-8a9c-589b02562d9a",
   "metadata": {},
   "outputs": [],
   "source": [
    "\n",
    "    # halley's method with Enzyme\n",
    "\n",
    "function halley(f, x0; tol=1e-8, verbose=false)\n",
    "    x = x0\n",
    "    for k in 1:100 # max number of iterations\n",
    "        fx = f(x)\n",
    "        fpx = first(Enzyme.autodiff(f, Active(x)))\n",
    "        fppx = first(Enzyme.autodiff(f, Active(fpx)))\n",
    "        if verbose\n",
    "            println(\"[$k] x=$x  f(x)=$fx  f'(x)=$fpx\")\n",
    "        end\n",
    "        if abs(fx) < tol\n",
    "            return x, fx, k\n",
    "        end\n",
    "        x = x - (2 * fx * fpx) / (2 * fpx^2 - fx * fppx)\n",
    "    end  \n",
    "end\n",
    "\n",
    "f(x) = cos(x) - x\n",
    "halley(f, 1; tol=1e-15, verbose=true)"
   ]
  },
  {
   "cell_type": "markdown",
   "id": "688d57dd-e5ac-4f64-9cf6-59dac265e771",
   "metadata": {},
   "source": [
    "# Halley's with Zygote #"
   ]
  },
  {
   "cell_type": "code",
   "execution_count": null,
   "id": "a1b58e3c-ace6-4f16-b6c9-dfb37df3fa15",
   "metadata": {},
   "outputs": [],
   "source": [
    "\n",
    "    # halley's method with Zygote\n",
    "\n",
    "function halley(f, x0; tol=1e-8, verbose=false)\n",
    "    x = x0\n",
    "    for k in 1:100 # max number of iterations\n",
    "        fx = f(x)\n",
    "        fpx = first(Zygote.gradient(f, x))\n",
    "        fppx = first(Zygote.gradient(f, fpx))\n",
    "        if verbose\n",
    "            println(\"[$k] x=$x  f(x)=$fx  f'(x)=$fpx\")\n",
    "        end\n",
    "        if abs(fx) < tol\n",
    "            return x, fx, k\n",
    "        end\n",
    "        x = x - (2 * fx * fpx) / (2 * fpx^2 - fx * fppx)\n",
    "    end  \n",
    "end\n",
    "\n",
    "f(x) = cos(x) - x\n",
    "halley(f, 1; tol=1e-15, verbose=true)"
   ]
  },
  {
   "cell_type": "markdown",
   "id": "3e6259e8-8aff-409f-905d-8afc3ec8508d",
   "metadata": {},
   "source": [
    "# Golbabai-Javidi's with Enzyme #"
   ]
  },
  {
   "cell_type": "code",
   "execution_count": null,
   "id": "84fcda80-5290-4dec-9694-652459ee0130",
   "metadata": {},
   "outputs": [],
   "source": [
    "\n",
    "    # Golbabai-Javidi's method with Enzyme\n",
    "\n",
    "function GJ(f, x0; tol=1e-8, verbose=false)\n",
    "    x = x0\n",
    "    for k in 1:100 # max number of iterations\n",
    "        fx = f(x)\n",
    "        fpx = first(Enzyme.autodiff(f, Active(x)))\n",
    "        fppx = first(Enzyme.autodiff(f, Active(fpx)))\n",
    "        fpppx = first(Enzyme.autodiff(f, Active(fppx)))\n",
    "        if verbose\n",
    "            println(\"[$k] x=$x  f(x)=$fx  f'(x)=$fpx\")\n",
    "        end\n",
    "        if abs(fx) < tol\n",
    "            return x, fx, k\n",
    "        end\n",
    "        x = x - (fx / fpx) - ((fx * fppx) / (2 * (fpppx - (fx * fpx * fppx))))\n",
    "    end  \n",
    "end\n",
    "\n",
    "f(x) = cos(x) - x\n",
    "GJ(f, 1; tol=1e-15, verbose=true)"
   ]
  },
  {
   "cell_type": "markdown",
   "id": "6bc9f270-cc54-4ef8-8675-17c18dc7765d",
   "metadata": {},
   "source": [
    "# Golbabai-Javidi's with Zygote #"
   ]
  },
  {
   "cell_type": "code",
   "execution_count": null,
   "id": "aa650a2e-7815-4cd5-b2ff-df68411cb86a",
   "metadata": {},
   "outputs": [],
   "source": [
    "\n",
    "    # Golbabai-Javidi's method with Zygote\n",
    "\n",
    "function GJ(f, x0; tol=1e-8, verbose=false)\n",
    "    x = x0\n",
    "    for k in 1:100 # max number of iterations\n",
    "        fx = f(x)\n",
    "        fpx = first(Zygote.gradient(f, x))\n",
    "        fppx = first(Zygote.gradient(f, fpx))\n",
    "        fpppx = first(Zygote.gradient(f, fppx))\n",
    "        if verbose\n",
    "            println(\"[$k] x=$x  f(x)=$fx  f'(x)=$fpx\")\n",
    "        end\n",
    "        if abs(fx) < tol\n",
    "            return x, fx, k\n",
    "        end\n",
    "        x = x - (fx / fpx) - ((fx * fppx) / (2 * (fpppx - (fx * fpx * fppx))))\n",
    "    end  \n",
    "end\n",
    "\n",
    "f(x) = cos(x) - x\n",
    "GJ(f, 1; tol=1e-15, verbose=true)"
   ]
  },
  {
   "cell_type": "markdown",
   "id": "c470f032-3a8c-4bd1-a16f-b001b415f78b",
   "metadata": {},
   "source": [
    "# Noor's with Enzyme #"
   ]
  },
  {
   "cell_type": "code",
   "execution_count": null,
   "id": "2e2f3679-473e-48fe-998b-c16492f1c5c5",
   "metadata": {},
   "outputs": [],
   "source": [
    "\n",
    "    # Noor's method with Enzyme\n",
    "\n",
    "function noor(f, x0; tol=1e-8, verbose=false)\n",
    "    x = x0\n",
    "    for k in 1:100 # max number of iterations\n",
    "        fx = f(x)\n",
    "        fpx = first(Enzyme.autodiff(f, Active(x)))\n",
    "        y = x - fx/fpx\n",
    "        fpy = first(Enzyme.autodiff(f, Active(y)))\n",
    "        if verbose\n",
    "            println(\"[$k] x=$x  f(x)=$fx  f'(x)=$fpx\")\n",
    "        end\n",
    "        if abs(fx) < tol\n",
    "            return x, fx, k\n",
    "        end\n",
    "        x = x - (fx / fpx) + (fx / fpx) * (fpy / fpx)\n",
    "    end  \n",
    "end\n",
    "\n",
    "f(x) = cos(x) - x\n",
    "noor(f, 1; tol=1e-15, verbose=true)"
   ]
  },
  {
   "cell_type": "markdown",
   "id": "38ca6cd1-38c3-4293-a140-b399209f7fc9",
   "metadata": {},
   "source": [
    "# Noor's with Zygote #"
   ]
  },
  {
   "cell_type": "code",
   "execution_count": null,
   "id": "953efea1-9156-4309-b73f-7b0d86b7adca",
   "metadata": {},
   "outputs": [],
   "source": [
    "\n",
    "    # Noor's method with Zygote\n",
    "\n",
    "function noor(f, x0; tol=1e-8, verbose=false)\n",
    "    x = x0\n",
    "    for k in 1:100 # max number of iterations\n",
    "        fx = f(x)\n",
    "        fpx = first(Zygote.gradient(f, x))\n",
    "        y = x - fx/fpx\n",
    "        fpy = first(Zygote.gradient(f, y))\n",
    "        if verbose\n",
    "            println(\"[$k] x=$x  f(x)=$fx  f'(x)=$fpx\")\n",
    "        end\n",
    "        if abs(fx) < tol\n",
    "            return x, fx, k\n",
    "        end\n",
    "        x = x - (fx / fpx) + (fx / fpx) * (fpy / fpx)\n",
    "    end  \n",
    "end\n",
    "\n",
    "f(x) = cos(x) - x\n",
    "noor(f, 1; tol=1e-15, verbose=true)"
   ]
  },
  {
   "cell_type": "markdown",
   "id": "7c61ff62-6d6d-4fdb-82e1-9da5ba54d1fd",
   "metadata": {},
   "source": [
    "# Zhanlav's with Enzyme #"
   ]
  },
  {
   "cell_type": "code",
   "execution_count": null,
   "id": "9d8331cb-4b80-4237-8d38-6d31413ea465",
   "metadata": {},
   "outputs": [],
   "source": [
    "\n",
    "    # Zhanlav's method with Enzyme\n",
    "\n",
    "function zhanlav(f, x0; tol=1e-8, verbose=false)\n",
    "    x = x0\n",
    "    for k in 1:1000 # max number of iterations\n",
    "        \n",
    "        fx = f(x)\n",
    "        fpx = first(Enzyme.autodiff(f, Active(x)))\n",
    "        \n",
    "        z = x - fx/fpx\n",
    "        fz = f(z)\n",
    "        fpz = first(Enzyme.autodiff(f, Active(z)))\n",
    "\n",
    "        q = z - fz/fpz\n",
    "        fq = f(q)\n",
    "        \n",
    "        if verbose\n",
    "            println(\"[$k] x=$x  f(x)=$fx  f'(x)=$fpx\")\n",
    "        end\n",
    "        if abs(fx) < tol\n",
    "            return x, fx, k\n",
    "        end\n",
    "        x = z - (fz + fq)/fpx\n",
    "    end  \n",
    "end\n",
    "\n",
    "f(x) = cos(x) - x\n",
    "zhanlav(f, 1; tol=1e-15, verbose=true)"
   ]
  },
  {
   "cell_type": "markdown",
   "id": "6f5708dc-aff6-455f-9b9c-c5ea04320615",
   "metadata": {},
   "source": [
    "# Zhanlav's with Zygote #"
   ]
  },
  {
   "cell_type": "code",
   "execution_count": null,
   "id": "faf7c82c-48fb-4420-84bd-cd70fbf64545",
   "metadata": {},
   "outputs": [],
   "source": [
    "\n",
    "    # Zhanlav's method with Zygote\n",
    "\n",
    "function zhanlav(f, x0; tol=1e-8, verbose=false)\n",
    "    x = x0\n",
    "    for k in 1:1000 # max number of iterations\n",
    "        \n",
    "        fx = f(x)\n",
    "        fpx = first(Zygote.gradient(f, x))\n",
    "        \n",
    "        z = x - fx/fpx\n",
    "        fz = f(z)\n",
    "        fpz = first(Zygote.gradient(f, z))\n",
    "        \n",
    "        q = z - fz/fpz\n",
    "        fq = f(q)\n",
    "        \n",
    "        if verbose\n",
    "            println(\"[$k] x=$x  f(x)=$fx  f'(x)=$fpx\")\n",
    "        end\n",
    "        if abs(fx) < tol\n",
    "            return x, fx, k\n",
    "        end\n",
    "        x = z - (fz + fq)/fpx\n",
    "    end  \n",
    "end\n",
    "\n",
    "f(x) = cos(x) - x\n",
    "zhanlav(f, 1; tol=1e-15, verbose=true)"
   ]
  },
  {
   "cell_type": "markdown",
   "id": "24634266-7f41-4c60-a887-6f626f9c785a",
   "metadata": {},
   "source": [
    "# Forward difference with Enzyme & Zygote #"
   ]
  },
  {
   "cell_type": "code",
   "execution_count": null,
   "id": "ef5a51e9-0f12-4ff7-a87b-d386f1881c66",
   "metadata": {},
   "outputs": [],
   "source": [
    "\n",
    "    # testing\n",
    "    # forward difference method with Enzyme and Zygote's functions.\n",
    "\n",
    "f(x::Vector) = sum(sin, x) + prod(tan, x) * sum(sqrt, x);\n",
    "x = rand(5)\n",
    "x2 = rand(5)\n",
    "\n",
    "g = x -> Enzyme.fwddiff(f, x);\n",
    "g2 = x2 -> Zygote.forwarddiff(f, x);\n",
    "\n",
    "println(x)\n",
    "println(x2)"
   ]
  },
  {
   "cell_type": "code",
   "execution_count": null,
   "id": "88d79d75-bff3-40e5-afd1-d34db99a0391",
   "metadata": {},
   "outputs": [],
   "source": []
  }
 ],
 "metadata": {
  "kernelspec": {
   "display_name": "Julia 1.6.1",
   "language": "julia",
   "name": "julia-1.6"
  },
  "language_info": {
   "file_extension": ".jl",
   "mimetype": "application/julia",
   "name": "julia",
   "version": "1.6.1"
  }
 },
 "nbformat": 4,
 "nbformat_minor": 5
}
