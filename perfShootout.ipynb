{
 "cells": [
  {
   "cell_type": "markdown",
   "id": "8f4a3ab4-46eb-42f7-9886-9d92d703df17",
   "metadata": {},
   "source": [
    "# Welcome! #\n",
    "## Enzyme and Zygote Performance Shootout ##\n",
    "\n",
    "### Project Information ###\n",
    "\n",
    "If you're interested in seeing a project synopsis and the benchmarks for performance we'll measuring, please take a look at our project documentation. \n",
    "\n",
    "### What Now? ###\n",
    "\n",
    "Let's start by setting up Enzyme and Zygote in our environment to start testing some differentiation. Our primary benchmark is the physical timing of a differentiation operation. In order to measure this we will simply be using the `@time` Julia method. These times will then be compared to measure how fast differentiation is actually done, along with comparing other important benchmarks.\n",
    "\n",
    "#### Import the Packages ####"
   ]
  },
  {
   "cell_type": "code",
   "execution_count": 1,
   "id": "6e90859f-b2bf-4445-841b-5bb7a1842f19",
   "metadata": {},
   "outputs": [],
   "source": [
    "using Pkg\n",
    "\n",
    "Pkg.add(\"Enzyme\")\n",
    "Pkg.add(\"Zygote\")\n",
    "Pkg.add(\"Plots\")"
   ]
  },
  {
   "cell_type": "code",
   "execution_count": 2,
   "id": "ea6ab306-c25b-447f-93b5-b1fd78f86453",
   "metadata": {},
   "outputs": [],
   "source": [
    "using Zygote\n",
    "using Enzyme\n",
    "using Plots\n",
    "using Statistics"
   ]
  },
  {
   "cell_type": "markdown",
   "id": "00e47575-cc71-4117-902e-a26381f3430f",
   "metadata": {},
   "source": [
    "#### What Next? ####\n",
    "\n",
    "Now that the packages have been added to the environment, we can start testing them out. First, a quick demonstration of the timing function we will be using. "
   ]
  },
  {
   "cell_type": "code",
   "execution_count": 3,
   "id": "c69fc010-4ab8-4f4c-bded-1ee063914f2b",
   "metadata": {},
   "outputs": [
    {
     "name": "stdout",
     "output_type": "stream",
     "text": [
      "  0.000040 seconds\n"
     ]
    },
    {
     "data": {
      "text/plain": [
       "10946"
      ]
     },
     "execution_count": 3,
     "metadata": {},
     "output_type": "execute_result"
    }
   ],
   "source": [
    "function fib(n)\n",
    "    if n <= 1\n",
    "        return 1\n",
    "    else\n",
    "        return fib(n - 1) + fib(n - 2)\n",
    "    end\n",
    "end\n",
    "    \n",
    "@time fib(20)"
   ]
  },
  {
   "cell_type": "markdown",
   "id": "47db2c2e-b529-4fa7-a597-e5abfa5039a1",
   "metadata": {},
   "source": [
    "#### Functions ####\n",
    "\n",
    "For this shootout we will be handling differentiation for rootfinding problems. Specifically, we will be testing differentiation efficiency for aiding five different rootfinding algorithms, being Halley's, Golbabai-Javidi, Newton's, Noor's, and Zhanlav's Method.\n",
    "\n",
    "Those methods look like such:\n",
    "\n",
    "**Halley's Method**\n",
    "\n",
    "$x_{n + 1} = x_{n} - \\frac{2f(x_n)f^{\\prime}(x_n)}{2f^{\\prime}(x_n)^2 - f(x_n)f^{\\prime \\prime}(x_n)}$\n",
    "\n",
    "**Golbabai-Javidi Method**\n",
    "\n",
    "$x_{n + 1} = x_{n} - \\frac{f(x_n)}{f^{\\prime}(x_n)} - \\frac{f(x_n)f^{\\prime \\prime}(x_n)}{2(f^{\\prime \\prime \\prime}(x_n) - f(x_n)f^{\\prime}(x_n)f^{\\prime \\prime}(x_n))}$\n",
    "\n",
    "**Newton's Method**\n",
    "\n",
    "$x_{n + 1} = x_{n} - \\frac{f(x_n)}{f^{\\prime}(x_n)}$\n",
    "\n",
    "**Noor's Method**\n",
    "\n",
    "$y_n = x_n - \\frac{f(x_n)}{f^{\\prime}(x_n)}$\n",
    "\n",
    "$x_{n + 1} = x_{n} - \\frac{f(x_n)}{f^{\\prime}(x_n)} + (\\frac{f(x_n)}{f^{\\prime}(x_n)})\\frac{f^{\\prime}(y_n)}{f^{\\prime}(x_n)}$\n",
    "\n",
    "**Zhanlav's Method**\n",
    "\n",
    "$z_n = y_n - \\frac{f(y_n)}{f^{\\prime}(y_n)}$\n",
    "\n",
    "$q_n = z_n - \\frac{f(z_n)}{f^{\\prime}(y_n)}$\n",
    "\n",
    "$y_{n + 1} = z_n - \\frac{f(z_n) + f(q_n)}{f^{\\prime}(y_n)}$\n",
    "\n",
    "Before implementation of these various rootfinding algorithms, however, we can demonstrate some fairly basic differentiation using some basic functions below. This, similar to the time test, will present the methods we will be using and how they work.\n",
    "\n",
    "We will be performing both of these tests using Enzyme and Zygote on three different functions, which will be defined below.\n",
    "\n",
    "#### Test Functions ####\n",
    "\n",
    "$f(x) = 5x^{10}$\n",
    "\n",
    "$g(x) = 3x^3(cos(x) - 10x)$\n",
    "\n",
    "$h(x) = e^{\\frac{5x}{2}(sin(x)^{e^x})}$\n",
    "\n",
    "#### Zygote Method ####\n",
    "\n",
    "Zygote is the auto differentiation tool specifically made for Julia and uses the `gradient` method for computing derivatives. We hypothesize that this tool will likely be better optimized for Julia, but we will test this below by timing some basic differentiation!\n",
    "\n",
    "#### Enzyme Method ####\n",
    "\n",
    "Enzyme is another auto differentiation tool that is not specifically designed for Julia and is more generally designed for many different languages. This package uses the `autodiff` method for computing derivatives. Given that this tool is not specifically built for Julia, we hypothesize that these method calls will be significantly less optimized.\n",
    "\n",
    "#### What are we testing? ####\n",
    "\n",
    "For all three functions we will be timing the differentiation speed of both packages at an x-value of $2$.\n",
    "\n",
    "#### Function One ####"
   ]
  },
  {
   "cell_type": "code",
   "execution_count": 4,
   "id": "70ad8b04-5073-471c-9f83-ef7200cdac96",
   "metadata": {},
   "outputs": [
    {
     "name": "stdout",
     "output_type": "stream",
     "text": [
      " 25.728783 seconds (28.55 M allocations: 1.645 GiB, 6.51% gc time, 100.01% compilation time)\n",
      " 18.823700 seconds (19.28 M allocations: 1.081 GiB, 4.28% gc time, 0.03% compilation time)\n",
      "zyg = (25600.0,)\n",
      "enz = (25600.0,)\n"
     ]
    },
    {
     "data": {
      "text/plain": [
       "(25600.0,)"
      ]
     },
     "execution_count": 4,
     "metadata": {},
     "output_type": "execute_result"
    }
   ],
   "source": [
    "f(x) = 5x^10\n",
    "x = 2\n",
    "@time zyg = gradient(x -> f(x), x)\n",
    "@time enz = autodiff(f, Active(x))\n",
    "@show zyg\n",
    "@show enz"
   ]
  },
  {
   "cell_type": "markdown",
   "id": "0bda72e9-7fca-46f8-9614-82b0c5822859",
   "metadata": {},
   "source": [
    "#### Function Two ####"
   ]
  },
  {
   "cell_type": "code",
   "execution_count": 5,
   "id": "2f9399cf-6ac6-40be-86d4-20d566398b1d",
   "metadata": {},
   "outputs": [
    {
     "name": "stdout",
     "output_type": "stream",
     "text": [
      "  0.345368 seconds (493.11 k allocations: 28.390 MiB, 18.03% gc time, 99.93% compilation time)\n",
      "  4.621116 seconds (6.26 M allocations: 362.781 MiB, 6.03% gc time, 39.40% compilation time)\n",
      "zyg = (-996.8044243595134,)\n",
      "enz = (-996.8044243595134,)\n"
     ]
    },
    {
     "data": {
      "text/plain": [
       "(-996.8044243595134,)"
      ]
     },
     "execution_count": 5,
     "metadata": {},
     "output_type": "execute_result"
    }
   ],
   "source": [
    "gf(x) = 3x^3 * (cos(x) - 10x)\n",
    "x = 2\n",
    "@time zyg = gradient(x -> gf(x), x)\n",
    "@time enz = autodiff(gf, Active(x))\n",
    "@show zyg\n",
    "@show enz"
   ]
  },
  {
   "cell_type": "markdown",
   "id": "672a9477-c510-4308-921e-4d5cfb755692",
   "metadata": {},
   "source": [
    "#### Function Three ####"
   ]
  },
  {
   "cell_type": "code",
   "execution_count": 6,
   "id": "50e1dfa3-9e96-4ee7-b7f3-6c95a6595fe2",
   "metadata": {},
   "outputs": [
    {
     "name": "stdout",
     "output_type": "stream",
     "text": [
      "  0.390778 seconds (649.28 k allocations: 40.225 MiB, 20.22% gc time, 99.93% compilation time)\n",
      "  2.651444 seconds (3.32 M allocations: 188.146 MiB, 6.47% gc time, 91.01% compilation time)\n",
      "zyg = (-105.63101149036947,)\n",
      "enz = (-105.63101149036945,)\n"
     ]
    },
    {
     "data": {
      "text/plain": [
       "(-105.63101149036945,)"
      ]
     },
     "execution_count": 6,
     "metadata": {},
     "output_type": "execute_result"
    }
   ],
   "source": [
    "hf(x) = exp((5x / 2) * (sin(x)^(exp(x))))\n",
    "x = 2\n",
    "@time zyg = gradient(x -> hf(x), x)\n",
    "@time enz = autodiff(hf, Active(x))\n",
    "@show zyg\n",
    "@show enz"
   ]
  },
  {
   "cell_type": "markdown",
   "id": "a9a67a7d-2740-4b5a-beef-51f913834685",
   "metadata": {},
   "source": [
    "#### What are the results? ####\n",
    "\n",
    "From using the differentiation method from Zygote and Enzyme in the above functions, we can see that both methods produce essentially the same results, being identical in the first two cases and different at the $10^{-14}$ digit in the last results. Reasonably, we can conclude that both of these methods are possess similar accuarcy from this small test. We can also see that both methods have relatively identical speeds, with Enzyme being generally a bit slower and Zygote a bit faster. In terms of time, no conclusions can really be drawn, so it might be worth performing these computations a few times and pulling the respective means, variances, standard deviations, and medians. Finally, we can clearly see that Enzyme also generally requires more memory allocation than Zygote and takes a smaller percentage of compilation time. This similarly is a bit hard to gage however which is better, so a similar approach to the aforementioned would be useful."
   ]
  },
  {
   "cell_type": "markdown",
   "id": "cccd2d78-732e-411b-8edc-052ae3a2dd52",
   "metadata": {},
   "source": [
    "#### Data Science ####\n",
    "\n",
    "Let's try collecting a larger sample set of differentiation tests to better understand which method seems to be more optimal. Below we have defined a for loop that calls the differentiation methods $100$ times each, and then collects the results. These results will be passed to a data science function at the end that uses a variety of Julia Statistics methods to compute the corresponding data science values. For the tests, we will once again differentiate at $x = 2$."
   ]
  },
  {
   "cell_type": "code",
   "execution_count": 7,
   "id": "e34396d3-d6c2-40ea-b57c-75bf5fca0d2e",
   "metadata": {},
   "outputs": [
    {
     "data": {
      "text/plain": [
       "dataSci (generic function with 1 method)"
      ]
     },
     "execution_count": 7,
     "metadata": {},
     "output_type": "execute_result"
    }
   ],
   "source": [
    "function dataSci(timeEnz, sizeEnz, timeZyg, sizeZyg)\n",
    "    timeEnzMean = mean(timeEnz)\n",
    "    sizeEnzMean = mean(sizeEnz)\n",
    "    timeZygMean = mean(timeZyg)\n",
    "    sizeZygMean = mean(sizeZyg)\n",
    "    \n",
    "    timeEnzVar = var(timeEnz)\n",
    "    sizeEnzVar = var(sizeEnz)\n",
    "    timeZygVar = var(timeZyg)\n",
    "    sizeZygVar = var(sizeZyg)\n",
    "    \n",
    "    timeEnzStd = timeEnzVar ^ (1 / 2)\n",
    "    sizeEnzStd = sizeEnzVar ^ (1 / 2)\n",
    "    timeZygStd = timeZygVar ^ (1 / 2)\n",
    "    sizeZygStd = sizeZygVar ^ (1 / 2)\n",
    "    \n",
    "    timeEnzMed = median(timeEnz)\n",
    "    sizeEnzMed = median(sizeEnz)\n",
    "    timeZygMed = median(timeZyg)\n",
    "    sizeZygMed = median(sizeZyg)\n",
    "    \n",
    "    @show timeEnzMean\n",
    "    @show timeEnzVar\n",
    "    @show timeEnzStd\n",
    "    @show timeEnzMed\n",
    "    \n",
    "    @show sizeEnzMean\n",
    "    @show sizeEnzVar\n",
    "    @show sizeEnzStd\n",
    "    @show sizeEnzMed\n",
    "    \n",
    "    @show timeZygMean\n",
    "    @show timeZygVar\n",
    "    @show timeZygStd\n",
    "    @show timeZygMed\n",
    "    \n",
    "    @show sizeZygMean\n",
    "    @show sizeZygVar\n",
    "    @show sizeZygStd\n",
    "    @show sizeZygMed\n",
    "end"
   ]
  },
  {
   "cell_type": "markdown",
   "id": "31d4328b-cfd8-4742-b508-7ede25190bf6",
   "metadata": {},
   "source": [
    "#### Function One ####"
   ]
  },
  {
   "cell_type": "code",
   "execution_count": 13,
   "id": "3761d631-2035-44d5-a5e3-3882eafedd34",
   "metadata": {},
   "outputs": [
    {
     "name": "stdout",
     "output_type": "stream",
     "text": [
      "timeEnzMean = 0.09267851182999999\n",
      "timeEnzVar = 0.002728936459141259\n",
      "timeEnzStd = 0.05223922337804476\n",
      "timeEnzMed = 0.083599264\n",
      "sizeEnzMean = 5.5191422e6\n",
      "sizeEnzVar = 4.909829171717173e7\n",
      "sizeEnzStd = 7007.017319599811\n",
      "sizeEnzMed = 5.518323e6\n",
      "timeZygMean = 0.04129968049000002\n",
      "timeZygVar = 0.00023591764811405283\n",
      "timeZygStd = 0.01535961093628523\n",
      "timeZygMed = 0.036597703999999995\n",
      "sizeZygMean = 3.64246005e6\n",
      "sizeZygVar = 1.7131734902499979e9\n",
      "sizeZygStd = 41390.49999999997\n",
      "sizeZygMed = 3.638321e6\n"
     ]
    },
    {
     "data": {
      "text/plain": [
       "3.638321e6"
      ]
     },
     "execution_count": 13,
     "metadata": {},
     "output_type": "execute_result"
    }
   ],
   "source": [
    "timesEnz1 = []\n",
    "timesZyg1 = []\n",
    "sizesEnz1 = []\n",
    "sizesZyg1 = []\n",
    "\n",
    "for i in 1:100\n",
    "    \n",
    "    f(x) = 5x^10 # I don't understand a ton about Julia, but if I define this outside of the loop,\n",
    "                 # the timed method doesn't work???\n",
    "    \n",
    "    valZyg, tZyg, sizeZyg = @timed gradient(x -> f(x), x)\n",
    "\n",
    "    push!(timesZyg1, tZyg)\n",
    "    push!(sizesZyg1, sizeZyg)\n",
    "\n",
    "    valEnz, tEnz, sizeEnz = @timed autodiff(f, Active(x))\n",
    "\n",
    "    push!(timesEnz1, tEnz)\n",
    "    push!(sizesEnz1, sizeEnz)\n",
    "\n",
    "end\n",
    "\n",
    "dataSci(timesEnz1, sizesEnz1, timesZyg1, sizesZyg1)"
   ]
  },
  {
   "cell_type": "markdown",
   "id": "89e7e32c-1bcb-479d-a70b-199505d61993",
   "metadata": {},
   "source": [
    "#### Results Function One ####\n",
    "\n",
    "- **Zygote**\n",
    "\n",
    "    - **Time**\n",
    "    \n",
    "        - Mean = 0.04123 seconds\n",
    "        - Variance = 0.000236 seconds\n",
    "        - Standard Deviation = 0.01535 seconds\n",
    "        - Median = 0.0366 seconds\n",
    "       \n",
    "    - **Alloc. Size**\n",
    "    \n",
    "        - Mean = 3,642,460 bytes (3.64 MB)\n",
    "        - Variance = 1,713,173,490 bytes (1.71 GB)\n",
    "        - Standard Deviation = 41,390 bytes (41.39 KB)\n",
    "        - Median = 3,638,321 bytes (3.64 MB)\n",
    "\n",
    "- **Enzyme**\n",
    "\n",
    "    - **Time**\n",
    "    \n",
    "        - Mean = 0.09267 seconds\n",
    "        - Variance = 0.002728 seconds\n",
    "        - Standard Deviation = 0.05224 seconds\n",
    "        - Median = 0.0836 seconds\n",
    "    \n",
    "    - **Alloc. Size**\n",
    "    \n",
    "        - Mean = 5,519,142 bytes (5.52 MB)\n",
    "        - Variance = 49,098,291 bytes (49.10 MB)\n",
    "        - Standard Deviation = 7,007.02 bytes (7.01 KB)\n",
    "        - Median = 5,518,323 bytes (5.52 MB)"
   ]
  },
  {
   "cell_type": "markdown",
   "id": "c30dcbac-74da-488c-b0ca-834d213db49f",
   "metadata": {},
   "source": [
    "#### Function Two ####"
   ]
  },
  {
   "cell_type": "code",
   "execution_count": 8,
   "id": "7f1362ca-1508-4e9a-9c12-022fa637b9e0",
   "metadata": {},
   "outputs": [
    {
     "name": "stdout",
     "output_type": "stream",
     "text": [
      "timeEnzMean = 0.20542909254999991\n",
      "timeEnzVar = 0.008447287654177004\n",
      "timeEnzStd = 0.09190912715381973\n",
      "timeEnzMed = 0.1756100965\n",
      "sizeEnzMean = 6.91564444e6\n",
      "sizeEnzVar = 540688.0064646468\n",
      "sizeEnzStd = 735.3149029257103\n",
      "sizeEnzMed = 6.915419e6\n",
      "timeZygMean = 0.08563981077\n",
      "timeZygVar = 0.00987911842820892\n",
      "timeZygStd = 0.09939375447284865\n",
      "timeZygMed = 0.0536120865\n",
      "sizeZygMean = 6.02282301e6\n",
      "sizeZygVar = 1.71847542667667e9\n",
      "sizeZygStd = 41454.4982683022\n",
      "sizeZygMed = 6.018635e6\n"
     ]
    },
    {
     "data": {
      "text/plain": [
       "6.018635e6"
      ]
     },
     "execution_count": 8,
     "metadata": {},
     "output_type": "execute_result"
    }
   ],
   "source": [
    "timesEnz2 = []\n",
    "timesZyg2 = []\n",
    "sizesEnz2 = []\n",
    "sizesZyg2 = []\n",
    "\n",
    "for i in 1:100\n",
    "    \n",
    "    gf(x) = 3x^3 * (cos(x) - 10x) # I don't understand a ton about Julia, but if I define this outside of the loop,\n",
    "                                             # the timed method doesn't work???\n",
    "    \n",
    "    valZyg, tZyg, sizeZyg = @timed gradient(x -> gf(x), x)\n",
    "\n",
    "    push!(timesZyg2, tZyg)\n",
    "    push!(sizesZyg2, sizeZyg)\n",
    "\n",
    "    valEnz, tEnz, sizeEnz = @timed autodiff(gf, Active(x))\n",
    "\n",
    "    push!(timesEnz2, tEnz)\n",
    "    push!(sizesEnz2, sizeEnz)\n",
    "\n",
    "end\n",
    "\n",
    "dataSci(timesEnz2, sizesEnz2, timesZyg2, sizesZyg2)"
   ]
  },
  {
   "cell_type": "markdown",
   "id": "893456b2-2399-4c93-a025-803e720686cd",
   "metadata": {},
   "source": [
    "#### Results Function Two ####\n",
    "\n",
    "- **Zygote**\n",
    "\n",
    "    - **Time**\n",
    "    \n",
    "        - Mean = 0.08564 seconds\n",
    "        - Variance = 0.00988 seconds\n",
    "        - Standard Deviation = 0.09940 seconds\n",
    "        - Median = 0.05361 seconds\n",
    "       \n",
    "    - **Alloc. Size**\n",
    "    \n",
    "        - Mean = 6,022,823 bytes (6.02 MB)\n",
    "        - Variance = 1,718,475,426 bytes (1.72 GB)\n",
    "        - Standard Deviation = 41,454 bytes (41.45 KB)\n",
    "        - Median = 6,018,635 bytes (6.02 MB)\n",
    "\n",
    "- **Enzyme**\n",
    "\n",
    "    - **Time**\n",
    "   \n",
    "        - Mean = 0.20543 seconds\n",
    "        - Variance = 0.00845 seconds\n",
    "        - Standard Deviation = 0.09191 seconds\n",
    "        - Median = 0.17561 seconds\n",
    "    \n",
    "    - **Alloc. Size**\n",
    "    \n",
    "        - Mean = 6,915,644 bytes (6.91 MB)\n",
    "        - Variance = 540,688 bytes (540.69 KB)\n",
    "        - Standard Deviation = 735.31 bytes (735.31 B)\n",
    "        - Median = 6,915,419 bytes (6.91 MB)"
   ]
  },
  {
   "cell_type": "markdown",
   "id": "bda17e4c-4171-48bb-b5b9-54d33b48517b",
   "metadata": {},
   "source": [
    "#### Function Three ####"
   ]
  },
  {
   "cell_type": "code",
   "execution_count": 14,
   "id": "04da9f87-8612-4324-9572-aed03f2f3ae6",
   "metadata": {},
   "outputs": [
    {
     "name": "stdout",
     "output_type": "stream",
     "text": [
      "timeEnzMean = 0.22160837142\n",
      "timeEnzVar = 0.007148965185897377\n",
      "timeEnzStd = 0.08455155342095955\n",
      "timeEnzMed = 0.1992649405\n",
      "sizeEnzMean = 8.28255332e6\n",
      "sizeEnzVar = 4.9230193674343474e7\n",
      "sizeEnzStd = 7016.423139630582\n",
      "sizeEnzMed = 8.281633e6\n",
      "timeZygMean = 0.09240678975000005\n",
      "timeZygVar = 0.004842086234737579\n",
      "timeZygStd = 0.06958510066628903\n",
      "timeZygMed = 0.0739500035\n",
      "sizeZygMean = 6.94505553e6\n",
      "sizeZygVar = 1.7102608380899878e9\n",
      "sizeZygStd = 41355.29999999985\n",
      "sizeZygMed = 6.94092e6\n"
     ]
    },
    {
     "data": {
      "text/plain": [
       "6.94092e6"
      ]
     },
     "execution_count": 14,
     "metadata": {},
     "output_type": "execute_result"
    }
   ],
   "source": [
    "timesEnz3 = []\n",
    "timesZyg3 = []\n",
    "sizesEnz3 = []\n",
    "sizesZyg3 = []\n",
    "\n",
    "for i in 1:100\n",
    "    \n",
    "    hf(x) = exp((5x / 2) * (sin(x)^(exp(x)))) # I don't understand a ton about Julia, but if I define this outside of the loop,\n",
    "                                              # the timed method doesn't work???\n",
    "    \n",
    "    valZyg, tZyg, sizeZyg = @timed gradient(x -> hf(x), x)\n",
    "\n",
    "    push!(timesZyg3, tZyg)\n",
    "    push!(sizesZyg3, sizeZyg)\n",
    "\n",
    "    valEnz, tEnz, sizeEnz = @timed autodiff(hf, Active(x))\n",
    "\n",
    "    push!(timesEnz3, tEnz)\n",
    "    push!(sizesEnz3, sizeEnz)\n",
    "\n",
    "end\n",
    "\n",
    "dataSci(timesEnz3, sizesEnz3, timesZyg3, sizesZyg3)"
   ]
  },
  {
   "cell_type": "markdown",
   "id": "d5962684-aafc-4263-8621-426dceb04e87",
   "metadata": {},
   "source": [
    "#### Results Function Three ####\n",
    "\n",
    "- **Zygote**\n",
    "\n",
    "    - **Time**\n",
    "    \n",
    "        - Mean = 0.09241 seconds\n",
    "        - Variance = 0.00484 seconds\n",
    "        - Standard Deviation = 0.06958 seconds\n",
    "        - Median = 0.07395 seconds\n",
    "       \n",
    "    - **Alloc. Size**\n",
    "    \n",
    "        - Mean = 6,945,055 (6.94 MB)\n",
    "        - Variance = 1,710,260,838 bytes (1.71 GB)\n",
    "        - Standard Deviation = 41,355 bytes (41.35 KB)\n",
    "        - Median = 6,940,920 bytes (6.94 MB)\n",
    "\n",
    "- **Enzyme**\n",
    "\n",
    "    - **Time**\n",
    "    \n",
    "        - Mean = 0.22160 seconds\n",
    "        - Variance = 0.00715 seconds\n",
    "        - Standard Deviation = 0.08455 seconds\n",
    "        - Median = 0.19926 seconds\n",
    "    \n",
    "    - **Alloc. Size**\n",
    "    \n",
    "        - Mean = 8,282,553 bytes (8.28 MB)\n",
    "        - Variance = 49,230,194 bytes (49.23 MB)\n",
    "        - Standard Deviation = 7,016.42 bytes (7.02 KB)\n",
    "        - Median = 8,281,633 bytes (8.28 MB)"
   ]
  },
  {
   "cell_type": "markdown",
   "id": "78b54821-421f-4286-b214-476eb4afa530",
   "metadata": {},
   "source": [
    "#### Implications? ####\n",
    "\n"
   ]
  },
  {
   "cell_type": "markdown",
   "id": "2826cbdd-47dc-4168-a322-890fe68b3583",
   "metadata": {},
   "source": [
    "#### Practical Application ####\n",
    "\n",
    "Theory is great and all, but what's a simple application for differentiation? There's a wide range of applications from gradient-descent to modeling certain processes, but for our project we decided some simple rootfinding algorithms would be useful. Thus, below are some rootfinding implementations of these algorithms using Enzyme and Zygote which produce a more noticeable time and memory difference between the two packages."
   ]
  },
  {
   "cell_type": "markdown",
   "id": "3d9ea0b4-7650-4a08-9663-efda95e79ffc",
   "metadata": {},
   "source": [
    "# Newton's with Enzyme #"
   ]
  },
  {
   "cell_type": "code",
   "execution_count": 18,
   "id": "aba46eec-f308-459c-9cf1-cd0026503b25",
   "metadata": {},
   "outputs": [
    {
     "name": "stdout",
     "output_type": "stream",
     "text": [
      "[1] x=1  f(x)=-0.45969769413186023  f'(x)=-1.8414709848078965\n",
      "[2] x=0.7503638678402439  f(x)=-0.018923073822117442  f'(x)=-1.6819049529414878\n",
      "[3] x=0.7391128909113617  f(x)=-4.6455898990771516e-5  f'(x)=-1.6736325442243012\n",
      "[4] x=0.739085133385284  f(x)=-2.847205804457076e-10  f'(x)=-1.6736120293089505\n",
      "[5] x=0.7390851332151607  f(x)=0.0  f'(x)=-1.6736120291832148\n"
     ]
    },
    {
     "data": {
      "text/plain": [
       "(0.7390851332151607, 0.0, 5)"
      ]
     },
     "execution_count": 18,
     "metadata": {},
     "output_type": "execute_result"
    }
   ],
   "source": [
    "\n",
    "    # testing Newton's with Enzyme\n",
    "\n",
    "function newton(f, x0; tol=1e-8, verbose=false)\n",
    "    x = x0\n",
    "    for k in 1:100 # max number of iterations\n",
    "        fx = f(x)\n",
    "        fpx = first(Enzyme.autodiff(f, Active(x)))\n",
    "        if verbose\n",
    "            println(\"[$k] x=$x  f(x)=$fx  f'(x)=$fpx\")\n",
    "        end\n",
    "        if abs(fx) < tol\n",
    "            return x, fx, k\n",
    "        end\n",
    "        x = x - fx / fpx\n",
    "    end  \n",
    "end\n",
    "\n",
    "f(x) = cos(x) - x\n",
    "newton(f, 1; tol=1e-15, verbose=true)"
   ]
  },
  {
   "cell_type": "markdown",
   "id": "d6c968b5-2cc8-4e1b-90aa-33ec2a9e8e91",
   "metadata": {},
   "source": [
    "# Newton's with Zygote #"
   ]
  },
  {
   "cell_type": "code",
   "execution_count": 8,
   "id": "f447adfb-8563-4677-9f44-0ed874693c30",
   "metadata": {},
   "outputs": [
    {
     "name": "stdout",
     "output_type": "stream",
     "text": [
      "[1] x=1  f(x)=-0.45969769413186023  f'(x)=-1.8414709848078965\n",
      "[2] x=0.7503638678402439  f(x)=-0.018923073822117442  f'(x)=-1.6819049529414878\n",
      "[3] x=0.7391128909113617  f(x)=-4.6455898990771516e-5  f'(x)=-1.6736325442243012\n",
      "[4] x=0.739085133385284  f(x)=-2.847205804457076e-10  f'(x)=-1.6736120293089505\n",
      "[5] x=0.7390851332151607  f(x)=0.0  f'(x)=-1.6736120291832148\n"
     ]
    },
    {
     "data": {
      "text/plain": [
       "(0.7390851332151607, 0.0, 5)"
      ]
     },
     "execution_count": 8,
     "metadata": {},
     "output_type": "execute_result"
    }
   ],
   "source": [
    "\n",
    "    # testing Newton's with Zygote\n",
    "\n",
    "function newton(f, x0; tol=1e-8, verbose=false)\n",
    "    x = x0\n",
    "    for k in 1:100 # max number of iterations\n",
    "        fx = f(x)\n",
    "        fpx = first(Zygote.gradient(f, x))\n",
    "        if verbose\n",
    "            println(\"[$k] x=$x  f(x)=$fx  f'(x)=$fpx\")\n",
    "        end\n",
    "        if abs(fx) < tol\n",
    "            return x, fx, k\n",
    "        end\n",
    "        x = x - fx / fpx\n",
    "    end  \n",
    "end\n",
    "\n",
    "f(x) = cos(x) - x\n",
    "newton(f, 1; tol=1e-15, verbose=true)"
   ]
  },
  {
   "cell_type": "markdown",
   "id": "0b22bf03-189c-4d98-a767-a26326081caf",
   "metadata": {},
   "source": [
    "# Halley's with Enzyme #"
   ]
  },
  {
   "cell_type": "code",
   "execution_count": 9,
   "id": "5073decd-4054-4985-8a9c-589b02562d9a",
   "metadata": {},
   "outputs": [
    {
     "name": "stdout",
     "output_type": "stream",
     "text": [
      "[1] x=1  f(x)=-0.45969769413186023  f'(x)=-1.8414709848078965\n",
      "[2] x=0.7497462708604701  f(x)=-0.017884473924961064  f'(x)=-1.681453087296791\n",
      "[3] x=0.7391097446115611  f(x)=-4.1190152908709976e-5  f'(x)=-1.6736302188963899\n",
      "[4] x=0.7390851333479477  f(x)=-2.2223400897303236e-10  f'(x)=-1.6736120292813559\n",
      "[5] x=0.7390851332151607  f(x)=0.0  f'(x)=-1.6736120291832148\n"
     ]
    },
    {
     "data": {
      "text/plain": [
       "(0.7390851332151607, 0.0, 5)"
      ]
     },
     "execution_count": 9,
     "metadata": {},
     "output_type": "execute_result"
    }
   ],
   "source": [
    "\n",
    "    # halley's method with Enzyme\n",
    "\n",
    "function halley(f, x0; tol=1e-8, verbose=false)\n",
    "    x = x0\n",
    "    for k in 1:100 # max number of iterations\n",
    "        fx = f(x)\n",
    "        fpx = first(Enzyme.autodiff(f, Active(x)))\n",
    "        fppx = first(Enzyme.autodiff(f, Active(fpx)))\n",
    "        if verbose\n",
    "            println(\"[$k] x=$x  f(x)=$fx  f'(x)=$fpx\")\n",
    "        end\n",
    "        if abs(fx) < tol\n",
    "            return x, fx, k\n",
    "        end\n",
    "        x = x - (2 * fx * fpx) / (2 * fpx^2 - fx * fppx)\n",
    "    end  \n",
    "end\n",
    "\n",
    "f(x) = cos(x) - x\n",
    "halley(f, 1; tol=1e-15, verbose=true)"
   ]
  },
  {
   "cell_type": "markdown",
   "id": "688d57dd-e5ac-4f64-9cf6-59dac265e771",
   "metadata": {},
   "source": [
    "# Halley's with Zygote #"
   ]
  },
  {
   "cell_type": "code",
   "execution_count": 10,
   "id": "a1b58e3c-ace6-4f16-b6c9-dfb37df3fa15",
   "metadata": {},
   "outputs": [
    {
     "name": "stdout",
     "output_type": "stream",
     "text": [
      "[1] x=1  f(x)=-0.45969769413186023  f'(x)=-1.8414709848078965\n",
      "[2] x=0.7497462708604701  f(x)=-0.017884473924961064  f'(x)=-1.681453087296791\n",
      "[3] x=0.7391097446115611  f(x)=-4.1190152908709976e-5  f'(x)=-1.6736302188963899\n",
      "[4] x=0.7390851333479477  f(x)=-2.2223400897303236e-10  f'(x)=-1.6736120292813559\n",
      "[5] x=0.7390851332151607  f(x)=0.0  f'(x)=-1.6736120291832148\n"
     ]
    },
    {
     "data": {
      "text/plain": [
       "(0.7390851332151607, 0.0, 5)"
      ]
     },
     "execution_count": 10,
     "metadata": {},
     "output_type": "execute_result"
    }
   ],
   "source": [
    "\n",
    "    # halley's method with Zygote\n",
    "\n",
    "function halley(f, x0; tol=1e-8, verbose=false)\n",
    "    x = x0\n",
    "    for k in 1:100 # max number of iterations\n",
    "        fx = f(x)\n",
    "        fpx = first(Zygote.gradient(f, x))\n",
    "        fppx = first(Zygote.gradient(f, fpx))\n",
    "        if verbose\n",
    "            println(\"[$k] x=$x  f(x)=$fx  f'(x)=$fpx\")\n",
    "        end\n",
    "        if abs(fx) < tol\n",
    "            return x, fx, k\n",
    "        end\n",
    "        x = x - (2 * fx * fpx) / (2 * fpx^2 - fx * fppx)\n",
    "    end  \n",
    "end\n",
    "\n",
    "f(x) = cos(x) - x\n",
    "halley(f, 1; tol=1e-15, verbose=true)"
   ]
  },
  {
   "cell_type": "markdown",
   "id": "3e6259e8-8aff-409f-905d-8afc3ec8508d",
   "metadata": {},
   "source": [
    "# Golbabai-Javidi's with Enzyme #"
   ]
  },
  {
   "cell_type": "code",
   "execution_count": 11,
   "id": "84fcda80-5290-4dec-9694-652459ee0130",
   "metadata": {},
   "outputs": [
    {
     "name": "stdout",
     "output_type": "stream",
     "text": [
      "[1] x=1  f(x)=-0.45969769413186023  f'(x)=-1.8414709848078965\n",
      "[2] x=0.7593355992363587  f(x)=-0.03404202857649352  f'(x)=-1.6884397114921996\n",
      "[3] x=0.7392922883076712  f(x)=-0.0003467131120002964  f'(x)=-1.6737651199778294\n",
      "[4] x=0.7390860657816581  f(x)=-1.5607548295992757e-6  f'(x)=-1.673612718428956\n",
      "[5] x=0.7390851373583662  f(x)=-6.934118723656013e-9  f'(x)=-1.6736120322453965\n",
      "[6] x=0.739085133233567  f(x)=-3.080502519736683e-11  f'(x)=-1.6736120291968186\n",
      "[7] x=0.7390851332152425  f(x)=-1.3700152123874432e-13  f'(x)=-1.6736120291832752\n",
      "[8] x=0.739085133215161  f(x)=-6.661338147750939e-16  f'(x)=-1.673612029183215\n"
     ]
    },
    {
     "data": {
      "text/plain": [
       "(0.739085133215161, -6.661338147750939e-16, 8)"
      ]
     },
     "execution_count": 11,
     "metadata": {},
     "output_type": "execute_result"
    }
   ],
   "source": [
    "\n",
    "    # Golbabai-Javidi's method with Enzyme\n",
    "\n",
    "function GJ(f, x0; tol=1e-8, verbose=false)\n",
    "    x = x0\n",
    "    for k in 1:100 # max number of iterations\n",
    "        fx = f(x)\n",
    "        fpx = first(Enzyme.autodiff(f, Active(x)))\n",
    "        fppx = first(Enzyme.autodiff(f, Active(fpx)))\n",
    "        fpppx = first(Enzyme.autodiff(f, Active(fppx)))\n",
    "        if verbose\n",
    "            println(\"[$k] x=$x  f(x)=$fx  f'(x)=$fpx\")\n",
    "        end\n",
    "        if abs(fx) < tol\n",
    "            return x, fx, k\n",
    "        end\n",
    "        x = x - (fx / fpx) - ((fx * fppx) / (2 * (fpppx - (fx * fpx * fppx))))\n",
    "    end  \n",
    "end\n",
    "\n",
    "f(x) = cos(x) - x\n",
    "GJ(f, 1; tol=1e-15, verbose=true)"
   ]
  },
  {
   "cell_type": "markdown",
   "id": "6bc9f270-cc54-4ef8-8675-17c18dc7765d",
   "metadata": {},
   "source": [
    "# Golbabai-Javidi's with Zygote #"
   ]
  },
  {
   "cell_type": "code",
   "execution_count": 12,
   "id": "aa650a2e-7815-4cd5-b2ff-df68411cb86a",
   "metadata": {},
   "outputs": [
    {
     "name": "stdout",
     "output_type": "stream",
     "text": [
      "[1] x=1  f(x)=-0.45969769413186023  f'(x)=-1.8414709848078965\n",
      "[2] x=0.7593355992363587  f(x)=-0.03404202857649352  f'(x)=-1.6884397114921996\n",
      "[3] x=0.7392922883076712  f(x)=-0.0003467131120002964  f'(x)=-1.6737651199778294\n",
      "[4] x=0.7390860657816581  f(x)=-1.5607548295992757e-6  f'(x)=-1.673612718428956\n",
      "[5] x=0.7390851373583662  f(x)=-6.934118723656013e-9  f'(x)=-1.6736120322453965\n",
      "[6] x=0.739085133233567  f(x)=-3.080502519736683e-11  f'(x)=-1.6736120291968186\n",
      "[7] x=0.7390851332152425  f(x)=-1.3700152123874432e-13  f'(x)=-1.6736120291832752\n",
      "[8] x=0.739085133215161  f(x)=-6.661338147750939e-16  f'(x)=-1.673612029183215\n"
     ]
    },
    {
     "data": {
      "text/plain": [
       "(0.739085133215161, -6.661338147750939e-16, 8)"
      ]
     },
     "execution_count": 12,
     "metadata": {},
     "output_type": "execute_result"
    }
   ],
   "source": [
    "\n",
    "    # Golbabai-Javidi's method with Zygote\n",
    "\n",
    "function GJ(f, x0; tol=1e-8, verbose=false)\n",
    "    x = x0\n",
    "    for k in 1:100 # max number of iterations\n",
    "        fx = f(x)\n",
    "        fpx = first(Zygote.gradient(f, x))\n",
    "        fppx = first(Zygote.gradient(f, fpx))\n",
    "        fpppx = first(Zygote.gradient(f, fppx))\n",
    "        if verbose\n",
    "            println(\"[$k] x=$x  f(x)=$fx  f'(x)=$fpx\")\n",
    "        end\n",
    "        if abs(fx) < tol\n",
    "            return x, fx, k\n",
    "        end\n",
    "        x = x - (fx / fpx) - ((fx * fppx) / (2 * (fpppx - (fx * fpx * fppx))))\n",
    "    end  \n",
    "end\n",
    "\n",
    "f(x) = cos(x) - x\n",
    "GJ(f, 1; tol=1e-15, verbose=true)"
   ]
  },
  {
   "cell_type": "markdown",
   "id": "c470f032-3a8c-4bd1-a16f-b001b415f78b",
   "metadata": {},
   "source": [
    "# Noor's with Enzyme #"
   ]
  },
  {
   "cell_type": "code",
   "execution_count": 13,
   "id": "2e2f3679-473e-48fe-998b-c16492f1c5c5",
   "metadata": {},
   "outputs": [
    {
     "name": "stdout",
     "output_type": "stream",
     "text": [
      "[1] x=1  f(x)=-0.45969769413186023  f'(x)=-1.8414709848078965\n",
      "[2] x=0.9783686806103187  f(x)=-0.41999206915629916  f'(x)=-1.8295875841531906\n",
      "[3] x=0.9596967409291637  f(x)=-0.3859283539588626  f'(x)=-1.8190176054966698\n",
      "[4] x=0.9434626910389852  f(x)=-0.3564745204608044  f'(x)=-1.8095955086345776\n",
      "[5] x=0.9292518941995284  f(x)=-0.33081838273317876  f'(x)=-1.8011724735374115\n",
      "[6] x=0.9167326606030312  f(x)=-0.30831624178299744  f'(x)=-1.7936179567715218\n",
      "[7] x=0.9056378692749032  f(x)=-0.2884540514119285  f'(x)=-1.7868189975897142\n",
      "[8] x=0.8957508924790036  f(x)=-0.270818105510059  f'(x)=-1.7806785585445701\n",
      "[9] x=0.8868948123836067  f(x)=-0.2550728705729093  f'(x)=-1.7751135619033895\n",
      "[10] x=0.8789241368419305  f(x)=-0.2409441519843235  f'(x)=-1.7700529455310767\n",
      "[11] x=0.8717184072464472  f(x)=-0.22820623980557786  f'(x)=-1.7654358825894918\n",
      "[12] x=0.8651772399280803  f(x)=-0.21667203089876896  f'(x)=-1.7612102166036983\n",
      "[13] x=0.8592164568228965  f(x)=-0.20618538662881936  f'(x)=-1.7573311173860335\n",
      "[14] x=0.8537650473267806  f(x)=-0.19661517885685154  f'(x)=-1.7537599421367223\n",
      "[15] x=0.848762767644706  f(x)=-0.18785061870424902  f'(x)=-1.7504632778377016\n",
      "[16] x=0.8441582318286157  f(x)=-0.17979756629197174  f'(x)=-1.7474121393767348\n",
      "[17] x=0.8399073842886103  f(x)=-0.17237559565775118  f'(x)=-1.7445812992328547\n",
      "[18] x=0.8359722700557475  f(x)=-0.16551564491828175  f'(x)=-1.7419487272104992\n",
      "[19] x=0.8323200388578497  f(x)=-0.15915812299179988  f'(x)=-1.7394951217063905\n",
      "[20] x=0.8289221339026758  f(x)=-0.15325137481206408  f'(x)=-1.7372035168865625\n",
      "[21] x=0.8257536274371686  f(x)=-0.14775042981820907  f'(x)=-1.735058952750367\n",
      "[22] x=0.8227926736131295  f(x)=-0.142615975666176  f'(x)=-1.733048197303546\n",
      "[23] x=0.8200200556317631  f(x)=-0.13781351207287895  f'(x)=-1.7311595119571654\n",
      "[24] x=0.8174188090711775  f(x)=-0.1333126495598832  f'(x)=-1.7293824528453556\n",
      "[25] x=0.8149739070972548  f(x)=-0.1290865254007334  f'(x)=-1.727707702054534\n",
      "[26] x=0.8126719961968637  f(x)=-0.12511131487513316  f'(x)=-1.7261269238228243\n",
      "[27] x=0.8105011733594141  f(x)=-0.12136582042112254  f'(x)=-1.7246326416403117\n",
      "[28] x=0.808450797422282  f(x)=-0.11783112476964808  f'(x)=-1.7232181328929528\n",
      "[29] x=0.8065113287032332  f(x)=-0.11449029688014267  f'(x)=-1.7218773382746582\n",
      "[30] x=0.8046741921558372  f(x)=-0.11132814164748484  f'(x)=-1.7206047836674894\n",
      "[31] x=0.8029316601681006  f(x)=-0.10833098605300473  f'(x)=-1.7193955125790363\n",
      "[32] x=0.8012767518305122  f(x)=-0.10548649578576863  f'(x)=-1.7182450275450505\n",
      "[33] x=0.7997031460660007  f(x)=-0.102783517441985  f'(x)=-1.7171492391675278\n",
      "[34] x=0.7982051064706226  f(x)=-0.10021194227876395  f'(x)=-1.7161044216742676\n",
      "[35] x=0.7967774160831333  f(x)=-0.09776258819888728  f'(x)=-1.7151071740641104\n",
      "[36] x=0.7954153206017879  f(x)=-0.09542709721070064  f'(x)=-1.7141543860495356\n",
      "[37] x=0.794114478811725  f(x)=-0.09319784606894499  f'(x)=-1.7132432081306648\n",
      "[38] x=0.7928709191870551  f(x)=-0.09106786817955714  f'(x)=-1.7123710252365458\n",
      "[39] x=0.791681001796917  f(x)=-0.08903078516089713  f'(x)=-1.71153543345455\n",
      "[40] x=0.7905413847811241  f(x)=-0.0870807467086524  f'(x)=-1.7107342194397783\n",
      "[41] x=0.7894489947740068  f(x)=-0.08521237762226774  f'(x)=-1.7099653421559922\n",
      "[42] x=0.7884010007490139  f(x)=-0.08342073102544034  f'(x)=-1.709226916649726\n",
      "[43] x=0.7873947908350233  f(x)=-0.08170124695863279  f'(x)=-1.7085171996015207\n",
      "[44] x=0.7864279517209316  f(x)=-0.08004971564301266  f'(x)=-1.7078345764339629\n",
      "[45] x=0.7854982503201928  f(x)=-0.07846224481699082  f'(x)=-1.7071775497865271\n",
      "[46] x=0.7846036174133862  f(x)=-0.07693523063207575  f'(x)=-1.706544729192949\n",
      "[47] x=0.7837421330261054  f(x)=-0.07546533166689173  f'(x)=-1.7059348218188142\n",
      "[48] x=0.7829120133326745  f(x)=-0.07404944567919292  f'(x)=-1.7053466241357602\n",
      "[49] x=0.7821115989044242  f(x)=-0.07268468876743839  f'(x)=-1.7047790144247266\n",
      "[50] x=0.7813393441452979  f(x)=-0.07136837665747087  f'(x)=-1.704230946014444\n",
      "[51] x=0.7805938077780964  f(x)=-0.0700980078673552  f'(x)=-1.7037014411731697\n",
      "[52] x=0.7798736442622508  f(x)=-0.06887124853549487  f'(x)=-1.7031895855818782\n",
      "[53] x=0.779177596039109  f(x)=-0.0676859187246247  f'(x)=-1.7026945233259057\n",
      "[54] x=0.7785044865137064  f(x)=-0.06653998003788963  f'(x)=-1.7022154523496664\n",
      "[55] x=0.7778532136931958  f(x)=-0.0654315244035567  f'(x)=-1.7017516203256653\n",
      "[56] x=0.7772227444117884  f(x)=-0.0643587639024501  f'(x)=-1.7013023208947635\n",
      "[57] x=0.7766121090804519  f(x)=-0.06332002152739558  f'(x)=-1.700866890239654\n",
      "[58] x=0.7760203969068884  f(x)=-0.062313722777114666  f'(x)=-1.7004447039578618\n",
      "[59] x=0.7754467515376511  f(x)=-0.06133838799845304  f'(x)=-1.7000351742043884\n",
      "[60] x=0.7748903670797807  f(x)=-0.06039262540078627  f'(x)=-1.699637747077455\n",
      "[61] x=0.7743504844641655  f(x)=-0.059475124675128055  f'(x)=-1.6992519002237279\n",
      "[62] x=0.7738263881170482  f(x)=-0.058584651158066214  f'(x)=-1.6988771406419718\n",
      "[63] x=0.7733174029098026  f(x)=-0.05772004048729562  f'(x)=-1.6985130026663435\n",
      "[64] x=0.7728228913603549  f(x)=-0.05688019370135455  f'(x)=-1.6981590461125267\n",
      "[65] x=0.772342251062479  f(x)=-0.056064072741294435  f'(x)=-1.6978148545716731\n",
      "[66] x=0.7718749123217191  f(x)=-0.055270696316531365  f'(x)=-1.6974800338386684\n",
      "[67] x=0.7714203359789146  f(x)=-0.05449913610110613  f'(x)=-1.6971542104626232\n",
      "[68] x=0.7709780114042706  f(x)=-0.05374851323009755  f'(x)=-1.6968370304087061\n",
      "[69] x=0.7705474546466583  f(x)=-0.053017995069044366  f'(x)=-1.696528157821532\n",
      "[70] x=0.7701282067243754  f(x)=-0.052306792231990196  f'(x)=-1.6962272738812745\n",
      "[71] x=0.7697198320449686  f(x)=-0.05161415582621498  f'(x)=-1.6959340757445396\n",
      "[72] x=0.7693219169429422  f(x)=-0.050939374903886  f'(x)=-1.6956482755628044\n",
      "[73] x=0.7689340683252646  f(x)=-0.050281774102808985  f'(x)=-1.695369599571912\n",
      "[74] x=0.7685559124155553  f(x)=-0.04964071146017501  f'(x)=-1.695097787246719\n",
      "[75] x=0.7681870935887017  f(x)=-0.04901557638474874  f'(x)=-1.6948325905155603\n",
      "[76] x=0.7678272732884311  f(x)=-0.04840578777431681  f'(x)=-1.6945737730296653\n",
      "[77] x=0.7674761290210601  f(x)=-0.04781079226645246  f'(x)=-1.6943211094831248\n",
      "[78] x=0.7671333534192641  f(x)=-0.047230062611754  f'(x)=-1.6940743849793893\n",
      "[79] x=0.7667986533702721  f(x)=-0.04666309615970954  f'(x)=-1.6938333944406485\n",
      "[80] x=0.7664717492033928  f(x)=-0.04610941344823072  f'(x)=-1.693597942056756\n",
      "[81] x=0.7661523739322351  f(x)=-0.04556855688870198  f'(x)=-1.6933678407706632\n",
      "[82] x=0.76584027254739  f(x)=-0.04504008953911087  f'(x)=-1.6931429117975827\n",
      "[83] x=0.765535201355713  f(x)=-0.04452359395848049  f'(x)=-1.6929229841753404\n",
      "[84] x=0.7652369273626775  f(x)=-0.04401867113640834  f'(x)=-1.6927078943435967\n",
      "[85] x=0.7649452276945715  f(x)=-0.04352493949205394  f'(x)=-1.6924974857498014\n",
      "[86] x=0.7646598890575819  f(x)=-0.04304203393739092  f'(x)=-1.6922916084799347\n",
      "[87] x=0.7643807072310573  f(x)=-0.04256960499998097  f'(x)=-1.6920901189122401\n",
      "[88] x=0.7641074865924677  f(x)=-0.04210731800091827  f'(x)=-1.6918928793923045\n",
      "[89] x=0.7638400396717767  f(x)=-0.04165485228395338  f'(x)=-1.6916997579279716\n",
      "[90] x=0.7635781867331339  f(x)=-0.041211900492130304  f'(x)=-1.6915106279026957\n",
      "[91] x=0.763321755381959  f(x)=-0.04077816788856736  f'(x)=-1.6913253678060567\n",
      "[92] x=0.7630705801956426  f(x)=-0.040353371718279574  f'(x)=-1.6911438609802505\n",
      "[93] x=0.7628245023762318  f(x)=-0.039937240608190816  f'(x)=-1.6909659953814686\n",
      "[94] x=0.7625833694235926  f(x)=-0.03952951400270299  f'(x)=-1.690791663355159\n",
      "[95] x=0.7623470348276588  f(x)=-0.03912994163239525  f'(x)=-1.6906207614242375\n",
      "[96] x=0.7621153577784849  f(x)=-0.038738283013617036  f'(x)=-1.6904531900893955\n",
      "[97] x=0.761888202892917  f(x)=-0.038354306976903674  f'(x)=-1.6902888536407028\n",
      "[98] x=0.7616654399567819  f(x)=-0.03797779122230105  f'(x)=-1.6901276599797739\n",
      "[99] x=0.761446943681584  f(x)=-0.037608521899835656  f'(x)=-1.689969520451815\n",
      "[100] x=0.7612325934747654  f(x)=-0.03724629321348605  f'(x)=-1.6898143496869173\n"
     ]
    }
   ],
   "source": [
    "\n",
    "    # Noor's method with Enzyme\n",
    "\n",
    "function noor(f, x0; tol=1e-8, verbose=false)\n",
    "    x = x0\n",
    "    for k in 1:100 # max number of iterations\n",
    "        fx = f(x)\n",
    "        fpx = first(Enzyme.autodiff(f, Active(x)))\n",
    "        y = x - fx/fpx\n",
    "        fpy = first(Enzyme.autodiff(f, Active(y)))\n",
    "        if verbose\n",
    "            println(\"[$k] x=$x  f(x)=$fx  f'(x)=$fpx\")\n",
    "        end\n",
    "        if abs(fx) < tol\n",
    "            return x, fx, k\n",
    "        end\n",
    "        x = x - (fx / fpx) + (fx / fpx) * (fpy / fpx)\n",
    "    end  \n",
    "end\n",
    "\n",
    "f(x) = cos(x) - x\n",
    "noor(f, 1; tol=1e-15, verbose=true)"
   ]
  },
  {
   "cell_type": "markdown",
   "id": "38ca6cd1-38c3-4293-a140-b399209f7fc9",
   "metadata": {},
   "source": [
    "# Noor's with Zygote #"
   ]
  },
  {
   "cell_type": "code",
   "execution_count": 14,
   "id": "953efea1-9156-4309-b73f-7b0d86b7adca",
   "metadata": {},
   "outputs": [
    {
     "name": "stdout",
     "output_type": "stream",
     "text": [
      "[1] x=1  f(x)=-0.45969769413186023  f'(x)=-1.8414709848078965\n",
      "[2] x=0.9783686806103187  f(x)=-0.41999206915629916  f'(x)=-1.8295875841531906\n",
      "[3] x=0.9596967409291637  f(x)=-0.3859283539588626  f'(x)=-1.8190176054966698\n",
      "[4] x=0.9434626910389852  f(x)=-0.3564745204608044  f'(x)=-1.8095955086345776\n",
      "[5] x=0.9292518941995284  f(x)=-0.33081838273317876  f'(x)=-1.8011724735374115\n",
      "[6] x=0.9167326606030312  f(x)=-0.30831624178299744  f'(x)=-1.7936179567715218\n",
      "[7] x=0.9056378692749032  f(x)=-0.2884540514119285  f'(x)=-1.7868189975897142\n",
      "[8] x=0.8957508924790036  f(x)=-0.270818105510059  f'(x)=-1.7806785585445701\n",
      "[9] x=0.8868948123836067  f(x)=-0.2550728705729093  f'(x)=-1.7751135619033895\n",
      "[10] x=0.8789241368419305  f(x)=-0.2409441519843235  f'(x)=-1.7700529455310767\n",
      "[11] x=0.8717184072464472  f(x)=-0.22820623980557786  f'(x)=-1.7654358825894918\n",
      "[12] x=0.8651772399280803  f(x)=-0.21667203089876896  f'(x)=-1.7612102166036983\n",
      "[13] x=0.8592164568228965  f(x)=-0.20618538662881936  f'(x)=-1.7573311173860335\n",
      "[14] x=0.8537650473267806  f(x)=-0.19661517885685154  f'(x)=-1.7537599421367223\n",
      "[15] x=0.848762767644706  f(x)=-0.18785061870424902  f'(x)=-1.7504632778377016\n",
      "[16] x=0.8441582318286157  f(x)=-0.17979756629197174  f'(x)=-1.7474121393767348\n",
      "[17] x=0.8399073842886103  f(x)=-0.17237559565775118  f'(x)=-1.7445812992328547\n",
      "[18] x=0.8359722700557475  f(x)=-0.16551564491828175  f'(x)=-1.7419487272104992\n",
      "[19] x=0.8323200388578497  f(x)=-0.15915812299179988  f'(x)=-1.7394951217063905\n",
      "[20] x=0.8289221339026758  f(x)=-0.15325137481206408  f'(x)=-1.7372035168865625\n",
      "[21] x=0.8257536274371686  f(x)=-0.14775042981820907  f'(x)=-1.735058952750367\n",
      "[22] x=0.8227926736131295  f(x)=-0.142615975666176  f'(x)=-1.733048197303546\n",
      "[23] x=0.8200200556317631  f(x)=-0.13781351207287895  f'(x)=-1.7311595119571654\n",
      "[24] x=0.8174188090711775  f(x)=-0.1333126495598832  f'(x)=-1.7293824528453556\n",
      "[25] x=0.8149739070972548  f(x)=-0.1290865254007334  f'(x)=-1.727707702054534\n",
      "[26] x=0.8126719961968637  f(x)=-0.12511131487513316  f'(x)=-1.7261269238228243\n",
      "[27] x=0.8105011733594141  f(x)=-0.12136582042112254  f'(x)=-1.7246326416403117\n",
      "[28] x=0.808450797422282  f(x)=-0.11783112476964808  f'(x)=-1.7232181328929528\n",
      "[29] x=0.8065113287032332  f(x)=-0.11449029688014267  f'(x)=-1.7218773382746582\n",
      "[30] x=0.8046741921558372  f(x)=-0.11132814164748484  f'(x)=-1.7206047836674894\n",
      "[31] x=0.8029316601681006  f(x)=-0.10833098605300473  f'(x)=-1.7193955125790363\n",
      "[32] x=0.8012767518305122  f(x)=-0.10548649578576863  f'(x)=-1.7182450275450505\n",
      "[33] x=0.7997031460660007  f(x)=-0.102783517441985  f'(x)=-1.7171492391675278\n",
      "[34] x=0.7982051064706226  f(x)=-0.10021194227876395  f'(x)=-1.7161044216742676\n",
      "[35] x=0.7967774160831333  f(x)=-0.09776258819888728  f'(x)=-1.7151071740641104\n",
      "[36] x=0.7954153206017879  f(x)=-0.09542709721070064  f'(x)=-1.7141543860495356\n",
      "[37] x=0.794114478811725  f(x)=-0.09319784606894499  f'(x)=-1.7132432081306648\n",
      "[38] x=0.7928709191870551  f(x)=-0.09106786817955714  f'(x)=-1.7123710252365458\n",
      "[39] x=0.791681001796917  f(x)=-0.08903078516089713  f'(x)=-1.71153543345455\n",
      "[40] x=0.7905413847811241  f(x)=-0.0870807467086524  f'(x)=-1.7107342194397783\n",
      "[41] x=0.7894489947740068  f(x)=-0.08521237762226774  f'(x)=-1.7099653421559922\n",
      "[42] x=0.7884010007490139  f(x)=-0.08342073102544034  f'(x)=-1.709226916649726\n",
      "[43] x=0.7873947908350233  f(x)=-0.08170124695863279  f'(x)=-1.7085171996015207\n",
      "[44] x=0.7864279517209316  f(x)=-0.08004971564301266  f'(x)=-1.7078345764339629\n",
      "[45] x=0.7854982503201928  f(x)=-0.07846224481699082  f'(x)=-1.7071775497865271\n",
      "[46] x=0.7846036174133862  f(x)=-0.07693523063207575  f'(x)=-1.706544729192949\n",
      "[47] x=0.7837421330261054  f(x)=-0.07546533166689173  f'(x)=-1.7059348218188142\n",
      "[48] x=0.7829120133326745  f(x)=-0.07404944567919292  f'(x)=-1.7053466241357602\n",
      "[49] x=0.7821115989044242  f(x)=-0.07268468876743839  f'(x)=-1.7047790144247266\n",
      "[50] x=0.7813393441452979  f(x)=-0.07136837665747087  f'(x)=-1.704230946014444\n",
      "[51] x=0.7805938077780964  f(x)=-0.0700980078673552  f'(x)=-1.7037014411731697\n",
      "[52] x=0.7798736442622508  f(x)=-0.06887124853549487  f'(x)=-1.7031895855818782\n",
      "[53] x=0.779177596039109  f(x)=-0.0676859187246247  f'(x)=-1.7026945233259057\n",
      "[54] x=0.7785044865137064  f(x)=-0.06653998003788963  f'(x)=-1.7022154523496664\n",
      "[55] x=0.7778532136931958  f(x)=-0.0654315244035567  f'(x)=-1.7017516203256653\n",
      "[56] x=0.7772227444117884  f(x)=-0.0643587639024501  f'(x)=-1.7013023208947635\n",
      "[57] x=0.7766121090804519  f(x)=-0.06332002152739558  f'(x)=-1.700866890239654\n",
      "[58] x=0.7760203969068884  f(x)=-0.062313722777114666  f'(x)=-1.7004447039578618\n",
      "[59] x=0.7754467515376511  f(x)=-0.06133838799845304  f'(x)=-1.7000351742043884\n",
      "[60] x=0.7748903670797807  f(x)=-0.06039262540078627  f'(x)=-1.699637747077455\n",
      "[61] x=0.7743504844641655  f(x)=-0.059475124675128055  f'(x)=-1.6992519002237279\n",
      "[62] x=0.7738263881170482  f(x)=-0.058584651158066214  f'(x)=-1.6988771406419718\n",
      "[63] x=0.7733174029098026  f(x)=-0.05772004048729562  f'(x)=-1.6985130026663435\n",
      "[64] x=0.7728228913603549  f(x)=-0.05688019370135455  f'(x)=-1.6981590461125267\n",
      "[65] x=0.772342251062479  f(x)=-0.056064072741294435  f'(x)=-1.6978148545716731\n",
      "[66] x=0.7718749123217191  f(x)=-0.055270696316531365  f'(x)=-1.6974800338386684\n",
      "[67] x=0.7714203359789146  f(x)=-0.05449913610110613  f'(x)=-1.6971542104626232\n",
      "[68] x=0.7709780114042706  f(x)=-0.05374851323009755  f'(x)=-1.6968370304087061\n",
      "[69] x=0.7705474546466583  f(x)=-0.053017995069044366  f'(x)=-1.696528157821532\n",
      "[70] x=0.7701282067243754  f(x)=-0.052306792231990196  f'(x)=-1.6962272738812745\n",
      "[71] x=0.7697198320449686  f(x)=-0.05161415582621498  f'(x)=-1.6959340757445396\n",
      "[72] x=0.7693219169429422  f(x)=-0.050939374903886  f'(x)=-1.6956482755628044\n",
      "[73] x=0.7689340683252646  f(x)=-0.050281774102808985  f'(x)=-1.695369599571912\n",
      "[74] x=0.7685559124155553  f(x)=-0.04964071146017501  f'(x)=-1.695097787246719\n",
      "[75] x=0.7681870935887017  f(x)=-0.04901557638474874  f'(x)=-1.6948325905155603\n",
      "[76] x=0.7678272732884311  f(x)=-0.04840578777431681  f'(x)=-1.6945737730296653\n",
      "[77] x=0.7674761290210601  f(x)=-0.04781079226645246  f'(x)=-1.6943211094831248\n",
      "[78] x=0.7671333534192641  f(x)=-0.047230062611754  f'(x)=-1.6940743849793893\n",
      "[79] x=0.7667986533702721  f(x)=-0.04666309615970954  f'(x)=-1.6938333944406485\n",
      "[80] x=0.7664717492033928  f(x)=-0.04610941344823072  f'(x)=-1.693597942056756\n",
      "[81] x=0.7661523739322351  f(x)=-0.04556855688870198  f'(x)=-1.6933678407706632\n",
      "[82] x=0.76584027254739  f(x)=-0.04504008953911087  f'(x)=-1.6931429117975827\n",
      "[83] x=0.765535201355713  f(x)=-0.04452359395848049  f'(x)=-1.6929229841753404\n",
      "[84] x=0.7652369273626775  f(x)=-0.04401867113640834  f'(x)=-1.6927078943435967\n",
      "[85] x=0.7649452276945715  f(x)=-0.04352493949205394  f'(x)=-1.6924974857498014\n",
      "[86] x=0.7646598890575819  f(x)=-0.04304203393739092  f'(x)=-1.6922916084799347\n",
      "[87] x=0.7643807072310573  f(x)=-0.04256960499998097  f'(x)=-1.6920901189122401\n",
      "[88] x=0.7641074865924677  f(x)=-0.04210731800091827  f'(x)=-1.6918928793923045\n",
      "[89] x=0.7638400396717767  f(x)=-0.04165485228395338  f'(x)=-1.6916997579279716\n",
      "[90] x=0.7635781867331339  f(x)=-0.041211900492130304  f'(x)=-1.6915106279026957\n",
      "[91] x=0.763321755381959  f(x)=-0.04077816788856736  f'(x)=-1.6913253678060567\n",
      "[92] x=0.7630705801956426  f(x)=-0.040353371718279574  f'(x)=-1.6911438609802505\n",
      "[93] x=0.7628245023762318  f(x)=-0.039937240608190816  f'(x)=-1.6909659953814686\n",
      "[94] x=0.7625833694235926  f(x)=-0.03952951400270299  f'(x)=-1.690791663355159\n",
      "[95] x=0.7623470348276588  f(x)=-0.03912994163239525  f'(x)=-1.6906207614242375\n",
      "[96] x=0.7621153577784849  f(x)=-0.038738283013617036  f'(x)=-1.6904531900893955\n",
      "[97] x=0.761888202892917  f(x)=-0.038354306976903674  f'(x)=-1.6902888536407028\n",
      "[98] x=0.7616654399567819  f(x)=-0.03797779122230105  f'(x)=-1.6901276599797739\n",
      "[99] x=0.761446943681584  f(x)=-0.037608521899835656  f'(x)=-1.689969520451815\n",
      "[100] x=0.7612325934747654  f(x)=-0.03724629321348605  f'(x)=-1.6898143496869173\n"
     ]
    }
   ],
   "source": [
    "\n",
    "    # Noor's method with Zygote\n",
    "\n",
    "function noor(f, x0; tol=1e-8, verbose=false)\n",
    "    x = x0\n",
    "    for k in 1:100 # max number of iterations\n",
    "        fx = f(x)\n",
    "        fpx = first(Zygote.gradient(f, x))\n",
    "        y = x - fx/fpx\n",
    "        fpy = first(Zygote.gradient(f, y))\n",
    "        if verbose\n",
    "            println(\"[$k] x=$x  f(x)=$fx  f'(x)=$fpx\")\n",
    "        end\n",
    "        if abs(fx) < tol\n",
    "            return x, fx, k\n",
    "        end\n",
    "        x = x - (fx / fpx) + (fx / fpx) * (fpy / fpx)\n",
    "    end  \n",
    "end\n",
    "\n",
    "f(x) = cos(x) - x\n",
    "noor(f, 1; tol=1e-15, verbose=true)"
   ]
  },
  {
   "cell_type": "markdown",
   "id": "7c61ff62-6d6d-4fdb-82e1-9da5ba54d1fd",
   "metadata": {},
   "source": [
    "# Zhanlav's with Enzyme #"
   ]
  },
  {
   "cell_type": "code",
   "execution_count": 15,
   "id": "9d8331cb-4b80-4237-8d38-6d31413ea465",
   "metadata": {},
   "outputs": [
    {
     "name": "stdout",
     "output_type": "stream",
     "text": [
      "[1] x=1  f(x)=-0.45969769413186023  f'(x)=-1.8414709848078965\n",
      "[2] x=0.740062576167659  f(x)=-0.0016362132372911287  f'(x)=-1.6743341208402764\n",
      "[3] x=0.7390851333060271  f(x)=-1.5207513026638253e-10  f'(x)=-1.673612029250373\n",
      "[4] x=0.7390851332151607  f(x)=0.0  f'(x)=-1.6736120291832148\n"
     ]
    },
    {
     "data": {
      "text/plain": [
       "(0.7390851332151607, 0.0, 4)"
      ]
     },
     "execution_count": 15,
     "metadata": {},
     "output_type": "execute_result"
    }
   ],
   "source": [
    "\n",
    "    # Zhanlav's method with Enzyme\n",
    "\n",
    "function zhanlav(f, x0; tol=1e-8, verbose=false)\n",
    "    x = x0\n",
    "    for k in 1:1000 # max number of iterations\n",
    "        \n",
    "        fx = f(x)\n",
    "        fpx = first(Enzyme.autodiff(f, Active(x)))\n",
    "        \n",
    "        z = x - fx/fpx\n",
    "        fz = f(z)\n",
    "        fpz = first(Enzyme.autodiff(f, Active(z)))\n",
    "\n",
    "        q = z - fz/fpz\n",
    "        fq = f(q)\n",
    "        \n",
    "        if verbose\n",
    "            println(\"[$k] x=$x  f(x)=$fx  f'(x)=$fpx\")\n",
    "        end\n",
    "        if abs(fx) < tol\n",
    "            return x, fx, k\n",
    "        end\n",
    "        x = z - (fz + fq)/fpx\n",
    "    end  \n",
    "end\n",
    "\n",
    "f(x) = cos(x) - x\n",
    "zhanlav(f, 1; tol=1e-15, verbose=true)"
   ]
  },
  {
   "cell_type": "markdown",
   "id": "6f5708dc-aff6-455f-9b9c-c5ea04320615",
   "metadata": {},
   "source": [
    "# Zhanlav's with Zygote #"
   ]
  },
  {
   "cell_type": "code",
   "execution_count": 16,
   "id": "faf7c82c-48fb-4420-84bd-cd70fbf64545",
   "metadata": {},
   "outputs": [
    {
     "name": "stdout",
     "output_type": "stream",
     "text": [
      "[1] x=1  f(x)=-0.45969769413186023  f'(x)=-1.8414709848078965\n",
      "[2] x=0.740062576167659  f(x)=-0.0016362132372911287  f'(x)=-1.6743341208402764\n",
      "[3] x=0.7390851333060271  f(x)=-1.5207513026638253e-10  f'(x)=-1.673612029250373\n",
      "[4] x=0.7390851332151607  f(x)=0.0  f'(x)=-1.6736120291832148\n"
     ]
    },
    {
     "data": {
      "text/plain": [
       "(0.7390851332151607, 0.0, 4)"
      ]
     },
     "execution_count": 16,
     "metadata": {},
     "output_type": "execute_result"
    }
   ],
   "source": [
    "\n",
    "    # Zhanlav's method with Zygote\n",
    "\n",
    "function zhanlav(f, x0; tol=1e-8, verbose=false)\n",
    "    x = x0\n",
    "    for k in 1:1000 # max number of iterations\n",
    "        \n",
    "        fx = f(x)\n",
    "        fpx = first(Zygote.gradient(f, x))\n",
    "        \n",
    "        z = x - fx/fpx\n",
    "        fz = f(z)\n",
    "        fpz = first(Zygote.gradient(f, z))\n",
    "        \n",
    "        q = z - fz/fpz\n",
    "        fq = f(q)\n",
    "        \n",
    "        if verbose\n",
    "            println(\"[$k] x=$x  f(x)=$fx  f'(x)=$fpx\")\n",
    "        end\n",
    "        if abs(fx) < tol\n",
    "            return x, fx, k\n",
    "        end\n",
    "        x = z - (fz + fq)/fpx\n",
    "    end  \n",
    "end\n",
    "\n",
    "f(x) = cos(x) - x\n",
    "zhanlav(f, 1; tol=1e-15, verbose=true)"
   ]
  },
  {
   "cell_type": "markdown",
   "id": "24634266-7f41-4c60-a887-6f626f9c785a",
   "metadata": {},
   "source": [
    "# Forward difference with Enzyme & Zygote #"
   ]
  },
  {
   "cell_type": "code",
   "execution_count": 17,
   "id": "ef5a51e9-0f12-4ff7-a87b-d386f1881c66",
   "metadata": {},
   "outputs": [
    {
     "name": "stdout",
     "output_type": "stream",
     "text": [
      "[0.5048506721831889, 0.07769202306010259, 0.39605201208864704, 0.9446193536370395, 0.10167505278872202]\n",
      "[0.9681102010341573, 0.02794158836224958, 0.7865703877490788, 0.5084142065330726, 0.08674916020906553]\n"
     ]
    }
   ],
   "source": [
    "\n",
    "    # testing\n",
    "    # forward difference method with Enzyme and Zygote's functions.\n",
    "\n",
    "f(x::Vector) = sum(sin, x) + prod(tan, x) * sum(sqrt, x);\n",
    "x = rand(5)\n",
    "x2 = rand(5)\n",
    "\n",
    "g = x -> Enzyme.fwddiff(f, x);\n",
    "g2 = x2 -> Zygote.forwarddiff(f, x);\n",
    "\n",
    "println(x)\n",
    "println(x2)"
   ]
  },
  {
   "cell_type": "code",
   "execution_count": null,
   "id": "88d79d75-bff3-40e5-afd1-d34db99a0391",
   "metadata": {},
   "outputs": [],
   "source": []
  }
 ],
 "metadata": {
  "kernelspec": {
   "display_name": "Julia 1.6.1",
   "language": "julia",
   "name": "julia-1.6"
  },
  "language_info": {
   "file_extension": ".jl",
   "mimetype": "application/julia",
   "name": "julia",
   "version": "1.6.1"
  }
 },
 "nbformat": 4,
 "nbformat_minor": 5
}
