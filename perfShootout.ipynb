{
 "cells": [
  {
   "cell_type": "markdown",
   "id": "8f4a3ab4-46eb-42f7-9886-9d92d703df17",
   "metadata": {},
   "source": [
    "# Welcome! #\n",
    "## Enzyme and Zygote Performance Shootout ##\n",
    "\n",
    "### Project Information ###\n",
    "\n",
    "If you're interested in seeing a project synopsis and the benchmarks for performance we'll measuring, please take a look at our project documentation. \n",
    "\n",
    "### What Now? ###\n",
    "\n",
    "Let's start by setting up Enzyme and Zygote in our environment to start testing some differentiation. Our primary benchmark is the physical timing of a differentiation operation. In order to measure this we will simply be using the `@time` Julia method. These times will then be compared to measure how fast differentiation is actually done, along with comparing other important benchmarks.\n",
    "\n",
    "#### Import the Packages ####"
   ]
  },
  {
   "cell_type": "code",
   "execution_count": 1,
   "id": "6e90859f-b2bf-4445-841b-5bb7a1842f19",
   "metadata": {},
   "outputs": [],
   "source": [
    "using Pkg\n",
    "\n",
    "Pkg.add(\"Enzyme\")\n",
    "Pkg.add(\"Zygote\")\n",
    "Pkg.add(\"Plots\")"
   ]
  },
  {
   "cell_type": "code",
   "execution_count": 2,
   "id": "ea6ab306-c25b-447f-93b5-b1fd78f86453",
   "metadata": {},
   "outputs": [],
   "source": [
    "using Zygote\n",
    "using Enzyme\n",
    "using Plots\n",
    "using Statistics"
   ]
  },
  {
   "cell_type": "markdown",
   "id": "00e47575-cc71-4117-902e-a26381f3430f",
   "metadata": {},
   "source": [
    "#### What Next? ####\n",
    "\n",
    "Now that the packages have been added to the environment, we can start testing them out. First, a quick demonstration of the timing function we will be using. "
   ]
  },
  {
   "cell_type": "code",
   "execution_count": 3,
   "id": "c69fc010-4ab8-4f4c-bded-1ee063914f2b",
   "metadata": {},
   "outputs": [
    {
     "name": "stdout",
     "output_type": "stream",
     "text": [
      "  0.000036 seconds\n"
     ]
    },
    {
     "data": {
      "text/plain": [
       "10946"
      ]
     },
     "execution_count": 3,
     "metadata": {},
     "output_type": "execute_result"
    }
   ],
   "source": [
    "function fib(n)\n",
    "    if n <= 1\n",
    "        return 1\n",
    "    else\n",
    "        return fib(n - 1) + fib(n - 2)\n",
    "    end\n",
    "end\n",
    "    \n",
    "@time fib(20)"
   ]
  },
  {
   "cell_type": "markdown",
   "id": "47db2c2e-b529-4fa7-a597-e5abfa5039a1",
   "metadata": {},
   "source": [
    "#### Functions ####\n",
    "\n",
    "For this shootout we will be handling differentiation for rootfinding problems. Specifically, we will be testing differentiation efficiency for aiding five different rootfinding algorithms, being Halley's, Golbabai-Javidi, Newton's, Noor's, and Zhanlav's Method.\n",
    "\n",
    "Those methods look like such:\n",
    "\n",
    "**Halley's Method**\n",
    "\n",
    "$x_{n + 1} = x_{n} - \\frac{2f(x_n)f^{\\prime}(x_n)}{2f^{\\prime}(x_n)^2 - f(x_n)f^{\\prime \\prime}(x_n)}$\n",
    "\n",
    "**Golbabai-Javidi Method**\n",
    "\n",
    "$x_{n + 1} = x_{n} - \\frac{f(x_n)}{f^{\\prime}(x_n)} - \\frac{f(x_n)f^{\\prime \\prime}(x_n)}{2(f^{\\prime \\prime \\prime}(x_n) - f(x_n)f^{\\prime}(x_n)f^{\\prime \\prime}(x_n))}$\n",
    "\n",
    "**Newton's Method**\n",
    "\n",
    "$x_{n + 1} = x_{n} - \\frac{f(x_n)}{f^{\\prime}(x_n)}$\n",
    "\n",
    "**Noor's Method**\n",
    "\n",
    "$y_n = x_n - \\frac{f(x_n)}{f^{\\prime}(x_n)}$\n",
    "\n",
    "$x_{n + 1} = x_{n} - \\frac{f(x_n)}{f^{\\prime}(x_n)} + (\\frac{f(x_n)}{f^{\\prime}(x_n)})\\frac{f^{\\prime}(y_n)}{f^{\\prime}(x_n)}$\n",
    "\n",
    "**Zhanlav's Method**\n",
    "\n",
    "$z_n = y_n - \\frac{f(y_n)}{f^{\\prime}(y_n)}$\n",
    "\n",
    "$q_n = z_n - \\frac{f(z_n)}{f^{\\prime}(y_n)}$\n",
    "\n",
    "$y_{n + 1} = z_n - \\frac{f(z_n) + f(q_n)}{f^{\\prime}(y_n)}$\n",
    "\n",
    "Before implementation of these various rootfinding algorithms, however, we can demonstrate some fairly basic differentiation using some basic functions below. This, similar to the time test, will present the methods we will be using and how they work.\n",
    "\n",
    "We will be performing both of these tests using Enzyme and Zygote on three different functions, which will be defined below.\n",
    "\n",
    "#### Test Functions ####\n",
    "\n",
    "$f(x) = 5x^{10}$\n",
    "\n",
    "$g(x) = 3x^3(cos(x) - 10x)$\n",
    "\n",
    "$h(x) = e^{\\frac{5x}{2}(sin(x)^{e^x})}$\n",
    "\n",
    "#### Zygote Method ####\n",
    "\n",
    "Zygote is the auto differentiation tool specifically made for Julia and uses the `gradient` method for computing derivatives. We hypothesize that this tool will likely be better optimized for Julia, but we will test this below by timing some basic differentiation!\n",
    "\n",
    "#### Enzyme Method ####\n",
    "\n",
    "Enzyme is another auto differentiation tool that is not specifically designed for Julia and is more generally designed for many different languages. This package uses the `autodiff` method for computing derivatives. Given that this tool is not specifically built for Julia, we hypothesize that these method calls will be significantly less optimized.\n",
    "\n",
    "#### What are we testing? ####\n",
    "\n",
    "For all three functions we will be timing the differentiation speed of both packages at an x-value of $2$.\n",
    "\n",
    "#### Function One ####"
   ]
  },
  {
   "cell_type": "code",
   "execution_count": 4,
   "id": "70ad8b04-5073-471c-9f83-ef7200cdac96",
   "metadata": {},
   "outputs": [
    {
     "name": "stdout",
     "output_type": "stream",
     "text": [
      " 23.312653 seconds (28.55 M allocations: 1.644 GiB, 4.59% gc time, 100.01% compilation time)\n",
      " 17.650693 seconds (19.74 M allocations: 1.105 GiB, 4.38% gc time, 0.03% compilation time)\n",
      "zyg = (25600.0,)\n",
      "enz = (25600.0,)\n"
     ]
    },
    {
     "data": {
      "text/plain": [
       "(25600.0,)"
      ]
     },
     "execution_count": 4,
     "metadata": {},
     "output_type": "execute_result"
    }
   ],
   "source": [
    "f(x) = 5x^10\n",
    "x = 2\n",
    "@time zyg = gradient(x -> f(x), x)\n",
    "@time enz = autodiff(f, Active(x))\n",
    "@show zyg\n",
    "@show enz"
   ]
  },
  {
   "cell_type": "markdown",
   "id": "0bda72e9-7fca-46f8-9614-82b0c5822859",
   "metadata": {},
   "source": [
    "#### Function Two ####"
   ]
  },
  {
   "cell_type": "code",
   "execution_count": 5,
   "id": "2f9399cf-6ac6-40be-86d4-20d566398b1d",
   "metadata": {},
   "outputs": [
    {
     "name": "stdout",
     "output_type": "stream",
     "text": [
      "  0.356357 seconds (495.13 k allocations: 28.543 MiB, 29.38% gc time, 99.95% compilation time)\n",
      "  4.130326 seconds (6.26 M allocations: 362.806 MiB, 3.88% gc time, 39.18% compilation time)\n",
      "zyg = (-996.8044243595134,)\n",
      "enz = (-996.8044243595134,)\n"
     ]
    },
    {
     "data": {
      "text/plain": [
       "(-996.8044243595134,)"
      ]
     },
     "execution_count": 5,
     "metadata": {},
     "output_type": "execute_result"
    }
   ],
   "source": [
    "gf(x) = 3x^3 * (cos(x) - 10x)\n",
    "x = 2\n",
    "@time zyg = gradient(x -> gf(x), x)\n",
    "@time enz = autodiff(gf, Active(x))\n",
    "@show zyg\n",
    "@show enz"
   ]
  },
  {
   "cell_type": "markdown",
   "id": "672a9477-c510-4308-921e-4d5cfb755692",
   "metadata": {},
   "source": [
    "#### Function Three ####"
   ]
  },
  {
   "cell_type": "code",
   "execution_count": 6,
   "id": "50e1dfa3-9e96-4ee7-b7f3-6c95a6595fe2",
   "metadata": {},
   "outputs": [
    {
     "name": "stdout",
     "output_type": "stream",
     "text": [
      "  0.361814 seconds (649.20 k allocations: 40.221 MiB, 15.22% gc time, 99.96% compilation time)\n",
      "  2.381995 seconds (3.32 M allocations: 188.232 MiB, 2.88% gc time, 91.09% compilation time)\n",
      "zyg = (-105.63101149036947,)\n",
      "enz = (-105.63101149036945,)\n"
     ]
    },
    {
     "data": {
      "text/plain": [
       "(-105.63101149036945,)"
      ]
     },
     "execution_count": 6,
     "metadata": {},
     "output_type": "execute_result"
    }
   ],
   "source": [
    "hf(x) = exp((5x / 2) * (sin(x)^(exp(x))))\n",
    "x = 2\n",
    "@time zyg = gradient(x -> hf(x), x)\n",
    "@time enz = autodiff(hf, Active(x))\n",
    "@show zyg\n",
    "@show enz"
   ]
  },
  {
   "cell_type": "markdown",
   "id": "a9a67a7d-2740-4b5a-beef-51f913834685",
   "metadata": {},
   "source": [
    "#### What are the results? ####\n",
    "\n",
    "From using the differentiation method from Zygote and Enzyme in the above functions, we can see that both methods produce essentially the same results, being identical in the first two cases and different at the $10^{-14}$ digit in the last results. Reasonably, we can conclude that both of these methods are possess similar accuarcy from this small test. We can also see that both methods have relatively identical speeds, with Enzyme being generally a bit slower and Zygote a bit faster. In terms of time, no conclusions can really be drawn, so it might be worth performing these computations a few times and pulling the respective means, variances, standard deviations, and medians. Finally, we can clearly see that Enzyme also generally requires more memory allocation than Zygote and takes a smaller percentage of compilation time. This similarly is a bit hard to gage however which is better, so a similar approach to the aforementioned would be useful."
   ]
  },
  {
   "cell_type": "markdown",
   "id": "cccd2d78-732e-411b-8edc-052ae3a2dd52",
   "metadata": {},
   "source": [
    "#### Data Science ####\n",
    "\n",
    "Let's try collecting a larger sample set of differentiation tests to better understand which method seems to be more optimal. Below we have defined a for loop that calls the differentiation methods $100$ times each, and then collects the results. These results will be passed to a data science function at the end that uses a variety of Julia Statistics methods to compute the corresponding data science values. For the tests, we will once again differentiate at $x = 2$."
   ]
  },
  {
   "cell_type": "code",
   "execution_count": 7,
   "id": "e34396d3-d6c2-40ea-b57c-75bf5fca0d2e",
   "metadata": {},
   "outputs": [
    {
     "data": {
      "text/plain": [
       "dataSci (generic function with 1 method)"
      ]
     },
     "execution_count": 7,
     "metadata": {},
     "output_type": "execute_result"
    }
   ],
   "source": [
    "function dataSci(timeEnz, sizeEnz, timeZyg, sizeZyg)\n",
    "    timeEnzMean = mean(timeEnz)\n",
    "    sizeEnzMean = mean(sizeEnz)\n",
    "    timeZygMean = mean(timeZyg)\n",
    "    sizeZygMean = mean(sizeZyg)\n",
    "    \n",
    "    timeEnzVar = var(timeEnz)\n",
    "    sizeEnzVar = var(sizeEnz)\n",
    "    timeZygVar = var(timeZyg)\n",
    "    sizeZygVar = var(sizeZyg)\n",
    "    \n",
    "    timeEnzStd = timeEnzVar ^ (1 / 2)\n",
    "    sizeEnzStd = sizeEnzVar ^ (1 / 2)\n",
    "    timeZygStd = timeZygVar ^ (1 / 2)\n",
    "    sizeZygStd = sizeZygVar ^ (1 / 2)\n",
    "    \n",
    "    timeEnzMed = median(timeEnz)\n",
    "    sizeEnzMed = median(sizeEnz)\n",
    "    timeZygMed = median(timeZyg)\n",
    "    sizeZygMed = median(sizeZyg)\n",
    "    \n",
    "    @show timeEnzMean\n",
    "    @show timeEnzVar\n",
    "    @show timeEnzStd\n",
    "    @show timeEnzMed\n",
    "    \n",
    "    @show sizeEnzMean\n",
    "    @show sizeEnzVar\n",
    "    @show sizeEnzStd\n",
    "    @show sizeEnzMed\n",
    "    \n",
    "    \n",
    "    @show timeZygMean\n",
    "    @show timeZygVar\n",
    "    @show timeZygStd\n",
    "    @show timeZygMed\n",
    "    \n",
    "    @show sizeZygMean\n",
    "    @show sizeZygVar\n",
    "    @show sizeZygStd\n",
    "    @show sizeZygMed\n",
    "end"
   ]
  },
  {
   "cell_type": "markdown",
   "id": "31d4328b-cfd8-4742-b508-7ede25190bf6",
   "metadata": {},
   "source": [
    "#### Function One ####"
   ]
  },
  {
   "cell_type": "code",
   "execution_count": 8,
   "id": "3761d631-2035-44d5-a5e3-3882eafedd34",
   "metadata": {},
   "outputs": [
    {
     "name": "stdout",
     "output_type": "stream",
     "text": [
      "timeEnzMean = 0.06858078295\n",
      "timeEnzVar = 0.00029176143945233626\n",
      "timeEnzStd = 0.01708102571429293\n",
      "timeEnzMed = 0.063657477\n",
      "sizeEnzMean = 5.51844364e6\n",
      "sizeEnzVar = 289297.6872727281\n",
      "sizeEnzStd = 537.8640044404608\n",
      "sizeEnzMed = 5.518323e6\n",
      "timeZygMean = 0.03520859583999998\n",
      "timeZygVar = 0.0001868100686014312\n",
      "timeZygStd = 0.0136678479872082\n",
      "timeZygMed = 0.0311291065\n",
      "sizeZygMean = 3.64205973e6\n",
      "sizeZygVar = 1.7174143826233292e9\n",
      "sizeZygStd = 41441.698597226066\n",
      "sizeZygMed = 3.637873e6\n"
     ]
    },
    {
     "data": {
      "text/plain": [
       "3.637873e6"
      ]
     },
     "execution_count": 8,
     "metadata": {},
     "output_type": "execute_result"
    }
   ],
   "source": [
    "timesEnz1 = []\n",
    "timesZyg1 = []\n",
    "sizesEnz1 = []\n",
    "sizesZyg1 = []\n",
    "\n",
    "for i in 1:100\n",
    "    \n",
    "    f(x) = 5x^10 # I don't understand a ton about Julia, but if I define this outside of the loop,\n",
    "                 # the timed method doesn't work???\n",
    "    \n",
    "    valZyg, tZyg, sizeZyg = @timed gradient(x -> f(x), x)\n",
    "\n",
    "    push!(timesZyg1, tZyg)\n",
    "    push!(sizesZyg1, sizeZyg)\n",
    "\n",
    "    valEnz, tEnz, sizeEnz = @timed autodiff(f, Active(x))\n",
    "\n",
    "    push!(timesEnz1, tEnz)\n",
    "    push!(sizesEnz1, sizeEnz)\n",
    "\n",
    "end\n",
    "\n",
    "dataSci(timesEnz1, sizesEnz1, timesZyg1, sizesZyg1)"
   ]
  },
  {
   "cell_type": "markdown",
   "id": "89e7e32c-1bcb-479d-a70b-199505d61993",
   "metadata": {},
   "source": [
    "#### Results Function One ####\n",
    "\n",
    "- **Zygote**\n",
    "\n",
    "    - **Time**\n",
    "    \n",
    "        - Mean = 0.04123 seconds\n",
    "        - Variance = 0.000236 seconds\n",
    "        - Standard Deviation = 0.01535 seconds\n",
    "        - Median = 0.0366 seconds\n",
    "       \n",
    "    - **Alloc. Size**\n",
    "    \n",
    "        - Mean = 3,642,460 bytes (3.64 MB)\n",
    "        - Variance = 1,713,173,490 bytes (1.71 GB)\n",
    "        - Standard Deviation = 41,390 bytes (41.39 KB)\n",
    "        - Median = 3,638,321 bytes (3.64 MB)\n",
    "\n",
    "- **Enzyme**\n",
    "\n",
    "    - **Time**\n",
    "    \n",
    "        - Mean = 0.09267 seconds\n",
    "        - Variance = 0.002728 seconds\n",
    "        - Standard Deviation = 0.05224 seconds\n",
    "        - Median = 0.0836 seconds\n",
    "    \n",
    "    - **Alloc. Size**\n",
    "    \n",
    "        - Mean = 5,519,142 bytes (5.52 MB)\n",
    "        - Variance = 49,098,291 bytes (49.10 MB)\n",
    "        - Standard Deviation = 7,007.02 bytes (7.01 KB)\n",
    "        - Median = 5,518,323 bytes (5.52 MB)"
   ]
  },
  {
   "cell_type": "markdown",
   "id": "c30dcbac-74da-488c-b0ca-834d213db49f",
   "metadata": {},
   "source": [
    "#### Function Two ####"
   ]
  },
  {
   "cell_type": "code",
   "execution_count": 9,
   "id": "7f1362ca-1508-4e9a-9c12-022fa637b9e0",
   "metadata": {},
   "outputs": [
    {
     "name": "stdout",
     "output_type": "stream",
     "text": [
      "timeEnzMean = 0.15323662477999997\n",
      "timeEnzVar = 0.0006277404743735936\n",
      "timeEnzStd = 0.025054749537235323\n",
      "timeEnzMed = 0.14833649599999998\n",
      "sizeEnzMean = 6.91565948e6\n",
      "sizeEnzVar = 606044.8581818199\n",
      "sizeEnzStd = 778.4888298375384\n",
      "sizeEnzMed = 6.915419e6\n",
      "timeZygMean = 0.05297227271\n",
      "timeZygVar = 0.0012711410592914946\n",
      "timeZygStd = 0.03565306521593192\n",
      "timeZygMed = 0.0449094105\n",
      "sizeZygMean = 6.02049362e6\n",
      "sizeZygVar = 1.7153262670460622e9\n",
      "sizeZygStd = 41416.49752267884\n",
      "sizeZygMed = 6.016269e6\n"
     ]
    },
    {
     "data": {
      "text/plain": [
       "6.016269e6"
      ]
     },
     "execution_count": 9,
     "metadata": {},
     "output_type": "execute_result"
    }
   ],
   "source": [
    "timesEnz2 = []\n",
    "timesZyg2 = []\n",
    "sizesEnz2 = []\n",
    "sizesZyg2 = []\n",
    "\n",
    "for i in 1:100\n",
    "    \n",
    "    gf(x) = 3x^3 * (cos(x) - 10x) # I don't understand a ton about Julia, but if I define this outside of the loop,\n",
    "                                             # the timed method doesn't work???\n",
    "    \n",
    "    valZyg, tZyg, sizeZyg = @timed gradient(x -> gf(x), x)\n",
    "\n",
    "    push!(timesZyg2, tZyg)\n",
    "    push!(sizesZyg2, sizeZyg)\n",
    "\n",
    "    valEnz, tEnz, sizeEnz = @timed autodiff(gf, Active(x))\n",
    "\n",
    "    push!(timesEnz2, tEnz)\n",
    "    push!(sizesEnz2, sizeEnz)\n",
    "\n",
    "end\n",
    "\n",
    "dataSci(timesEnz2, sizesEnz2, timesZyg2, sizesZyg2)"
   ]
  },
  {
   "cell_type": "markdown",
   "id": "893456b2-2399-4c93-a025-803e720686cd",
   "metadata": {},
   "source": [
    "#### Results Function Two ####\n",
    "\n",
    "- **Zygote**\n",
    "\n",
    "    - **Time**\n",
    "    \n",
    "        - Mean = 0.08564 seconds\n",
    "        - Variance = 0.00988 seconds\n",
    "        - Standard Deviation = 0.09940 seconds\n",
    "        - Median = 0.05361 seconds\n",
    "       \n",
    "    - **Alloc. Size**\n",
    "    \n",
    "        - Mean = 6,022,823 bytes (6.02 MB)\n",
    "        - Variance = 1,718,475,426 bytes (1.72 GB)\n",
    "        - Standard Deviation = 41,454 bytes (41.45 KB)\n",
    "        - Median = 6,018,635 bytes (6.02 MB)\n",
    "\n",
    "- **Enzyme**\n",
    "\n",
    "    - **Time**\n",
    "   \n",
    "        - Mean = 0.20543 seconds\n",
    "        - Variance = 0.00845 seconds\n",
    "        - Standard Deviation = 0.09191 seconds\n",
    "        - Median = 0.17561 seconds\n",
    "    \n",
    "    - **Alloc. Size**\n",
    "    \n",
    "        - Mean = 6,915,644 bytes (6.91 MB)\n",
    "        - Variance = 540,688 bytes (540.69 KB)\n",
    "        - Standard Deviation = 735.31 bytes (735.31 B)\n",
    "        - Median = 6,915,419 bytes (6.91 MB)"
   ]
  },
  {
   "cell_type": "markdown",
   "id": "bda17e4c-4171-48bb-b5b9-54d33b48517b",
   "metadata": {},
   "source": [
    "#### Function Three ####"
   ]
  },
  {
   "cell_type": "code",
   "execution_count": 10,
   "id": "04da9f87-8612-4324-9572-aed03f2f3ae6",
   "metadata": {},
   "outputs": [
    {
     "name": "stdout",
     "output_type": "stream",
     "text": [
      "timeEnzMean = 0.1806698743000001\n",
      "timeEnzVar = 0.0008602652893138969\n",
      "timeEnzStd = 0.029330279393723763\n",
      "timeEnzMed = 0.1744152195\n",
      "sizeEnzMean = 8.28191524e6\n",
      "sizeEnzVar = 1.3188319418181812e6\n",
      "sizeEnzStd = 1148.4040847272274\n",
      "sizeEnzMed = 8.281633e6\n",
      "timeZygMean = 0.07138301557999999\n",
      "timeZygVar = 0.0007141429585669801\n",
      "timeZygStd = 0.026723453342840632\n",
      "timeZygMed = 0.064054451\n",
      "sizeZygMean = 6.94564253e6\n",
      "sizeZygVar = 1.7102608380899878e9\n",
      "sizeZygStd = 41355.29999999985\n",
      "sizeZygMed = 6.941507e6\n"
     ]
    },
    {
     "data": {
      "text/plain": [
       "6.941507e6"
      ]
     },
     "execution_count": 10,
     "metadata": {},
     "output_type": "execute_result"
    }
   ],
   "source": [
    "timesEnz3 = []\n",
    "timesZyg3 = []\n",
    "sizesEnz3 = []\n",
    "sizesZyg3 = []\n",
    "\n",
    "for i in 1:100\n",
    "    \n",
    "    hf(x) = exp((5x / 2) * (sin(x)^(exp(x)))) # I don't understand a ton about Julia, but if I define this outside of the loop,\n",
    "                                              # the timed method doesn't work???\n",
    "    \n",
    "    valZyg, tZyg, sizeZyg = @timed gradient(x -> hf(x), x)\n",
    "\n",
    "    push!(timesZyg3, tZyg)\n",
    "    push!(sizesZyg3, sizeZyg)\n",
    "\n",
    "    valEnz, tEnz, sizeEnz = @timed autodiff(hf, Active(x))\n",
    "\n",
    "    push!(timesEnz3, tEnz)\n",
    "    push!(sizesEnz3, sizeEnz)\n",
    "\n",
    "end\n",
    "\n",
    "dataSci(timesEnz3, sizesEnz3, timesZyg3, sizesZyg3)"
   ]
  },
  {
   "cell_type": "markdown",
   "id": "d5962684-aafc-4263-8621-426dceb04e87",
   "metadata": {},
   "source": [
    "#### Results Function Three ####\n",
    "\n",
    "- **Zygote**\n",
    "\n",
    "    - **Time**\n",
    "    \n",
    "        - Mean = 0.09241 seconds\n",
    "        - Variance = 0.00484 seconds\n",
    "        - Standard Deviation = 0.06958 seconds\n",
    "        - Median = 0.07395 seconds\n",
    "       \n",
    "    - **Alloc. Size**\n",
    "    \n",
    "        - Mean = 6,945,055 (6.94 MB)\n",
    "        - Variance = 1,710,260,838 bytes (1.71 GB)\n",
    "        - Standard Deviation = 41,355 bytes (41.35 KB)\n",
    "        - Median = 6,940,920 bytes (6.94 MB)\n",
    "\n",
    "- **Enzyme**\n",
    "\n",
    "    - **Time**\n",
    "    \n",
    "        - Mean = 0.22160 seconds\n",
    "        - Variance = 0.00715 seconds\n",
    "        - Standard Deviation = 0.08455 seconds\n",
    "        - Median = 0.19926 seconds\n",
    "    \n",
    "    - **Alloc. Size**\n",
    "    \n",
    "        - Mean = 8,282,553 bytes (8.28 MB)\n",
    "        - Variance = 49,230,194 bytes (49.23 MB)\n",
    "        - Standard Deviation = 7,016.42 bytes (7.02 KB)\n",
    "        - Median = 8,281,633 bytes (8.28 MB)"
   ]
  },
  {
   "cell_type": "markdown",
   "id": "78b54821-421f-4286-b214-476eb4afa530",
   "metadata": {},
   "source": [
    "#### Implications? ####\n",
    "\n"
   ]
  },
  {
   "cell_type": "markdown",
   "id": "2826cbdd-47dc-4168-a322-890fe68b3583",
   "metadata": {},
   "source": [
    "#### Practical Application ####\n",
    "\n",
    "Theory is great and all, but what's a simple application for differentiation? There's a wide range of applications from gradient-descent to modeling certain processes, but for our project we decided some simple rootfinding algorithms would be useful. Thus, below are some rootfinding implementations of these algorithms using Enzyme and Zygote which produce a more noticeable time and memory difference between the two packages."
   ]
  },
  {
   "cell_type": "markdown",
   "id": "3d9ea0b4-7650-4a08-9663-efda95e79ffc",
   "metadata": {},
   "source": [
    "# Newton's with Enzyme #"
   ]
  },
  {
   "cell_type": "code",
   "execution_count": 11,
   "id": "aba46eec-f308-459c-9cf1-cd0026503b25",
   "metadata": {},
   "outputs": [
    {
     "data": {
      "text/plain": [
       "(0.7390851332151607, 0.0, 5)"
      ]
     },
     "execution_count": 11,
     "metadata": {},
     "output_type": "execute_result"
    }
   ],
   "source": [
    "\n",
    "    # testing Newton's with Enzyme\n",
    "\n",
    "function newtonE(f, x0; tol=1e-8, verbose=false)\n",
    "    x = x0\n",
    "    for k in 1:100 # max number of iterations\n",
    "        fx = f(x)\n",
    "        fpx = first(Enzyme.autodiff(f, Active(x)))\n",
    "        \n",
    "        if abs(fx) < tol\n",
    "            return x, fx, k\n",
    "        end\n",
    "        x = x - fx / fpx\n",
    "    end  \n",
    "end\n",
    "\n",
    "f(x) = cos(x) - x\n",
    "newtonE(f, 1; tol=1e-15, verbose=true)"
   ]
  },
  {
   "cell_type": "markdown",
   "id": "d6c968b5-2cc8-4e1b-90aa-33ec2a9e8e91",
   "metadata": {},
   "source": [
    "# Newton's with Zygote #"
   ]
  },
  {
   "cell_type": "code",
   "execution_count": 12,
   "id": "f447adfb-8563-4677-9f44-0ed874693c30",
   "metadata": {},
   "outputs": [
    {
     "data": {
      "text/plain": [
       "(0.7390851332151607, 0.0, 5)"
      ]
     },
     "execution_count": 12,
     "metadata": {},
     "output_type": "execute_result"
    }
   ],
   "source": [
    "\n",
    "    # testing Newton's with Zygote\n",
    "\n",
    "function newtonZ(f, x0; tol=1e-8, verbose=false)\n",
    "    x = x0\n",
    "    for k in 1:100 # max number of iterations\n",
    "        fx = f(x)\n",
    "        fpx = first(Zygote.gradient(f, x))\n",
    "        \n",
    "        if abs(fx) < tol\n",
    "            return x, fx, k\n",
    "        end\n",
    "        x = x - fx / fpx\n",
    "    end  \n",
    "end\n",
    "\n",
    "f(x) = cos(x) - x\n",
    "newtonZ(f, 1; tol=1e-15, verbose=true)"
   ]
  },
  {
   "cell_type": "markdown",
   "id": "93ff18a0-3d84-4d58-826d-67881883d7d1",
   "metadata": {},
   "source": [
    "# Testing Newton's #"
   ]
  },
  {
   "cell_type": "code",
   "execution_count": 13,
   "id": "558f0707-09d6-4eca-a2d7-fd9c21fb41c2",
   "metadata": {},
   "outputs": [
    {
     "name": "stdout",
     "output_type": "stream",
     "text": [
      "timeEnzMean = 0.09380311549999999\n",
      "timeEnzVar = 0.01759107669734898\n",
      "timeEnzStd = 0.13263135638810675\n",
      "timeEnzMed = 0.09380311549999999\n",
      "sizeEnzMean = 7.1388415e6\n",
      "sizeEnzVar = 1.019174352778125e14\n",
      "sizeEnzStd = 1.0095416548008928e7\n",
      "sizeEnzMed = 7.1388415e6\n",
      "timeZygMean = 0.045284393500000006\n",
      "timeZygVar = 0.004100671540322645\n",
      "timeZygStd = 0.06403648600854552\n",
      "timeZygMed = 0.045284393500000006\n",
      "sizeZygMean = 6.751274e6\n",
      "sizeZygVar = 9.1153352205e13\n",
      "sizeZygStd = 9.547426470258884e6\n",
      "sizeZygMed = 6.751274e6\n"
     ]
    },
    {
     "data": {
      "text/plain": [
       "6.751274e6"
      ]
     },
     "execution_count": 13,
     "metadata": {},
     "output_type": "execute_result"
    }
   ],
   "source": [
    "timesEnz = []\n",
    "timesZyg = []\n",
    "sizesEnz = []\n",
    "sizesZyg = []\n",
    "\n",
    "for i in 1:2\n",
    "    \n",
    "    func1() = newtonZ(f, 1; tol=1e-15, verbose=true)\n",
    "    func2() = newtonE(f, 1; tol=1e-15, verbose=true)\n",
    "    \n",
    "    valZyg, tZyg, sizeZyg = @timed func1()\n",
    "\n",
    "    push!(timesZyg, tZyg)\n",
    "    push!(sizesZyg, sizeZyg)\n",
    "\n",
    "    valEnz, tEnz, sizeEnz = @timed func2()\n",
    "\n",
    "    push!(timesEnz, tEnz)\n",
    "    push!(sizesEnz, sizeEnz)\n",
    "\n",
    "end\n",
    "\n",
    "dataSci(timesEnz, sizesEnz, timesZyg, sizesZyg)"
   ]
  },
  {
   "cell_type": "markdown",
   "id": "3b9751f5-f61c-4489-b898-a2f8600d7813",
   "metadata": {},
   "source": [
    "#### Results Newton's ####\n",
    "\n",
    "- **Zygote**\n",
    "\n",
    "    - **Time**  \n",
    "\n",
    "        - Mean = 0.0402496005 seconds\n",
    "\n",
    "    - **Alloc. Size**\n",
    "    \n",
    "        - Mean = 6.751258e6 (6.75 MB)\n",
    "\n",
    "- **Enzyme**\n",
    "\n",
    "    - **Time**\n",
    "\n",
    "        - Mean = 0.108942394 seconds\n",
    "\n",
    "    - **Alloc. Size**\n",
    "\n",
    "        - Mean = 7.1389855e6 (7.1 MB)\n"
   ]
  },
  {
   "cell_type": "markdown",
   "id": "0b22bf03-189c-4d98-a767-a26326081caf",
   "metadata": {},
   "source": [
    "# Halley's with Enzyme #"
   ]
  },
  {
   "cell_type": "code",
   "execution_count": 14,
   "id": "5073decd-4054-4985-8a9c-589b02562d9a",
   "metadata": {},
   "outputs": [
    {
     "data": {
      "text/plain": [
       "(0.7390851332151607, 0.0, 5)"
      ]
     },
     "execution_count": 14,
     "metadata": {},
     "output_type": "execute_result"
    }
   ],
   "source": [
    "\n",
    "    # halley's method with Enzyme\n",
    "\n",
    "function halleyE(f, x0; tol=1e-8, verbose=false)\n",
    "    x = x0\n",
    "    for k in 1:100 # max number of iterations\n",
    "        fx = f(x)\n",
    "        fpx = first(Enzyme.autodiff(f, Active(x)))\n",
    "        fppx = first(Enzyme.autodiff(f, Active(fpx)))\n",
    "        \n",
    "        if abs(fx) < tol\n",
    "            return x, fx, k\n",
    "        end\n",
    "        x = x - (2 * fx * fpx) / (2 * fpx^2 - fx * fppx)\n",
    "    end  \n",
    "end\n",
    "\n",
    "f(x) = cos(x) - x\n",
    "halleyE(f, 1; tol=1e-15, verbose=true)"
   ]
  },
  {
   "cell_type": "markdown",
   "id": "688d57dd-e5ac-4f64-9cf6-59dac265e771",
   "metadata": {},
   "source": [
    "# Halley's with Zygote #"
   ]
  },
  {
   "cell_type": "code",
   "execution_count": 15,
   "id": "a1b58e3c-ace6-4f16-b6c9-dfb37df3fa15",
   "metadata": {},
   "outputs": [
    {
     "data": {
      "text/plain": [
       "(0.7390851332151607, 0.0, 5)"
      ]
     },
     "execution_count": 15,
     "metadata": {},
     "output_type": "execute_result"
    }
   ],
   "source": [
    "\n",
    "    # halley's method with Zygote\n",
    "\n",
    "function halleyZ(f, x0; tol=1e-8, verbose=false)\n",
    "    x = x0\n",
    "    for k in 1:100 # max number of iterations\n",
    "        fx = f(x)\n",
    "        fpx = first(Zygote.gradient(f, x))\n",
    "        fppx = first(Zygote.gradient(f, fpx))\n",
    "        \n",
    "        if abs(fx) < tol\n",
    "            return x, fx, k\n",
    "        end\n",
    "        x = x - (2 * fx * fpx) / (2 * fpx^2 - fx * fppx)\n",
    "    end  \n",
    "end\n",
    "\n",
    "f(x) = cos(x) - x\n",
    "halleyZ(f, 1; tol=1e-15, verbose=true)"
   ]
  },
  {
   "cell_type": "markdown",
   "id": "969e494b-1bb7-4624-a19a-20145ffaac7b",
   "metadata": {},
   "source": [
    "# Testing Halley's #"
   ]
  },
  {
   "cell_type": "code",
   "execution_count": 16,
   "id": "9993311b-1cdb-4b6b-9c38-a586ec8c9a0b",
   "metadata": {},
   "outputs": [
    {
     "name": "stdout",
     "output_type": "stream",
     "text": [
      "timeEnzMean = 0.09705718549999999\n",
      "timeEnzVar = 0.018836933145854877\n",
      "timeEnzStd = 0.1372477072517238\n",
      "timeEnzMed = 0.09705718549999999\n",
      "sizeEnzMean = 7.32284e6\n",
      "sizeEnzVar = 1.07236723743872e14\n",
      "sizeEnzStd = 1.0355516585080244e7\n",
      "sizeEnzMed = 7.32284e6\n",
      "timeZygMean = 0.0240745435\n",
      "timeZygVar = 0.0011584752977961846\n",
      "timeZygStd = 0.034036381972768266\n",
      "timeZygMed = 0.0240745435\n",
      "sizeZygMean = 6.77571e6\n",
      "sizeZygVar = 9.1814421072392e13\n",
      "sizeZygStd = 9.581984192869032e6\n",
      "sizeZygMed = 6.77571e6\n"
     ]
    },
    {
     "data": {
      "text/plain": [
       "6.77571e6"
      ]
     },
     "execution_count": 16,
     "metadata": {},
     "output_type": "execute_result"
    }
   ],
   "source": [
    "timesEnz = []\n",
    "timesZyg = []\n",
    "sizesEnz = []\n",
    "sizesZyg = []\n",
    "\n",
    "for i in 1:2\n",
    "    \n",
    "    func1() = halleyZ(f, 1; tol=1e-15, verbose=true)\n",
    "    func2() = halleyE(f, 1; tol=1e-15, verbose=true)\n",
    "    \n",
    "    valZyg, tZyg, sizeZyg = @timed func1()\n",
    "\n",
    "    push!(timesZyg, tZyg)\n",
    "    push!(sizesZyg, sizeZyg)\n",
    "\n",
    "    valEnz, tEnz, sizeEnz = @timed func2()\n",
    "\n",
    "    push!(timesEnz, tEnz)\n",
    "    push!(sizesEnz, sizeEnz)\n",
    "\n",
    "end\n",
    "\n",
    "dataSci(timesEnz, sizesEnz, timesZyg, sizesZyg)"
   ]
  },
  {
   "cell_type": "markdown",
   "id": "ffd3ed09-fbe0-4c31-9606-55a7ce82a6ce",
   "metadata": {},
   "source": [
    "#### Results Halley's ####\n",
    "\n",
    "- **Zygote**\n",
    "\n",
    "    - **Time**\n",
    "    \n",
    "        - Mean = 0.0296112535 seconds\n",
    "\n",
    "    - **Alloc. Size**\n",
    "    \n",
    "        - Mean = 6.775326e6 (6.77 MB)\n",
    "\n",
    "- **Enzyme**\n",
    "\n",
    "    - **Time**\n",
    "\n",
    "        - Mean = 0.107368892 seconds\n",
    "\n",
    "    - **Alloc. Size**\n",
    "\n",
    "        - Mean = 7.322984e6 (7.3 MB)\n",
    "\n"
   ]
  },
  {
   "cell_type": "markdown",
   "id": "3e6259e8-8aff-409f-905d-8afc3ec8508d",
   "metadata": {},
   "source": [
    "# Golbabai-Javidi's with Enzyme #"
   ]
  },
  {
   "cell_type": "code",
   "execution_count": 17,
   "id": "84fcda80-5290-4dec-9694-652459ee0130",
   "metadata": {},
   "outputs": [
    {
     "data": {
      "text/plain": [
       "(0.739085133215161, -6.661338147750939e-16, 8)"
      ]
     },
     "execution_count": 17,
     "metadata": {},
     "output_type": "execute_result"
    }
   ],
   "source": [
    "\n",
    "    # Golbabai-Javidi's method with Enzyme\n",
    "\n",
    "function GJ_E(f, x0; tol=1e-8, verbose=false)\n",
    "    x = x0\n",
    "    for k in 1:100 # max number of iterations\n",
    "        fx = f(x)\n",
    "        fpx = first(Enzyme.autodiff(f, Active(x)))\n",
    "        fppx = first(Enzyme.autodiff(f, Active(fpx)))\n",
    "        fpppx = first(Enzyme.autodiff(f, Active(fppx)))\n",
    "        \n",
    "        if abs(fx) < tol\n",
    "            return x, fx, k\n",
    "        end\n",
    "        x = x - (fx / fpx) - ((fx * fppx) / (2 * (fpppx - (fx * fpx * fppx))))\n",
    "    end  \n",
    "end\n",
    "\n",
    "f(x) = cos(x) - x\n",
    "GJ_E(f, 1; tol=1e-15, verbose=true)"
   ]
  },
  {
   "cell_type": "markdown",
   "id": "6bc9f270-cc54-4ef8-8675-17c18dc7765d",
   "metadata": {},
   "source": [
    "# Golbabai-Javidi's with Zygote #"
   ]
  },
  {
   "cell_type": "code",
   "execution_count": 18,
   "id": "aa650a2e-7815-4cd5-b2ff-df68411cb86a",
   "metadata": {},
   "outputs": [
    {
     "data": {
      "text/plain": [
       "(0.739085133215161, -6.661338147750939e-16, 8)"
      ]
     },
     "execution_count": 18,
     "metadata": {},
     "output_type": "execute_result"
    }
   ],
   "source": [
    "\n",
    "    # Golbabai-Javidi's method with Zygote\n",
    "\n",
    "function GJ_Z(f, x0; tol=1e-8, verbose=false)\n",
    "    x = x0\n",
    "    for k in 1:100 # max number of iterations\n",
    "        fx = f(x)\n",
    "        fpx = first(Zygote.gradient(f, x))\n",
    "        fppx = first(Zygote.gradient(f, fpx))\n",
    "        fpppx = first(Zygote.gradient(f, fppx))\n",
    "        \n",
    "        if abs(fx) < tol\n",
    "            return x, fx, k\n",
    "        end\n",
    "        x = x - (fx / fpx) - ((fx * fppx) / (2 * (fpppx - (fx * fpx * fppx))))\n",
    "    end  \n",
    "end\n",
    "\n",
    "f(x) = cos(x) - x\n",
    "GJ_Z(f, 1; tol=1e-15, verbose=true)"
   ]
  },
  {
   "cell_type": "markdown",
   "id": "b8ff27d1-f257-4fd1-a3cd-d556459772c7",
   "metadata": {},
   "source": [
    "# Testing Golbabai-Javidi's #"
   ]
  },
  {
   "cell_type": "code",
   "execution_count": 19,
   "id": "7de1e114-5bc0-43cf-aea7-cc9021906950",
   "metadata": {},
   "outputs": [
    {
     "name": "stdout",
     "output_type": "stream",
     "text": [
      "timeEnzMean = 0.10511048199999999\n",
      "timeEnzVar = 0.022089704497476128\n",
      "timeEnzStd = 0.14862605591711073\n",
      "timeEnzMed = 0.10511048199999999\n",
      "sizeEnzMean = 7.4284765e6\n",
      "sizeEnzVar = 1.103464609065845e14\n",
      "sizeEnzStd = 1.0504592372223899e7\n",
      "sizeEnzMed = 7.4284765e6\n",
      "timeZygMean = 0.025311380499999998\n",
      "timeZygVar = 0.0012808844994971202\n",
      "timeZygStd = 0.0357894467615402\n",
      "timeZygMed = 0.025311380499999998\n",
      "sizeZygMean = 6.805606e6\n",
      "sizeZygVar = 9.2626448331848e13\n",
      "sizeZygStd = 9.624263521529738e6\n",
      "sizeZygMed = 6.805606e6\n"
     ]
    },
    {
     "data": {
      "text/plain": [
       "6.805606e6"
      ]
     },
     "execution_count": 19,
     "metadata": {},
     "output_type": "execute_result"
    }
   ],
   "source": [
    "timesEnz = []\n",
    "timesZyg = []\n",
    "sizesEnz = []\n",
    "sizesZyg = []\n",
    "\n",
    "for i in 1:2\n",
    "    \n",
    "    func1() = GJ_Z(f, 1; tol=1e-15, verbose=true)\n",
    "    func2() = GJ_E(f, 1; tol=1e-15, verbose=true)\n",
    "    \n",
    "    valZyg, tZyg, sizeZyg = @timed func1()\n",
    "\n",
    "    push!(timesZyg, tZyg)\n",
    "    push!(sizesZyg, sizeZyg)\n",
    "\n",
    "    valEnz, tEnz, sizeEnz = @timed func2()\n",
    "\n",
    "    push!(timesEnz, tEnz)\n",
    "    push!(sizesEnz, sizeEnz)\n",
    "\n",
    "end\n",
    "\n",
    "dataSci(timesEnz, sizesEnz, timesZyg, sizesZyg)"
   ]
  },
  {
   "cell_type": "markdown",
   "id": "de351208-4ddb-455a-88b2-dbc36c949e52",
   "metadata": {},
   "source": [
    "#### Results Golbabai-Javidi's ####\n",
    "\n",
    "- **Zygote**\n",
    "\n",
    "    - **Time**\n",
    "    \n",
    "        - Mean = 0.072431259 seconds\n",
    "\n",
    "    - **Alloc. Size**\n",
    "    \n",
    "        - Mean = 6.805222e6 (6.8 MB)\n",
    "\n",
    "- **Enzyme**\n",
    "\n",
    "    - **Time**\n",
    "\n",
    "        - Mean = 0.119032858 seconds\n",
    "\n",
    "    - **Alloc. Size**\n",
    "\n",
    "        - Mean = 7.4286205e6 (7.4 MB)\n",
    "\n",
    "\n"
   ]
  },
  {
   "cell_type": "markdown",
   "id": "c470f032-3a8c-4bd1-a16f-b001b415f78b",
   "metadata": {},
   "source": [
    "# Noor's with Enzyme #"
   ]
  },
  {
   "cell_type": "code",
   "execution_count": 20,
   "id": "2e2f3679-473e-48fe-998b-c16492f1c5c5",
   "metadata": {},
   "outputs": [
    {
     "data": {
      "text/plain": [
       "(2.391867219711847e-8, 5.72102879673208e-16, 62)"
      ]
     },
     "execution_count": 20,
     "metadata": {},
     "output_type": "execute_result"
    }
   ],
   "source": [
    "\n",
    "    # Noor's method with Enzyme\n",
    "\n",
    "function noorE(f, x0; tol=1e-8, verbose=false)\n",
    "    x = x0\n",
    "    for k in 1:100 # max number of iterations\n",
    "        fx = f(x)\n",
    "        fpx = first(Enzyme.autodiff(f, Active(x)))\n",
    "        y = x - fx/fpx\n",
    "        fpy = first(Enzyme.autodiff(f, Active(y)))\n",
    "        \n",
    "        if abs(fx) < tol\n",
    "            return x, fx, k\n",
    "        end\n",
    "        x = x - (fx / fpx) + (fx / fpx) * (fpy / fpx)\n",
    "    end  \n",
    "end\n",
    "\n",
    "f(x) = x * x\n",
    "noorE(f, 1; tol=1e-15, verbose=true)"
   ]
  },
  {
   "cell_type": "markdown",
   "id": "38ca6cd1-38c3-4293-a140-b399209f7fc9",
   "metadata": {},
   "source": [
    "# Noor's with Zygote #"
   ]
  },
  {
   "cell_type": "code",
   "execution_count": 21,
   "id": "953efea1-9156-4309-b73f-7b0d86b7adca",
   "metadata": {},
   "outputs": [
    {
     "data": {
      "text/plain": [
       "(2.391867219711847e-8, 5.72102879673208e-16, 62)"
      ]
     },
     "execution_count": 21,
     "metadata": {},
     "output_type": "execute_result"
    }
   ],
   "source": [
    "\n",
    "    # Noor's method with Zygote\n",
    "\n",
    "function noorZ(f, x0; tol=1e-8, verbose=false)\n",
    "    x = x0\n",
    "    for k in 1:100 # max number of iterations\n",
    "        fx = f(x)\n",
    "        fpx = first(Zygote.gradient(f, x))\n",
    "        y = x - fx/fpx\n",
    "        fpy = first(Zygote.gradient(f, y))\n",
    "        \n",
    "        if abs(fx) < tol\n",
    "            return x, fx, k\n",
    "        end\n",
    "        x = x - (fx / fpx) + (fx / fpx) * (fpy / fpx)\n",
    "    end  \n",
    "end\n",
    "\n",
    "f(x) = x * x\n",
    "noorZ(f, 1; tol=1e-15, verbose=true)"
   ]
  },
  {
   "cell_type": "markdown",
   "id": "ad00c23b-891e-4df5-ac12-b0699e2335e2",
   "metadata": {},
   "source": [
    "# Testing Noor's #"
   ]
  },
  {
   "cell_type": "code",
   "execution_count": 22,
   "id": "39126ed0-b5be-47ff-9ce0-583ee84aff61",
   "metadata": {},
   "outputs": [
    {
     "name": "stdout",
     "output_type": "stream",
     "text": [
      "timeEnzMean = 0.0565241755\n",
      "timeEnzVar = 0.006373006862040013\n",
      "timeEnzStd = 0.07983111462356024\n",
      "timeEnzMed = 0.0565241755\n",
      "sizeEnzMean = 5.5767465e6\n",
      "sizeEnzVar = 6.21509589759645e13\n",
      "sizeEnzStd = 7.88358795067097e6\n",
      "sizeEnzMed = 5.5767465e6\n",
      "timeZygMean = 0.0283539205\n",
      "timeZygVar = 0.0016073063714890127\n",
      "timeZygStd = 0.040091225617197246\n",
      "timeZygMed = 0.0283539205\n",
      "sizeZygMean = 5.24399e6\n",
      "sizeZygVar = 5.4994163725512e13\n",
      "sizeZygStd = 7.415804995110915e6\n",
      "sizeZygMed = 5.24399e6\n"
     ]
    },
    {
     "data": {
      "text/plain": [
       "5.24399e6"
      ]
     },
     "execution_count": 22,
     "metadata": {},
     "output_type": "execute_result"
    }
   ],
   "source": [
    "timesEnz = []\n",
    "timesZyg = []\n",
    "sizesEnz = []\n",
    "sizesZyg = []\n",
    "\n",
    "for i in 1:2\n",
    "    \n",
    "    func1() = noorZ(f, 1; tol=1e-15, verbose=true)\n",
    "    func2() = noorE(f, 1; tol=1e-15, verbose=true)\n",
    "    \n",
    "    valZyg, tZyg, sizeZyg = @timed func1()\n",
    "\n",
    "    push!(timesZyg, tZyg)\n",
    "    push!(sizesZyg, sizeZyg)\n",
    "\n",
    "    valEnz, tEnz, sizeEnz = @timed func2()\n",
    "\n",
    "    push!(timesEnz, tEnz)\n",
    "    push!(sizesEnz, sizeEnz)\n",
    "\n",
    "end\n",
    "\n",
    "dataSci(timesEnz, sizesEnz, timesZyg, sizesZyg)"
   ]
  },
  {
   "cell_type": "markdown",
   "id": "484a55e5-1217-43af-acc3-d934cbf4b7e1",
   "metadata": {},
   "source": [
    "#### Results Noor's ####\n",
    "\n",
    "- **Zygote**\n",
    "\n",
    "    - **Time**\n",
    "    \n",
    "        - Mean = 0.0273126905 seconds\n",
    "\n",
    "    - **Alloc. Size**\n",
    "    \n",
    "        - Mean = 5.243606e6 (5.2 MB)\n",
    "\n",
    "- **Enzyme**\n",
    "\n",
    "    - **Time**\n",
    "\n",
    "        - Mean = 0.0673777475 seconds\n",
    "\n",
    "    - **Alloc. Size**\n",
    "\n",
    "        - Mean = 5.5768905e6 (5.6 MB)\n"
   ]
  },
  {
   "cell_type": "markdown",
   "id": "7c61ff62-6d6d-4fdb-82e1-9da5ba54d1fd",
   "metadata": {},
   "source": [
    "# Zhanlav's with Enzyme #"
   ]
  },
  {
   "cell_type": "code",
   "execution_count": 23,
   "id": "9d8331cb-4b80-4237-8d38-6d31413ea465",
   "metadata": {},
   "outputs": [
    {
     "data": {
      "text/plain": [
       "(0.7390851332151607, 0.0, 4)"
      ]
     },
     "execution_count": 23,
     "metadata": {},
     "output_type": "execute_result"
    }
   ],
   "source": [
    "\n",
    "    # Zhanlav's method with Enzyme\n",
    "\n",
    "function zhanlavE(f, x0; tol=1e-8, verbose=false)\n",
    "    x = x0\n",
    "    for k in 1:1000 # max number of iterations\n",
    "        \n",
    "        fx = f(x)\n",
    "        fpx = first(Enzyme.autodiff(f, Active(x)))\n",
    "        \n",
    "        z = x - fx/fpx\n",
    "        fz = f(z)\n",
    "        fpz = first(Enzyme.autodiff(f, Active(z)))\n",
    "\n",
    "        q = z - fz/fpz\n",
    "        fq = f(q)\n",
    "        \n",
    "        \n",
    "        if abs(fx) < tol\n",
    "            return x, fx, k\n",
    "        end\n",
    "        x = z - (fz + fq)/fpx\n",
    "    end  \n",
    "end\n",
    "\n",
    "f(x) = cos(x) - x\n",
    "zhanlavE(f, 1; tol=1e-15, verbose=true)"
   ]
  },
  {
   "cell_type": "markdown",
   "id": "6f5708dc-aff6-455f-9b9c-c5ea04320615",
   "metadata": {},
   "source": [
    "# Zhanlav's with Zygote #"
   ]
  },
  {
   "cell_type": "code",
   "execution_count": 24,
   "id": "faf7c82c-48fb-4420-84bd-cd70fbf64545",
   "metadata": {},
   "outputs": [
    {
     "data": {
      "text/plain": [
       "(0.7390851332151607, 0.0, 4)"
      ]
     },
     "execution_count": 24,
     "metadata": {},
     "output_type": "execute_result"
    }
   ],
   "source": [
    "\n",
    "    # Zhanlav's method with Zygote\n",
    "\n",
    "function zhanlavZ(f, x0; tol=1e-8, verbose=false)\n",
    "    x = x0\n",
    "    for k in 1:1000 # max number of iterations\n",
    "        \n",
    "        fx = f(x)\n",
    "        fpx = first(Zygote.gradient(f, x))\n",
    "        \n",
    "        z = x - fx/fpx\n",
    "        fz = f(z)\n",
    "        fpz = first(Zygote.gradient(f, z))\n",
    "        \n",
    "        q = z - fz/fpz\n",
    "        fq = f(q)\n",
    "        \n",
    "        if abs(fx) < tol\n",
    "            return x, fx, k\n",
    "        end\n",
    "        x = z - (fz + fq)/fpx\n",
    "    end  \n",
    "end\n",
    "\n",
    "f(x) = cos(x) - x\n",
    "zhanlavZ(f, 1; tol=1e-15, verbose=true)"
   ]
  },
  {
   "cell_type": "markdown",
   "id": "7abbb230-513f-4b10-b7ff-f0b79b0cf737",
   "metadata": {},
   "source": [
    "# Testing Zhanlav's #"
   ]
  },
  {
   "cell_type": "code",
   "execution_count": 25,
   "id": "a86ce871-ec5d-450e-805a-d800e22c013c",
   "metadata": {},
   "outputs": [
    {
     "name": "stdout",
     "output_type": "stream",
     "text": [
      "timeEnzMean = 0.1182120215\n",
      "timeEnzVar = 0.027944654685910796\n",
      "timeEnzStd = 0.16716654774777995\n",
      "timeEnzMed = 0.1182120215\n",
      "sizeEnzMean = 7.3462295e6\n",
      "sizeEnzVar = 1.079238324900125e14\n",
      "sizeEnzStd = 1.0388639588031365e7\n",
      "sizeEnzMed = 7.3462295e6\n",
      "timeZygMean = 0.023921065\n",
      "timeZygVar = 0.001143907350591618\n",
      "timeZygStd = 0.03382169940425256\n",
      "timeZygMed = 0.023921065\n",
      "sizeZygMean = 6.786822e6\n",
      "sizeZygVar = 9.2115824827208e13\n",
      "sizeZygStd = 9.597698933974123e6\n",
      "sizeZygMed = 6.786822e6\n"
     ]
    },
    {
     "data": {
      "text/plain": [
       "6.786822e6"
      ]
     },
     "execution_count": 25,
     "metadata": {},
     "output_type": "execute_result"
    }
   ],
   "source": [
    "timesEnz = []\n",
    "timesZyg = []\n",
    "sizesEnz = []\n",
    "sizesZyg = []\n",
    "\n",
    "for i in 1:2\n",
    "    \n",
    "    func1() = zhanlavZ(f, 1; tol=1e-15, verbose=true)\n",
    "    func2() = zhanlavE(f, 1; tol=1e-15, verbose=true)\n",
    "    \n",
    "    valZyg, tZyg, sizeZyg = @timed func1()\n",
    "\n",
    "    push!(timesZyg, tZyg)\n",
    "    push!(sizesZyg, sizeZyg)\n",
    "\n",
    "    valEnz, tEnz, sizeEnz = @timed func2()\n",
    "\n",
    "    push!(timesEnz, tEnz)\n",
    "    push!(sizesEnz, sizeEnz)\n",
    "\n",
    "end\n",
    "\n",
    "dataSci(timesEnz, sizesEnz, timesZyg, sizesZyg)"
   ]
  },
  {
   "cell_type": "markdown",
   "id": "6b4809e5-16ee-4328-9532-807ce854d9f4",
   "metadata": {},
   "source": [
    "#### Results Zhanlav's ####\n",
    "\n",
    "- **Zygote**\n",
    "\n",
    "    - **Time**\n",
    "    \n",
    "        - Mean = 0.0455876415 seconds\n",
    "\n",
    "    - **Alloc. Size**\n",
    "    \n",
    "        - Mean = 6.786438e6 (6.8 MB)\n",
    "\n",
    "- **Enzyme**\n",
    "\n",
    "    - **Time**\n",
    "\n",
    "        - Mean = 0.206026736 seconds\n",
    "\n",
    "    - **Alloc. Size**\n",
    "\n",
    "        - Mean = 7.3463735e6 (7.3 MB)"
   ]
  },
  {
   "cell_type": "markdown",
   "id": "e1cc96cf-8010-4160-b700-907500aedb9f",
   "metadata": {},
   "source": [
    "# Root-finding Results #\n",
    "\n",
    "For every method we have that Zygote is quicker and allocates less memory. In some cases Enzyme was much slower, but the memory allocation was generally the same."
   ]
  },
  {
   "cell_type": "code",
   "execution_count": null,
   "id": "de5e4d3f-e431-4f04-8a93-4d03c5fa39c7",
   "metadata": {},
   "outputs": [],
   "source": []
  }
 ],
 "metadata": {
  "kernelspec": {
   "display_name": "Julia 1.6.1",
   "language": "julia",
   "name": "julia-1.6"
  },
  "language_info": {
   "file_extension": ".jl",
   "mimetype": "application/julia",
   "name": "julia",
   "version": "1.6.1"
  }
 },
 "nbformat": 4,
 "nbformat_minor": 5
}
