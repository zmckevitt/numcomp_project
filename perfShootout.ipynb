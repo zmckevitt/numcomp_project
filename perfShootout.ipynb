{
 "cells": [
  {
   "cell_type": "markdown",
   "id": "8f4a3ab4-46eb-42f7-9886-9d92d703df17",
   "metadata": {},
   "source": [
    "# Welcome! #\n",
    "## Enzyme and Zygote Performance Shootout ##\n",
    "\n",
    "### Project Information ###\n",
    "\n",
    "If you're interested in seeing a project synopsis and the benchmarks for performance we'll measuring, please take a look at our project documentation. \n",
    "\n",
    "### What Now? ###\n",
    "\n",
    "Let's start by setting up Enzyme and Zygote in our environment to start testing some differentiation. Our primary benchmark is the physical timing of a differentiation operation. In order to measure this we will simply be using the `@time` Julia method. These times will then be compared to measure how fast differentiation is actually done, along with comparing other important benchmarks.\n",
    "\n",
    "#### Import the Packages ####"
   ]
  },
  {
   "cell_type": "code",
   "execution_count": 1,
   "id": "6e90859f-b2bf-4445-841b-5bb7a1842f19",
   "metadata": {},
   "outputs": [],
   "source": [
    "using Pkg\n",
    "\n",
    "Pkg.add(\"Enzyme\")\n",
    "Pkg.add(\"Zygote\")"
   ]
  },
  {
   "cell_type": "code",
   "execution_count": 2,
   "id": "ea6ab306-c25b-447f-93b5-b1fd78f86453",
   "metadata": {},
   "outputs": [],
   "source": [
    "using Zygote\n",
    "using Enzyme"
   ]
  },
  {
   "cell_type": "markdown",
   "id": "00e47575-cc71-4117-902e-a26381f3430f",
   "metadata": {},
   "source": [
    "#### What Next? ####\n",
    "\n",
    "Now that the packages have been added to the environment, we can start testing them out. First, a quick demonstration of the timing function we will be using. "
   ]
  },
  {
   "cell_type": "code",
   "execution_count": 3,
   "id": "c69fc010-4ab8-4f4c-bded-1ee063914f2b",
   "metadata": {},
   "outputs": [
    {
     "name": "stdout",
     "output_type": "stream",
     "text": [
      "  0.000052 seconds\n"
     ]
    },
    {
     "data": {
      "text/plain": [
       "10946"
      ]
     },
     "execution_count": 3,
     "metadata": {},
     "output_type": "execute_result"
    }
   ],
   "source": [
    "function fib(n)\n",
    "    if n <= 1\n",
    "        return 1\n",
    "    else\n",
    "        return fib(n - 1) + fib(n - 2)\n",
    "    end\n",
    "end\n",
    "    \n",
    "@time fib(20)"
   ]
  },
  {
   "cell_type": "markdown",
   "id": "47db2c2e-b529-4fa7-a597-e5abfa5039a1",
   "metadata": {},
   "source": [
    "#### Functions ####\n",
    "\n",
    "For this shootout we will be handling differentiation for rootfinding problems. Specifically, we will be testing differentiation efficiency on four different rootfinding algorithms, being Halley's, Golbabai-Javidi, Newton's, Noor's, Traub's, and Zhanlav's Method.\n",
    "\n",
    "Those methods look like such:\n",
    "\n",
    "**Halley's Method**\n",
    "\n",
    "$x_{n + 1} = x_{n} - \\frac{2f(x_n)f^{\\prime}(x_n)}{2f^{\\prime}(x_n)^2 - f(x_n)f^{\\prime \\prime}(x_n)}$\n",
    "\n",
    "**Golbabai-Javidi Method**\n",
    "\n",
    "$x_{n + 1} = x_{n} - \\frac{f(x_n)}{f^{\\prime}(x_n)} - \\frac{f(x_n)f^{\\prime \\prime}(x_n)}{2(f^{\\prime \\prime \\prime}(x_n) - f(x_n)f^{\\prime}(x_n)f^{\\prime \\prime}(x_n))}$\n",
    "\n",
    "**Newton's Method**\n",
    "\n",
    "$x_{n + 1} = x_{n} - \\frac{f(x_n)}{f^{\\prime}(x_n)}$\n",
    "\n",
    "**Noor's Method**\n",
    "\n",
    "$y_n = x_n - \\frac{f(x_n)}{f^{\\prime}(x_n)}$\n",
    "\n",
    "$x_{n + 1} = x_{n} - \\frac{f(x_n)}{f^{\\prime}(x_n)} + (\\frac{f(x_n)}{f^{\\prime}(x_n)})\\frac{f^{\\prime}(y_n)}{f^{\\prime}(x_n)}$\n",
    "\n",
    "**Zhanlav's Method**\n",
    "\n",
    "$z_n = y_n - \\frac{f(y_n)}{f^{\\prime}(y_n)}$\n",
    "\n",
    "$q_n = z_n - \\frac{f(z_n)}{f^{\\prime}(y_n)}$\n",
    "\n",
    "$y_{n + 1} = z_n - \\frac{f(z_n) + f(q_n)}{f^{\\prime}(y_n)}$"
   ]
  },
  {
   "cell_type": "markdown",
   "id": "32f934be-9642-4bbb-9f0f-14215eae4ee4",
   "metadata": {},
   "source": [
    "**Usage**\n",
    "\n",
    "Enzyme autodiff(f, x) returns a touple, so I recommend getting the result with first(autodiff(f, x))"
   ]
  },
  {
   "cell_type": "code",
   "execution_count": 45,
   "id": "e61631c3-6892-4778-81a4-787d62f5a661",
   "metadata": {},
   "outputs": [
    {
     "name": "stdout",
     "output_type": "stream",
     "text": [
      "[0.34061518445275163, 0.7016343449077851, 0.033149278899596624, 0.7954294213464141, 0.1365669352668668]\n",
      "[0.05316861155705932, 0.8471088880447868, 0.9083088206507779, 0.03460690811222422, 0.3588957183115744]\n"
     ]
    }
   ],
   "source": [
    "\n",
    "    # testing\n",
    "    # forward difference method with Enzyme and Zygote's functions.\n",
    "\n",
    "f(x::Vector) = sum(sin, x) + prod(tan, x) * sum(sqrt, x);\n",
    "x_ = rand(5)\n",
    "x2 = rand(5)\n",
    "\n",
    "g = x -> Enzyme.fwddiff(f, x);\n",
    "g2 = x2 -> Zygote.forwarddiff(f, x);\n",
    "\n",
    "println(x)\n",
    "println(x2)"
   ]
  },
  {
   "cell_type": "code",
   "execution_count": 53,
   "id": "aba46eec-f308-459c-9cf1-cd0026503b25",
   "metadata": {},
   "outputs": [
    {
     "name": "stdout",
     "output_type": "stream",
     "text": [
      "[1] x=1  f(x)=-0.45969769413186023  f'(x)=-1.8414709848078965\n",
      "[2] x=0.7503638678402439  f(x)=-0.018923073822117442  f'(x)=-1.6819049529414878\n",
      "[3] x=0.7391128909113617  f(x)=-4.6455898990771516e-5  f'(x)=-1.6736325442243012\n",
      "[4] x=0.739085133385284  f(x)=-2.847205804457076e-10  f'(x)=-1.6736120293089505\n",
      "[5] x=0.7390851332151607  f(x)=0.0  f'(x)=-1.6736120291832148\n"
     ]
    },
    {
     "data": {
      "text/plain": [
       "(0.7390851332151607, 0.0, 5)"
      ]
     },
     "execution_count": 53,
     "metadata": {},
     "output_type": "execute_result"
    }
   ],
   "source": [
    "\n",
    "    # testing Newton's with Enzyme\n",
    "\n",
    "function newton(f, x0; tol=1e-8, verbose=false)\n",
    "    x = x0\n",
    "    for k in 1:100 # max number of iterations\n",
    "        fx = f(x)\n",
    "        fpx = first(Enzyme.autodiff(f, Active(x)))\n",
    "        if verbose\n",
    "            println(\"[$k] x=$x  f(x)=$fx  f'(x)=$fpx\")\n",
    "        end\n",
    "        if abs(fx) < tol\n",
    "            return x, fx, k\n",
    "        end\n",
    "        x = x - fx / fpx\n",
    "    end  \n",
    "end\n",
    "\n",
    "f(x) = cos(x) - x\n",
    "newton(f, 1; tol=1e-15, verbose=true)"
   ]
  },
  {
   "cell_type": "code",
   "execution_count": null,
   "id": "f447adfb-8563-4677-9f44-0ed874693c30",
   "metadata": {},
   "outputs": [],
   "source": []
  }
 ],
 "metadata": {
  "kernelspec": {
   "display_name": "Julia 1.6.1",
   "language": "julia",
   "name": "julia-1.6"
  },
  "language_info": {
   "file_extension": ".jl",
   "mimetype": "application/julia",
   "name": "julia",
   "version": "1.6.1"
  }
 },
 "nbformat": 4,
 "nbformat_minor": 5
}
