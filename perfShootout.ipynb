{
 "cells": [
  {
   "cell_type": "markdown",
   "id": "8f4a3ab4-46eb-42f7-9886-9d92d703df17",
   "metadata": {},
   "source": [
    "# Welcome! #\n",
    "## Enzyme and Zygote Performance Shootout ##\n",
    "\n",
    "### Project Information ###\n",
    "\n",
    "If you're interested in seeing a project synopsis and the benchmarks for performance we'll measuring, please take a look at our project documentation. \n",
    "\n",
    "### What Now? ###\n",
    "\n",
    "Let's start by setting up Enzyme and Zygote in our environment to start testing some differentiation. Our primary benchmark is the physical timing of a differentiation operation. In order to measure this we will simply be using the `@time` Julia method. These times will then be compared to measure how fast differentiation is actually done, along with comparing other important benchmarks.\n",
    "\n",
    "#### Import the Packages ####"
   ]
  },
  {
   "cell_type": "code",
   "execution_count": 1,
   "id": "6e90859f-b2bf-4445-841b-5bb7a1842f19",
   "metadata": {},
   "outputs": [],
   "source": [
    "using Pkg\n",
    "\n",
    "Pkg.add(\"Enzyme\")\n",
    "Pkg.add(\"Zygote\")"
   ]
  },
  {
   "cell_type": "code",
   "execution_count": 2,
   "id": "ea6ab306-c25b-447f-93b5-b1fd78f86453",
   "metadata": {},
   "outputs": [],
   "source": [
    "using Zygote\n",
    "using Enzyme\n",
    "using Plots\n",
    "using Statistics\n",
    "using Printf"
   ]
  },
  {
   "cell_type": "markdown",
   "id": "00e47575-cc71-4117-902e-a26381f3430f",
   "metadata": {},
   "source": [
    "#### What Next? ####\n",
    "\n",
    "Now that the packages have been added to the environment, we can start testing them out. First, a quick demonstration of the timing function we will be using. "
   ]
  },
  {
   "cell_type": "code",
   "execution_count": 3,
   "id": "c69fc010-4ab8-4f4c-bded-1ee063914f2b",
   "metadata": {},
   "outputs": [
    {
     "name": "stdout",
     "output_type": "stream",
     "text": [
      "  0.000039 seconds\n"
     ]
    },
    {
     "data": {
      "text/plain": [
       "10946"
      ]
     },
     "execution_count": 3,
     "metadata": {},
     "output_type": "execute_result"
    }
   ],
   "source": [
    "function fib(n)\n",
    "    if n <= 1\n",
    "        return 1\n",
    "    else\n",
    "        return fib(n - 1) + fib(n - 2)\n",
    "    end\n",
    "end\n",
    "    \n",
    "@time fib(20)"
   ]
  },
  {
   "cell_type": "markdown",
   "id": "47db2c2e-b529-4fa7-a597-e5abfa5039a1",
   "metadata": {},
   "source": [
    "#### Functions ####\n",
    "\n",
    "For this shootout we will be handling differentiation for rootfinding problems. Specifically, we will be testing differentiation efficiency for aiding five different rootfinding algorithms, being Halley's, Golbabai-Javidi, Newton's, Noor's, and Zhanlav's Method.\n",
    "\n",
    "Those methods look like such:\n",
    "\n",
    "**Halley's Method**\n",
    "\n",
    "$x_{n + 1} = x_{n} - \\frac{2f(x_n)f^{\\prime}(x_n)}{2f^{\\prime}(x_n)^2 - f(x_n)f^{\\prime \\prime}(x_n)}$\n",
    "\n",
    "**Golbabai-Javidi Method**\n",
    "\n",
    "$x_{n + 1} = x_{n} - \\frac{f(x_n)}{f^{\\prime}(x_n)} - \\frac{f(x_n)f^{\\prime \\prime}(x_n)}{2(f^{\\prime \\prime \\prime}(x_n) - f(x_n)f^{\\prime}(x_n)f^{\\prime \\prime}(x_n))}$\n",
    "\n",
    "**Newton's Method**\n",
    "\n",
    "$x_{n + 1} = x_{n} - \\frac{f(x_n)}{f^{\\prime}(x_n)}$\n",
    "\n",
    "**Noor's Method**\n",
    "\n",
    "$y_n = x_n - \\frac{f(x_n)}{f^{\\prime}(x_n)}$\n",
    "\n",
    "$x_{n + 1} = x_{n} - \\frac{f(x_n)}{f^{\\prime}(x_n)} + (\\frac{f(x_n)}{f^{\\prime}(x_n)})\\frac{f^{\\prime}(y_n)}{f^{\\prime}(x_n)}$\n",
    "\n",
    "**Zhanlav's Method**\n",
    "\n",
    "$z_n = y_n - \\frac{f(y_n)}{f^{\\prime}(y_n)}$\n",
    "\n",
    "$q_n = z_n - \\frac{f(z_n)}{f^{\\prime}(y_n)}$\n",
    "\n",
    "$y_{n + 1} = z_n - \\frac{f(z_n) + f(q_n)}{f^{\\prime}(y_n)}$\n",
    "\n",
    "Before implementation of these various rootfinding algorithms, however, we can demonstrate some fairly basic differentiation using some basic functions below. This, similar to the time test, will present the methods we will be using and how they work.\n",
    "\n",
    "We will be performing both of these tests using Enzyme and Zygote on three different functions, which will be defined below.\n",
    "\n",
    "#### Test Functions ####\n",
    "\n",
    "$f(x) = 5x^{10}$\n",
    "\n",
    "$g(x) = 3x^3(cos(x) - 10x)$\n",
    "\n",
    "$h(x) = e^{\\frac{5x}{2}(sin(x)^{e^x})}$\n",
    "\n",
    "#### Zygote Method ####\n",
    "\n",
    "Zygote is the auto differentiation tool specifically made for Julia and uses the `gradient` method for computing derivatives. We hypothesize that this tool will likely be better optimized for Julia, but we will test this below by timing some basic differentiation!\n",
    "\n",
    "#### Enzyme Method ####\n",
    "\n",
    "Enzyme is another auto differentiation tool that is not specifically designed for Julia and is more generally designed for many different languages. This package uses the `autodiff` method for computing derivatives. Given that this tool is not specifically built for Julia, we hypothesize that these method calls will be significantly less optimized.\n",
    "\n",
    "#### What are we testing? ####\n",
    "\n",
    "For all three functions we will be timing the differentiation speed of both packages at an x-value of $2$.\n",
    "\n",
    "#### Function One ####"
   ]
  },
  {
   "cell_type": "code",
   "execution_count": 4,
   "id": "70ad8b04-5073-471c-9f83-ef7200cdac96",
   "metadata": {},
   "outputs": [
    {
     "name": "stdout",
     "output_type": "stream",
     "text": [
      " 24.521242 seconds (28.55 M allocations: 1.645 GiB, 5.67% gc time, 100.01% compilation time)\n",
      " 17.295862 seconds (19.28 M allocations: 1.081 GiB, 4.87% gc time, 0.03% compilation time)\n",
      "zyg = (25600.0,)\n",
      "enz = (25600.0,)\n"
     ]
    },
    {
     "data": {
      "text/plain": [
       "(25600.0,)"
      ]
     },
     "execution_count": 4,
     "metadata": {},
     "output_type": "execute_result"
    }
   ],
   "source": [
    "f(x) = 5x^10\n",
    "x = 2\n",
    "@time zyg = gradient(x -> f(x), x)\n",
    "@time enz = autodiff(f, Active(x))\n",
    "@show zyg\n",
    "@show enz"
   ]
  },
  {
   "cell_type": "markdown",
   "id": "0bda72e9-7fca-46f8-9614-82b0c5822859",
   "metadata": {},
   "source": [
    "#### Function Two ####"
   ]
  },
  {
   "cell_type": "code",
   "execution_count": 5,
   "id": "2f9399cf-6ac6-40be-86d4-20d566398b1d",
   "metadata": {},
   "outputs": [
    {
     "name": "stdout",
     "output_type": "stream",
     "text": [
      "  0.340222 seconds (495.14 k allocations: 28.543 MiB, 15.17% gc time, 99.93% compilation time)\n",
      "  4.420047 seconds (6.26 M allocations: 362.785 MiB, 5.36% gc time, 37.76% compilation time)\n",
      "zyg = (-996.8044243595134,)\n",
      "enz = (-996.8044243595134,)\n"
     ]
    },
    {
     "data": {
      "text/plain": [
       "(-996.8044243595134,)"
      ]
     },
     "execution_count": 5,
     "metadata": {},
     "output_type": "execute_result"
    }
   ],
   "source": [
    "gf(x) = 3x^3 * (cos(x) - 10x)\n",
    "x = 2\n",
    "@time zyg = gradient(x -> gf(x), x)\n",
    "@time enz = autodiff(gf, Active(x))\n",
    "@show zyg\n",
    "@show enz"
   ]
  },
  {
   "cell_type": "markdown",
   "id": "672a9477-c510-4308-921e-4d5cfb755692",
   "metadata": {},
   "source": [
    "#### Function Three ####"
   ]
  },
  {
   "cell_type": "code",
   "execution_count": 6,
   "id": "50e1dfa3-9e96-4ee7-b7f3-6c95a6595fe2",
   "metadata": {},
   "outputs": [
    {
     "name": "stdout",
     "output_type": "stream",
     "text": [
      "  0.327365 seconds (649.23 k allocations: 40.224 MiB, 99.93% compilation time)\n",
      "  2.500848 seconds (3.32 M allocations: 188.145 MiB, 4.19% gc time, 89.03% compilation time)\n",
      "zyg = (-105.63101149036947,)\n",
      "enz = (-105.63101149036945,)\n"
     ]
    },
    {
     "data": {
      "text/plain": [
       "(-105.63101149036945,)"
      ]
     },
     "execution_count": 6,
     "metadata": {},
     "output_type": "execute_result"
    }
   ],
   "source": [
    "hf(x) = exp((5x / 2) * (sin(x)^(exp(x))))\n",
    "x = 2\n",
    "@time zyg = gradient(x -> hf(x), x)\n",
    "@time enz = autodiff(hf, Active(x))\n",
    "@show zyg\n",
    "@show enz"
   ]
  },
  {
   "cell_type": "markdown",
   "id": "a9a67a7d-2740-4b5a-beef-51f913834685",
   "metadata": {},
   "source": [
    "#### What are the results? ####\n",
    "\n",
    "From using the differentiation method from Zygote and Enzyme in the above functions, we can see that both methods produce essentially the same results, being identical in the first two cases and different at the $10^{-14}$ digit in the last results. Reasonably, we can conclude that both of these methods are possess similar accuarcy from this small test. We can also see that both methods have relatively identical speeds, with Enzyme being generally a bit slower and Zygote a bit faster. In terms of time, no conclusions can really be drawn, so it might be worth performing these computations a few times and pulling the respective means, variances, standard deviations, and medians. Finally, we can clearly see that Enzyme also generally requires more memory allocation than Zygote and takes a smaller percentage of compilation time. This similarly is a bit hard to gage however which is better, so a similar approach to the aforementioned would be useful."
   ]
  },
  {
   "cell_type": "markdown",
   "id": "cccd2d78-732e-411b-8edc-052ae3a2dd52",
   "metadata": {},
   "source": [
    "#### Data Science ####\n",
    "\n",
    "Let's try collecting a larger sample set of differentiation tests to better understand which method seems to be more optimal. Below we have defined a for loop that calls the differentiation methods $100$ times each, and then collects the results. These results will be passed to a data science function at the end that uses a variety of Julia Statistics methods to compute the corresponding data science values. For the tests, we will once again differentiate at $x = 2$."
   ]
  },
  {
   "cell_type": "code",
   "execution_count": 42,
   "id": "e34396d3-d6c2-40ea-b57c-75bf5fca0d2e",
   "metadata": {},
   "outputs": [
    {
     "data": {
      "text/plain": [
       "dataSci (generic function with 1 method)"
      ]
     },
     "execution_count": 42,
     "metadata": {},
     "output_type": "execute_result"
    }
   ],
   "source": [
    "function dataSci(timeEnz, sizeEnz, timeZyg, sizeZyg)\n",
    "    timeEnzMean = mean(timeEnz)\n",
    "    sizeEnzMean = mean(sizeEnz)\n",
    "    timeZygMean = mean(timeZyg)\n",
    "    sizeZygMean = mean(sizeZyg)\n",
    "    \n",
    "    timeEnzVar = var(timeEnz)\n",
    "    sizeEnzVar = var(sizeEnz)\n",
    "    timeZygVar = var(timeZyg)\n",
    "    sizeZygVar = var(sizeZyg)\n",
    "    \n",
    "    timeEnzStd = timeEnzVar ^ (1 / 2)\n",
    "    sizeEnzStd = sizeEnzVar ^ (1 / 2)\n",
    "    timeZygStd = timeZygVar ^ (1 / 2)\n",
    "    sizeZygStd = sizeZygVar ^ (1 / 2)\n",
    "    \n",
    "    timeEnzMed = median(timeEnz)\n",
    "    sizeEnzMed = median(sizeEnz)\n",
    "    timeZygMed = median(timeZyg)\n",
    "    sizeZygMed = median(sizeZyg)\n",
    "    \n",
    "    @printf \"Enzyme Timing Results\\n\"\n",
    "    \n",
    "    @show timeEnzMean\n",
    "    @show timeEnzVar\n",
    "    @show timeEnzStd\n",
    "    @show timeEnzMed\n",
    "    \n",
    "    @printf \"Enzyme Memory Allocation Results\\n\"\n",
    "    \n",
    "    @show sizeEnzMean\n",
    "    @show sizeEnzVar\n",
    "    @show sizeEnzStd\n",
    "    @show sizeEnzMed\n",
    "    \n",
    "    @printf \"Zygote Timing Results\\n\"\n",
    "    \n",
    "    @show timeZygMean\n",
    "    @show timeZygVar\n",
    "    @show timeZygStd\n",
    "    @show timeZygMed\n",
    "    \n",
    "    @printf \"Zygote Memory Allocation Results\\n\"\n",
    "    \n",
    "    @show sizeZygMean\n",
    "    @show sizeZygVar\n",
    "    @show sizeZygStd\n",
    "    @show sizeZygMed\n",
    "end"
   ]
  },
  {
   "cell_type": "markdown",
   "id": "31d4328b-cfd8-4742-b508-7ede25190bf6",
   "metadata": {},
   "source": [
    "#### Function One ####"
   ]
  },
  {
   "cell_type": "code",
   "execution_count": 13,
   "id": "3761d631-2035-44d5-a5e3-3882eafedd34",
   "metadata": {},
   "outputs": [
    {
     "name": "stdout",
     "output_type": "stream",
     "text": [
      "timeEnzMean = 0.09267851182999999\n",
      "timeEnzVar = 0.002728936459141259\n",
      "timeEnzStd = 0.05223922337804476\n",
      "timeEnzMed = 0.083599264\n",
      "sizeEnzMean = 5.5191422e6\n",
      "sizeEnzVar = 4.909829171717173e7\n",
      "sizeEnzStd = 7007.017319599811\n",
      "sizeEnzMed = 5.518323e6\n",
      "timeZygMean = 0.04129968049000002\n",
      "timeZygVar = 0.00023591764811405283\n",
      "timeZygStd = 0.01535961093628523\n",
      "timeZygMed = 0.036597703999999995\n",
      "sizeZygMean = 3.64246005e6\n",
      "sizeZygVar = 1.7131734902499979e9\n",
      "sizeZygStd = 41390.49999999997\n",
      "sizeZygMed = 3.638321e6\n"
     ]
    },
    {
     "data": {
      "text/plain": [
       "3.638321e6"
      ]
     },
     "execution_count": 13,
     "metadata": {},
     "output_type": "execute_result"
    }
   ],
   "source": [
    "timesEnz1 = []\n",
    "timesZyg1 = []\n",
    "sizesEnz1 = []\n",
    "sizesZyg1 = []\n",
    "\n",
    "for i in 1:100\n",
    "    \n",
    "    f(x) = 5x^10 # I don't understand a ton about Julia, but if I define this outside of the loop,\n",
    "                 # the timed method doesn't work???\n",
    "    \n",
    "    valZyg, tZyg, sizeZyg = @timed gradient(x -> f(x), x)\n",
    "\n",
    "    push!(timesZyg1, tZyg)\n",
    "    push!(sizesZyg1, sizeZyg)\n",
    "\n",
    "    valEnz, tEnz, sizeEnz = @timed autodiff(f, Active(x))\n",
    "\n",
    "    push!(timesEnz1, tEnz)\n",
    "    push!(sizesEnz1, sizeEnz)\n",
    "\n",
    "end\n",
    "\n",
    "dataSci(timesEnz1, sizesEnz1, timesZyg1, sizesZyg1)"
   ]
  },
  {
   "cell_type": "markdown",
   "id": "c30dcbac-74da-488c-b0ca-834d213db49f",
   "metadata": {},
   "source": [
    "#### Function Two ####"
   ]
  },
  {
   "cell_type": "code",
   "execution_count": 8,
   "id": "7f1362ca-1508-4e9a-9c12-022fa637b9e0",
   "metadata": {},
   "outputs": [
    {
     "name": "stdout",
     "output_type": "stream",
     "text": [
      "timeEnzMean = 0.20542909254999991\n",
      "timeEnzVar = 0.008447287654177004\n",
      "timeEnzStd = 0.09190912715381973\n",
      "timeEnzMed = 0.1756100965\n",
      "sizeEnzMean = 6.91564444e6\n",
      "sizeEnzVar = 540688.0064646468\n",
      "sizeEnzStd = 735.3149029257103\n",
      "sizeEnzMed = 6.915419e6\n",
      "timeZygMean = 0.08563981077\n",
      "timeZygVar = 0.00987911842820892\n",
      "timeZygStd = 0.09939375447284865\n",
      "timeZygMed = 0.0536120865\n",
      "sizeZygMean = 6.02282301e6\n",
      "sizeZygVar = 1.71847542667667e9\n",
      "sizeZygStd = 41454.4982683022\n",
      "sizeZygMed = 6.018635e6\n"
     ]
    },
    {
     "data": {
      "text/plain": [
       "6.018635e6"
      ]
     },
     "execution_count": 8,
     "metadata": {},
     "output_type": "execute_result"
    }
   ],
   "source": [
    "timesEnz2 = []\n",
    "timesZyg2 = []\n",
    "sizesEnz2 = []\n",
    "sizesZyg2 = []\n",
    "\n",
    "for i in 1:100\n",
    "    \n",
    "    gf(x) = 3x^3 * (cos(x) - 10x) # I don't understand a ton about Julia, but if I define this outside of the loop,\n",
    "                                             # the timed method doesn't work???\n",
    "    \n",
    "    valZyg, tZyg, sizeZyg = @timed gradient(x -> gf(x), x)\n",
    "\n",
    "    push!(timesZyg2, tZyg)\n",
    "    push!(sizesZyg2, sizeZyg)\n",
    "\n",
    "    valEnz, tEnz, sizeEnz = @timed autodiff(gf, Active(x))\n",
    "\n",
    "    push!(timesEnz2, tEnz)\n",
    "    push!(sizesEnz2, sizeEnz)\n",
    "\n",
    "end\n",
    "\n",
    "dataSci(timesEnz2, sizesEnz2, timesZyg2, sizesZyg2)"
   ]
  },
  {
   "cell_type": "markdown",
   "id": "bda17e4c-4171-48bb-b5b9-54d33b48517b",
   "metadata": {},
   "source": [
    "#### Function Three ####"
   ]
  },
  {
   "cell_type": "code",
   "execution_count": 14,
   "id": "04da9f87-8612-4324-9572-aed03f2f3ae6",
   "metadata": {},
   "outputs": [
    {
     "name": "stdout",
     "output_type": "stream",
     "text": [
      "timeEnzMean = 0.22160837142\n",
      "timeEnzVar = 0.007148965185897377\n",
      "timeEnzStd = 0.08455155342095955\n",
      "timeEnzMed = 0.1992649405\n",
      "sizeEnzMean = 8.28255332e6\n",
      "sizeEnzVar = 4.9230193674343474e7\n",
      "sizeEnzStd = 7016.423139630582\n",
      "sizeEnzMed = 8.281633e6\n",
      "timeZygMean = 0.09240678975000005\n",
      "timeZygVar = 0.004842086234737579\n",
      "timeZygStd = 0.06958510066628903\n",
      "timeZygMed = 0.0739500035\n",
      "sizeZygMean = 6.94505553e6\n",
      "sizeZygVar = 1.7102608380899878e9\n",
      "sizeZygStd = 41355.29999999985\n",
      "sizeZygMed = 6.94092e6\n"
     ]
    },
    {
     "data": {
      "text/plain": [
       "6.94092e6"
      ]
     },
     "execution_count": 14,
     "metadata": {},
     "output_type": "execute_result"
    }
   ],
   "source": [
    "timesEnz3 = []\n",
    "timesZyg3 = []\n",
    "sizesEnz3 = []\n",
    "sizesZyg3 = []\n",
    "\n",
    "for i in 1:100\n",
    "    \n",
    "    hf(x) = exp((5x / 2) * (sin(x)^(exp(x)))) # I don't understand a ton about Julia, but if I define this outside of the loop,\n",
    "                                              # the timed method doesn't work???\n",
    "    \n",
    "    valZyg, tZyg, sizeZyg = @timed gradient(x -> hf(x), x)\n",
    "\n",
    "    push!(timesZyg3, tZyg)\n",
    "    push!(sizesZyg3, sizeZyg)\n",
    "\n",
    "    valEnz, tEnz, sizeEnz = @timed autodiff(hf, Active(x))\n",
    "\n",
    "    push!(timesEnz3, tEnz)\n",
    "    push!(sizesEnz3, sizeEnz)\n",
    "\n",
    "end\n",
    "\n",
    "dataSci(timesEnz3, sizesEnz3, timesZyg3, sizesZyg3)"
   ]
  },
  {
   "cell_type": "markdown",
   "id": "78b54821-421f-4286-b214-476eb4afa530",
   "metadata": {},
   "source": [
    "#### Implications? ####\n",
    "\n",
    "As you can see from running the above functions and viewing the outputs, Zygote is on average twice to four times as fast as Enzyme, and significantly more efficient memory-wise. On average, Enzyme allocated anywhere between $10$% and $20$% more memory. Granted, these tests are not the best and significantly more can definitely be done to make certain which is more optimal but in our case Zygote clearly wins. This is expected because Zygote is specifically designed for Julia. "
   ]
  },
  {
   "cell_type": "markdown",
   "id": "2826cbdd-47dc-4168-a322-890fe68b3583",
   "metadata": {},
   "source": [
    "#### Practical Application ####\n",
    "\n",
    "Theory is great and all, but what's a simple application for differentiation? There's a wide range of applications from gradient-descent to modeling certain processes, but for our project we decided some simple rootfinding algorithms would be useful. Thus, below are some rootfinding implementations of these algorithms using Enzyme and Zygote which produce a more noticeable time and memory difference between the two packages."
   ]
  },
  {
   "cell_type": "markdown",
   "id": "3d9ea0b4-7650-4a08-9663-efda95e79ffc",
   "metadata": {},
   "source": [
    "# Newton's with Enzyme #"
   ]
  },
  {
   "cell_type": "code",
   "execution_count": 9,
   "id": "aba46eec-f308-459c-9cf1-cd0026503b25",
   "metadata": {},
   "outputs": [
    {
     "data": {
      "text/plain": [
       "(0.7390851332151607, 0.0, 5)"
      ]
     },
     "execution_count": 9,
     "metadata": {},
     "output_type": "execute_result"
    }
   ],
   "source": [
    "# testing Newton's with Enzyme\n",
    "\n",
    "function newtonE(f, x0; tol=1e-8, verbose=false)\n",
    "    x = x0\n",
    "    for k in 1:100 # max number of iterations\n",
    "        fx = f(x)\n",
    "        fpx = first(Enzyme.autodiff(f, Active(x)))\n",
    "        \n",
    "        if abs(fx) < tol\n",
    "            return x, fx, k\n",
    "        end\n",
    "        x = x - fx / fpx\n",
    "    end  \n",
    "end\n",
    "\n",
    "f(x) = cos(x) - x\n",
    "newtonE(f, 1; tol=1e-15, verbose=true)"
   ]
  },
  {
   "cell_type": "markdown",
   "id": "d6c968b5-2cc8-4e1b-90aa-33ec2a9e8e91",
   "metadata": {},
   "source": [
    "# Newton's with Zygote #"
   ]
  },
  {
   "cell_type": "code",
   "execution_count": 8,
   "id": "f447adfb-8563-4677-9f44-0ed874693c30",
   "metadata": {},
   "outputs": [
    {
     "data": {
      "text/plain": [
       "(0.7390851332151607, 0.0, 5)"
      ]
     },
     "execution_count": 8,
     "metadata": {},
     "output_type": "execute_result"
    }
   ],
   "source": [
    "# testing Newton's with Zygote\n",
    "\n",
    "function newtonZ(f, x0; tol=1e-8, verbose=false)\n",
    "    x = x0\n",
    "    for k in 1:100 # max number of iterations\n",
    "        fx = f(x)\n",
    "        fpx = first(Zygote.gradient(f, x))\n",
    "        \n",
    "        if abs(fx) < tol\n",
    "            return x, fx, k\n",
    "        end\n",
    "        x = x - fx / fpx\n",
    "    end  \n",
    "end\n",
    "\n",
    "f(x) = cos(x) - x\n",
    "newtonZ(f, 1; tol=1e-15, verbose=true)"
   ]
  },
  {
   "cell_type": "markdown",
   "id": "bcb6724b-749c-49a1-b8b7-04fec87e4dad",
   "metadata": {},
   "source": [
    "# Testing Netwon's #"
   ]
  },
  {
   "cell_type": "code",
   "execution_count": 43,
   "id": "d1118830-1dc6-4123-8967-56e9c86d5ebe",
   "metadata": {},
   "outputs": [
    {
     "name": "stdout",
     "output_type": "stream",
     "text": [
      "Enzyme Timing Results\n",
      "timeEnzMean = 0.0174871175\n",
      "timeEnzVar = 0.0006112476058558004\n",
      "timeEnzStd = 0.024723422211655903\n",
      "timeEnzMed = 0.0174871175\n",
      "Enzyme Memory Allocation Results\n",
      "sizeEnzMean = 3.534181e6\n",
      "sizeEnzVar = 2.4976573302258e13\n",
      "sizeEnzStd = 4.997656781158346e6\n",
      "sizeEnzMed = 3.534181e6\n",
      "Zygote Timing Results\n",
      "timeZygMean = 0.028452244\n",
      "timeZygVar = 0.0016182894132599221\n",
      "timeZygStd = 0.040227968047863445\n",
      "timeZygMed = 0.028452244\n",
      "Zygote Memory Allocation Results\n",
      "sizeZygMean = 6.538421e6\n",
      "sizeZygVar = 8.5496040021618e13\n",
      "sizeZygStd = 9.246406870867083e6\n",
      "sizeZygMed = 6.538421e6\n"
     ]
    },
    {
     "data": {
      "text/plain": [
       "6.538421e6"
      ]
     },
     "execution_count": 43,
     "metadata": {},
     "output_type": "execute_result"
    }
   ],
   "source": [
    "timesEnz = []\n",
    "timesZyg = []\n",
    "sizesEnz = []\n",
    "sizesZyg = []\n",
    "\n",
    "for i in 1:2\n",
    "    \n",
    "    func1() = newtonZ(f, 1; tol=1e-15, verbose=true)\n",
    "    func2() = newtonE(f, 1; tol=1e-15, verbose=true)\n",
    "    \n",
    "    valZyg, tZyg, sizeZyg = @timed func1()\n",
    "\n",
    "    push!(timesZyg, tZyg)\n",
    "    push!(sizesZyg, sizeZyg)\n",
    "\n",
    "    valEnz, tEnz, sizeEnz = @timed func2()\n",
    "\n",
    "    push!(timesEnz, tEnz)\n",
    "    push!(sizesEnz, sizeEnz)\n",
    "\n",
    "end\n",
    "\n",
    "dataSci(timesEnz, sizesEnz, timesZyg, sizesZyg)"
   ]
  },
  {
   "cell_type": "markdown",
   "id": "0b22bf03-189c-4d98-a767-a26326081caf",
   "metadata": {},
   "source": [
    "# Halley's with Enzyme #"
   ]
  },
  {
   "cell_type": "code",
   "execution_count": 18,
   "id": "5073decd-4054-4985-8a9c-589b02562d9a",
   "metadata": {},
   "outputs": [
    {
     "data": {
      "text/plain": [
       "(0.7390851332151607, 0.0, 5)"
      ]
     },
     "execution_count": 18,
     "metadata": {},
     "output_type": "execute_result"
    }
   ],
   "source": [
    "# halley's method with Enzyme\n",
    "\n",
    "function halleyE(f, x0; tol=1e-8, verbose=false)\n",
    "    x = x0\n",
    "    for k in 1:100 # max number of iterations\n",
    "        fx = f(x)\n",
    "        fpx = first(Enzyme.autodiff(f, Active(x)))\n",
    "        fppx = first(Enzyme.autodiff(f, Active(fpx)))\n",
    "        \n",
    "        if abs(fx) < tol\n",
    "            return x, fx, k\n",
    "        end\n",
    "        x = x - (2 * fx * fpx) / (2 * fpx^2 - fx * fppx)\n",
    "    end  \n",
    "end\n",
    "\n",
    "f(x) = cos(x) - x\n",
    "halleyE(f, 1; tol=1e-15, verbose=true)"
   ]
  },
  {
   "cell_type": "markdown",
   "id": "688d57dd-e5ac-4f64-9cf6-59dac265e771",
   "metadata": {},
   "source": [
    "# Halley's with Zygote #"
   ]
  },
  {
   "cell_type": "code",
   "execution_count": 19,
   "id": "a1b58e3c-ace6-4f16-b6c9-dfb37df3fa15",
   "metadata": {},
   "outputs": [
    {
     "data": {
      "text/plain": [
       "(0.7390851332151607, 0.0, 5)"
      ]
     },
     "execution_count": 19,
     "metadata": {},
     "output_type": "execute_result"
    }
   ],
   "source": [
    "# halley's method with Zygote\n",
    "\n",
    "function halleyZ(f, x0; tol=1e-8, verbose=false)\n",
    "    x = x0\n",
    "    for k in 1:100 # max number of iterations\n",
    "        fx = f(x)\n",
    "        fpx = first(Zygote.gradient(f, x))\n",
    "        fppx = first(Zygote.gradient(f, fpx))\n",
    "        \n",
    "        if abs(fx) < tol\n",
    "            return x, fx, k\n",
    "        end\n",
    "        x = x - (2 * fx * fpx) / (2 * fpx^2 - fx * fppx)\n",
    "    end  \n",
    "end\n",
    "\n",
    "f(x) = cos(x) - x\n",
    "halleyZ(f, 1; tol=1e-15, verbose=true)"
   ]
  },
  {
   "cell_type": "markdown",
   "id": "7e43fb2a-95f7-4937-924f-de73eef8f900",
   "metadata": {},
   "source": [
    "# Testing Halley's #"
   ]
  },
  {
   "cell_type": "code",
   "execution_count": 20,
   "id": "a221fac6-8857-4c9a-91e4-96645fc2ef50",
   "metadata": {},
   "outputs": [
    {
     "name": "stdout",
     "output_type": "stream",
     "text": [
      "timeEnzMean = 0.1737424335\n",
      "timeEnzVar = 0.060363269941324\n",
      "timeEnzStd = 0.24568937694032275\n",
      "timeEnzMed = 0.1737424335\n",
      "sizeEnzMean = 7.32284e6\n",
      "sizeEnzVar = 1.07236723743872e14\n",
      "sizeEnzStd = 1.0355516585080244e7\n",
      "sizeEnzMed = 7.32284e6\n",
      "timeZygMean = 0.033445165000000006\n",
      "timeZygVar = 0.0022317276541686084\n",
      "timeZygStd = 0.04724116482654305\n",
      "timeZygMed = 0.033445165000000006\n",
      "sizeZygMean = 6.775958e6\n",
      "sizeZygVar = 9.1821142477512e13\n",
      "sizeZygStd = 9.582334917832501e6\n",
      "sizeZygMed = 6.775958e6\n"
     ]
    },
    {
     "data": {
      "text/plain": [
       "6.775958e6"
      ]
     },
     "execution_count": 20,
     "metadata": {},
     "output_type": "execute_result"
    }
   ],
   "source": [
    "timesEnz = []\n",
    "timesZyg = []\n",
    "sizesEnz = []\n",
    "sizesZyg = []\n",
    "\n",
    "for i in 1:2\n",
    "    \n",
    "    func1() = halleyZ(f, 1; tol=1e-15, verbose=true)\n",
    "    func2() = halleyE(f, 1; tol=1e-15, verbose=true)\n",
    "    \n",
    "    valZyg, tZyg, sizeZyg = @timed func1()\n",
    "\n",
    "    push!(timesZyg, tZyg)\n",
    "    push!(sizesZyg, sizeZyg)\n",
    "\n",
    "    valEnz, tEnz, sizeEnz = @timed func2()\n",
    "\n",
    "    push!(timesEnz, tEnz)\n",
    "    push!(sizesEnz, sizeEnz)\n",
    "\n",
    "end\n",
    "\n",
    "dataSci(timesEnz, sizesEnz, timesZyg, sizesZyg)"
   ]
  },
  {
   "cell_type": "markdown",
   "id": "3e6259e8-8aff-409f-905d-8afc3ec8508d",
   "metadata": {},
   "source": [
    "# Golbabai-Javidi's with Enzyme #"
   ]
  },
  {
   "cell_type": "code",
   "execution_count": 21,
   "id": "84fcda80-5290-4dec-9694-652459ee0130",
   "metadata": {},
   "outputs": [
    {
     "data": {
      "text/plain": [
       "(0.739085133215161, -6.661338147750939e-16, 8)"
      ]
     },
     "execution_count": 21,
     "metadata": {},
     "output_type": "execute_result"
    }
   ],
   "source": [
    "# Golbabai-Javidi's method with Enzyme\n",
    "\n",
    "function GJ_E(f, x0; tol=1e-8, verbose=false)\n",
    "    x = x0\n",
    "    for k in 1:100 # max number of iterations\n",
    "        fx = f(x)\n",
    "        fpx = first(Enzyme.autodiff(f, Active(x)))\n",
    "        fppx = first(Enzyme.autodiff(f, Active(fpx)))\n",
    "        fpppx = first(Enzyme.autodiff(f, Active(fppx)))\n",
    "        \n",
    "        if abs(fx) < tol\n",
    "            return x, fx, k\n",
    "        end\n",
    "        x = x - (fx / fpx) - ((fx * fppx) / (2 * (fpppx - (fx * fpx * fppx))))\n",
    "    end  \n",
    "end\n",
    "\n",
    "f(x) = cos(x) - x\n",
    "GJ_E(f, 1; tol=1e-15, verbose=true)"
   ]
  },
  {
   "cell_type": "markdown",
   "id": "6bc9f270-cc54-4ef8-8675-17c18dc7765d",
   "metadata": {},
   "source": [
    "# Golbabai-Javidi's with Zygote #"
   ]
  },
  {
   "cell_type": "code",
   "execution_count": 22,
   "id": "aa650a2e-7815-4cd5-b2ff-df68411cb86a",
   "metadata": {},
   "outputs": [
    {
     "data": {
      "text/plain": [
       "(0.739085133215161, -6.661338147750939e-16, 8)"
      ]
     },
     "execution_count": 22,
     "metadata": {},
     "output_type": "execute_result"
    }
   ],
   "source": [
    "# Golbabai-Javidi's method with Zygote\n",
    "\n",
    "function GJ_Z(f, x0; tol=1e-8, verbose=false)\n",
    "    x = x0\n",
    "    for k in 1:100 # max number of iterations\n",
    "        fx = f(x)\n",
    "        fpx = first(Zygote.gradient(f, x))\n",
    "        fppx = first(Zygote.gradient(f, fpx))\n",
    "        fpppx = first(Zygote.gradient(f, fppx))\n",
    "        \n",
    "        if abs(fx) < tol\n",
    "            return x, fx, k\n",
    "        end\n",
    "        x = x - (fx / fpx) - ((fx * fppx) / (2 * (fpppx - (fx * fpx * fppx))))\n",
    "    end  \n",
    "end\n",
    "\n",
    "f(x) = cos(x) - x\n",
    "GJ_Z(f, 1; tol=1e-15, verbose=true)"
   ]
  },
  {
   "cell_type": "markdown",
   "id": "a848aa6e-8038-4dd4-8f87-6b2b70619a24",
   "metadata": {},
   "source": [
    "# Testing Golbabai-Javidi's #"
   ]
  },
  {
   "cell_type": "code",
   "execution_count": 23,
   "id": "b75ae709-6076-4a7e-bef6-a4bf376ae0e8",
   "metadata": {},
   "outputs": [
    {
     "name": "stdout",
     "output_type": "stream",
     "text": [
      "timeEnzMean = 0.1092619915\n",
      "timeEnzVar = 0.02387052216230604\n",
      "timeEnzStd = 0.15450088078165133\n",
      "timeEnzMed = 0.1092619915\n",
      "sizeEnzMean = 7.4284765e6\n",
      "sizeEnzVar = 1.103464609065845e14\n",
      "sizeEnzStd = 1.0504592372223899e7\n",
      "sizeEnzMed = 7.4284765e6\n",
      "timeZygMean = 0.0327535895\n",
      "timeZygVar = 0.0021443713577055244\n",
      "timeZygStd = 0.046307357489987745\n",
      "timeZygMed = 0.0327535895\n",
      "sizeZygMean = 6.805598e6\n",
      "sizeZygVar = 9.2626230559752e13\n",
      "sizeZygStd = 9.624252207821239e6\n",
      "sizeZygMed = 6.805598e6\n"
     ]
    },
    {
     "data": {
      "text/plain": [
       "6.805598e6"
      ]
     },
     "execution_count": 23,
     "metadata": {},
     "output_type": "execute_result"
    }
   ],
   "source": [
    "timesEnz = []\n",
    "timesZyg = []\n",
    "sizesEnz = []\n",
    "sizesZyg = []\n",
    "\n",
    "for i in 1:2\n",
    "    \n",
    "    func1() = GJ_Z(f, 1; tol=1e-15, verbose=true)\n",
    "    func2() = GJ_E(f, 1; tol=1e-15, verbose=true)\n",
    "    \n",
    "    valZyg, tZyg, sizeZyg = @timed func1()\n",
    "\n",
    "    push!(timesZyg, tZyg)\n",
    "    push!(sizesZyg, sizeZyg)\n",
    "\n",
    "    valEnz, tEnz, sizeEnz = @timed func2()\n",
    "\n",
    "    push!(timesEnz, tEnz)\n",
    "    push!(sizesEnz, sizeEnz)\n",
    "\n",
    "end\n",
    "\n",
    "dataSci(timesEnz, sizesEnz, timesZyg, sizesZyg)"
   ]
  },
  {
   "cell_type": "markdown",
   "id": "c470f032-3a8c-4bd1-a16f-b001b415f78b",
   "metadata": {},
   "source": [
    "# Noor's with Enzyme #"
   ]
  },
  {
   "cell_type": "code",
   "execution_count": 24,
   "id": "2e2f3679-473e-48fe-998b-c16492f1c5c5",
   "metadata": {},
   "outputs": [
    {
     "data": {
      "text/plain": [
       "(2.391867219711847e-8, 5.72102879673208e-16, 62)"
      ]
     },
     "execution_count": 24,
     "metadata": {},
     "output_type": "execute_result"
    }
   ],
   "source": [
    "# Noor's method with Enzyme\n",
    "\n",
    "function noorE(f, x0; tol=1e-8, verbose=false)\n",
    "    x = x0\n",
    "    for k in 1:100 # max number of iterations\n",
    "        fx = f(x)\n",
    "        fpx = first(Enzyme.autodiff(f, Active(x)))\n",
    "        y = x - fx/fpx\n",
    "        fpy = first(Enzyme.autodiff(f, Active(y)))\n",
    "        \n",
    "        if abs(fx) < tol\n",
    "            return x, fx, k\n",
    "        end\n",
    "        x = x - (fx / fpx) + (fx / fpx) * (fpy / fpx)\n",
    "    end  \n",
    "end\n",
    "\n",
    "f(x) = x * x\n",
    "noorE(f, 1; tol=1e-15, verbose=true)"
   ]
  },
  {
   "cell_type": "markdown",
   "id": "38ca6cd1-38c3-4293-a140-b399209f7fc9",
   "metadata": {},
   "source": [
    "# Noor's with Zygote #"
   ]
  },
  {
   "cell_type": "code",
   "execution_count": 25,
   "id": "953efea1-9156-4309-b73f-7b0d86b7adca",
   "metadata": {},
   "outputs": [
    {
     "data": {
      "text/plain": [
       "(2.391867219711847e-8, 5.72102879673208e-16, 62)"
      ]
     },
     "execution_count": 25,
     "metadata": {},
     "output_type": "execute_result"
    }
   ],
   "source": [
    "# Noor's method with Zygote\n",
    "\n",
    "function noorZ(f, x0; tol=1e-8, verbose=false)\n",
    "    x = x0\n",
    "    for k in 1:100 # max number of iterations\n",
    "        fx = f(x)\n",
    "        fpx = first(Zygote.gradient(f, x))\n",
    "        y = x - fx/fpx\n",
    "        fpy = first(Zygote.gradient(f, y))\n",
    "        \n",
    "        if abs(fx) < tol\n",
    "            return x, fx, k\n",
    "        end\n",
    "        x = x - (fx / fpx) + (fx / fpx) * (fpy / fpx)\n",
    "    end  \n",
    "end\n",
    "\n",
    "f(x) = x * x\n",
    "noorZ(f, 1; tol=1e-15, verbose=true)"
   ]
  },
  {
   "cell_type": "markdown",
   "id": "d4342d5b-74a0-4c23-90bb-8231fb82521e",
   "metadata": {},
   "source": [
    "# Testing Noor's #"
   ]
  },
  {
   "cell_type": "code",
   "execution_count": 26,
   "id": "993b21cb-b5d6-4fcf-a714-6403517c56c6",
   "metadata": {},
   "outputs": [
    {
     "name": "stdout",
     "output_type": "stream",
     "text": [
      "timeEnzMean = 0.1190844425\n",
      "timeEnzVar = 0.028321606111369513\n",
      "timeEnzStd = 0.16829024366067544\n",
      "timeEnzMed = 0.1190844425\n",
      "sizeEnzMean = 5.5767465e6\n",
      "sizeEnzVar = 6.21509589759645e13\n",
      "sizeEnzStd = 7.88358795067097e6\n",
      "sizeEnzMed = 5.5767465e6\n",
      "timeZygMean = 0.030482049\n",
      "timeZygVar = 0.0018577122470677622\n",
      "timeZygStd = 0.043101186144557116\n",
      "timeZygMed = 0.030482049\n",
      "sizeZygMean = 5.244526e6\n",
      "sizeZygVar = 5.5005406934408e13\n",
      "sizeZygStd = 7.416563013580347e6\n",
      "sizeZygMed = 5.244526e6\n"
     ]
    },
    {
     "data": {
      "text/plain": [
       "5.244526e6"
      ]
     },
     "execution_count": 26,
     "metadata": {},
     "output_type": "execute_result"
    }
   ],
   "source": [
    "timesEnz = []\n",
    "timesZyg = []\n",
    "sizesEnz = []\n",
    "sizesZyg = []\n",
    "\n",
    "for i in 1:2\n",
    "    \n",
    "    func1() = noorZ(f, 1; tol=1e-15, verbose=true)\n",
    "    func2() = noorE(f, 1; tol=1e-15, verbose=true)\n",
    "    \n",
    "    valZyg, tZyg, sizeZyg = @timed func1()\n",
    "\n",
    "    push!(timesZyg, tZyg)\n",
    "    push!(sizesZyg, sizeZyg)\n",
    "\n",
    "    valEnz, tEnz, sizeEnz = @timed func2()\n",
    "\n",
    "    push!(timesEnz, tEnz)\n",
    "    push!(sizesEnz, sizeEnz)\n",
    "\n",
    "end\n",
    "\n",
    "dataSci(timesEnz, sizesEnz, timesZyg, sizesZyg)"
   ]
  },
  {
   "cell_type": "markdown",
   "id": "7c61ff62-6d6d-4fdb-82e1-9da5ba54d1fd",
   "metadata": {},
   "source": [
    "# Zhanlav's with Enzyme #"
   ]
  },
  {
   "cell_type": "code",
   "execution_count": 27,
   "id": "9d8331cb-4b80-4237-8d38-6d31413ea465",
   "metadata": {},
   "outputs": [
    {
     "data": {
      "text/plain": [
       "(0.7390851332151607, 0.0, 4)"
      ]
     },
     "execution_count": 27,
     "metadata": {},
     "output_type": "execute_result"
    }
   ],
   "source": [
    "# Zhanlav's method with Enzyme\n",
    "\n",
    "function zhanlavE(f, x0; tol=1e-8, verbose=false)\n",
    "    x = x0\n",
    "    for k in 1:1000 # max number of iterations\n",
    "        \n",
    "        fx = f(x)\n",
    "        fpx = first(Enzyme.autodiff(f, Active(x)))\n",
    "        \n",
    "        z = x - fx/fpx\n",
    "        fz = f(z)\n",
    "        fpz = first(Enzyme.autodiff(f, Active(z)))\n",
    "\n",
    "        q = z - fz/fpz\n",
    "        fq = f(q)\n",
    "        \n",
    "        \n",
    "        if abs(fx) < tol\n",
    "            return x, fx, k\n",
    "        end\n",
    "        x = z - (fz + fq)/fpx\n",
    "    end  \n",
    "end\n",
    "\n",
    "f(x) = cos(x) - x\n",
    "zhanlavE(f, 1; tol=1e-15, verbose=true)"
   ]
  },
  {
   "cell_type": "markdown",
   "id": "6f5708dc-aff6-455f-9b9c-c5ea04320615",
   "metadata": {},
   "source": [
    "# Zhanlav's with Zygote #"
   ]
  },
  {
   "cell_type": "code",
   "execution_count": 28,
   "id": "faf7c82c-48fb-4420-84bd-cd70fbf64545",
   "metadata": {},
   "outputs": [
    {
     "data": {
      "text/plain": [
       "(0.7390851332151607, 0.0, 4)"
      ]
     },
     "execution_count": 28,
     "metadata": {},
     "output_type": "execute_result"
    }
   ],
   "source": [
    "# Zhanlav's method with Zygote\n",
    "\n",
    "function zhanlavZ(f, x0; tol=1e-8, verbose=false)\n",
    "    x = x0\n",
    "    for k in 1:1000 # max number of iterations\n",
    "        \n",
    "        fx = f(x)\n",
    "        fpx = first(Zygote.gradient(f, x))\n",
    "        \n",
    "        z = x - fx/fpx\n",
    "        fz = f(z)\n",
    "        fpz = first(Zygote.gradient(f, z))\n",
    "        \n",
    "        q = z - fz/fpz\n",
    "        fq = f(q)\n",
    "        \n",
    "        if abs(fx) < tol\n",
    "            return x, fx, k\n",
    "        end\n",
    "        x = z - (fz + fq)/fpx\n",
    "    end  \n",
    "end\n",
    "\n",
    "f(x) = cos(x) - x\n",
    "zhanlavZ(f, 1; tol=1e-15, verbose=true)"
   ]
  },
  {
   "cell_type": "markdown",
   "id": "0c43a1d0-51dc-47f0-b65d-ed2736b4caf0",
   "metadata": {},
   "source": [
    "# Testing Zhanlav's #"
   ]
  },
  {
   "cell_type": "code",
   "execution_count": 29,
   "id": "a96d78f0-20b5-470d-a232-4f8b4e5eb22c",
   "metadata": {},
   "outputs": [
    {
     "name": "stdout",
     "output_type": "stream",
     "text": [
      "timeEnzMean = 0.1159427135\n",
      "timeEnzVar = 0.026880790437600482\n",
      "timeEnzStd = 0.1639536228254822\n",
      "timeEnzMed = 0.1159427135\n",
      "sizeEnzMean = 7.3470685e6\n",
      "sizeEnzVar = 1.079484866627445e14\n",
      "sizeEnzStd = 1.0389826113210196e7\n",
      "sizeEnzMed = 7.3470685e6\n",
      "timeZygMean = 0.037009609\n",
      "timeZygVar = 0.0027380449921848315\n",
      "timeZygStd = 0.05232633172872747\n",
      "timeZygMed = 0.037009609\n",
      "sizeZygMean = 6.786782e6\n",
      "sizeZygVar = 9.2114738974728e13\n",
      "sizeZygStd = 9.597642365431627e6\n",
      "sizeZygMed = 6.786782e6\n"
     ]
    },
    {
     "data": {
      "text/plain": [
       "6.786782e6"
      ]
     },
     "execution_count": 29,
     "metadata": {},
     "output_type": "execute_result"
    }
   ],
   "source": [
    "timesEnz = []\n",
    "timesZyg = []\n",
    "sizesEnz = []\n",
    "sizesZyg = []\n",
    "\n",
    "for i in 1:2\n",
    "    \n",
    "    func1() = zhanlavZ(f, 1; tol=1e-15, verbose=true)\n",
    "    func2() = zhanlavE(f, 1; tol=1e-15, verbose=true)\n",
    "    \n",
    "    valZyg, tZyg, sizeZyg = @timed func1()\n",
    "\n",
    "    push!(timesZyg, tZyg)\n",
    "    push!(sizesZyg, sizeZyg)\n",
    "\n",
    "    valEnz, tEnz, sizeEnz = @timed func2()\n",
    "\n",
    "    push!(timesEnz, tEnz)\n",
    "    push!(sizesEnz, sizeEnz)\n",
    "\n",
    "end\n",
    "\n",
    "dataSci(timesEnz, sizesEnz, timesZyg, sizesZyg)"
   ]
  },
  {
   "cell_type": "markdown",
   "id": "24634266-7f41-4c60-a887-6f626f9c785a",
   "metadata": {},
   "source": [
    "# Rootfiinding Results #\n",
    "\n",
    "For every method we have that Zygote is quicker and allocates less memory. In some cases Enzyme was much slower, but the memory allocation was generally the same. Thus, the root-finding results support our findings in the initial tests and our aforementioned conclusions."
   ]
  }
 ],
 "metadata": {
  "kernelspec": {
   "display_name": "Julia 1.6.1",
   "language": "julia",
   "name": "julia-1.6"
  },
  "language_info": {
   "file_extension": ".jl",
   "mimetype": "application/julia",
   "name": "julia",
   "version": "1.6.1"
  }
 },
 "nbformat": 4,
 "nbformat_minor": 5
}
