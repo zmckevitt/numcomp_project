{
 "cells": [
  {
   "cell_type": "markdown",
   "id": "8f4a3ab4-46eb-42f7-9886-9d92d703df17",
   "metadata": {},
   "source": [
    "# Welcome! #\n",
    "## Enzyme and Zygote Performance Shootout ##\n",
    "\n",
    "### Project Information ###\n",
    "\n",
    "If you're interested in seeing a project synopsis and the benchmarks for performance we'll measuring, please take a look at our project documentation. \n",
    "\n",
    "### What Now? ###\n",
    "\n",
    "Let's start by setting up Enzyme and Zygote in our environment to start testing some differentiation. Our primary benchmark is the physical timing of a differentiation operation. In order to measure this we will simply be using the `@time` Julia method. These times will then be compared to measure how fast differentiation is actually done, along with comparing other important benchmarks.\n",
    "\n",
    "#### Import the Packages ####"
   ]
  },
  {
   "cell_type": "code",
   "execution_count": 1,
   "id": "6e90859f-b2bf-4445-841b-5bb7a1842f19",
   "metadata": {},
   "outputs": [],
   "source": [
    "using Pkg\n",
    "\n",
    "Pkg.add(\"Enzyme\")\n",
    "Pkg.add(\"Zygote\")"
   ]
  },
  {
   "cell_type": "code",
   "execution_count": 2,
   "id": "ea6ab306-c25b-447f-93b5-b1fd78f86453",
   "metadata": {},
   "outputs": [],
   "source": [
    "using Zygote\n",
    "using Enzyme"
   ]
  },
  {
   "cell_type": "markdown",
   "id": "00e47575-cc71-4117-902e-a26381f3430f",
   "metadata": {},
   "source": [
    "#### What Next? ####\n",
    "\n",
    "Now that the packages have been added to the environment, we can start testing them out. First, a quick demonstration of the timing function we will be using. "
   ]
  },
  {
   "cell_type": "code",
   "execution_count": 3,
   "id": "c69fc010-4ab8-4f4c-bded-1ee063914f2b",
   "metadata": {},
   "outputs": [
    {
     "name": "stdout",
     "output_type": "stream",
     "text": [
      "  0.000052 seconds\n"
     ]
    },
    {
     "data": {
      "text/plain": [
       "10946"
      ]
     },
     "execution_count": 3,
     "metadata": {},
     "output_type": "execute_result"
    }
   ],
   "source": [
    "function fib(n)\n",
    "    if n <= 1\n",
    "        return 1\n",
    "    else\n",
    "        return fib(n - 1) + fib(n - 2)\n",
    "    end\n",
    "end\n",
    "    \n",
    "@time fib(20)"
   ]
  },
  {
   "cell_type": "markdown",
   "id": "47db2c2e-b529-4fa7-a597-e5abfa5039a1",
   "metadata": {},
   "source": [
    "#### Functions ####\n",
    "\n",
    "For this shootout we will be handling differentiation for rootfinding problems. Specifically, we will be testing differentiation efficiency on four different rootfinding algorithms, being Halley's, Golbabai-Jacobi, Newton's, and Bisection."
   ]
  }
 ],
 "metadata": {
  "kernelspec": {
   "display_name": "Julia 1.6.1",
   "language": "julia",
   "name": "julia-1.6"
  },
  "language_info": {
   "file_extension": ".jl",
   "mimetype": "application/julia",
   "name": "julia",
   "version": "1.6.1"
  }
 },
 "nbformat": 4,
 "nbformat_minor": 5
}
